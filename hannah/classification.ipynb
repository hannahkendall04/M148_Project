{
 "cells": [
  {
   "cell_type": "markdown",
   "metadata": {},
   "source": [
    "# Project Check In Week 5: Classification\n",
    "---"
   ]
  },
  {
   "cell_type": "markdown",
   "metadata": {},
   "source": [
    "The below code is a simple implementation of a classification model using the Random Forest algorithm for the spotify dataset. \n",
    "\n",
    "We use the same binary variable as the previous week, which is the **genre of the song**, specifically the subset of the data that contains the genres **'cantopop'** and **'chicago-house'**. \n",
    "\n",
    "We will use the Random Forest algorithm to classify the genre of the song based on the other features in the dataset."
   ]
  },
  {
   "cell_type": "code",
   "execution_count": 14,
   "metadata": {},
   "outputs": [],
   "source": [
    "# Imports\n",
    "import pandas as pd \n",
    "import numpy as np\n",
    "import plotly.express as px\n",
    "from sklearn.tree import DecisionTreeClassifier\n",
    "from sklearn.ensemble import RandomForestClassifier\n",
    "from sklearn import metrics\n",
    "from sklearn.model_selection import train_test_split\n",
    "\n",
    "\n",
    "pd.set_option('display.max_columns', None)\n",
    "pd.options.display.max_colwidth = 500\n",
    "pd.options.display.max_rows = 100"
   ]
  },
  {
   "cell_type": "code",
   "execution_count": 15,
   "metadata": {},
   "outputs": [],
   "source": [
    "# Load data\n",
    "classification_data_orig = pd.read_excel('clean_data.xlsx')"
   ]
  },
  {
   "cell_type": "markdown",
   "metadata": {},
   "source": [
    "### Data Preprocessing and Selection\n",
    "\n",
    "\n",
    "To apply binary classification, we select two specific music genres from our dataset and assign the classes for them:\n",
    "- `genre_1` (`chicago-house`) is set as the positive class (1).\n",
    "- `genre_2` (`cantopop`) is set as the negative class (0).\n",
    "\n",
    "To ensure compatibility with classification models in scikit-learn, we: \n",
    "- Filter our dataset to only include numeric columns and the selected binary genre labels.\n",
    "- Remove any unnecessary columns, such as 'Unnamed: 0', and focus only on relevant predictor variables.\n",
    "- Split the data into training and validation sets (stratified split to ensure both sets have same proportion of class 1 and class 0, which helps maintain the representativeness of the classes in each set)"
   ]
  },
  {
   "cell_type": "code",
   "execution_count": 31,
   "metadata": {},
   "outputs": [
    {
     "name": "stdout",
     "output_type": "stream",
     "text": [
      "Proportion of Cantopop in training set: 0.5\n",
      "Proportion of Cantopop in validation set: 0.5\n"
     ]
    },
    {
     "name": "stderr",
     "output_type": "stream",
     "text": [
      "C:\\Users\\FPT\\AppData\\Local\\Temp\\ipykernel_17868\\2681597277.py:17: FutureWarning:\n",
      "\n",
      "Downcasting behavior in `replace` is deprecated and will be removed in a future version. To retain the old behavior, explicitly call `result.infer_objects(copy=False)`. To opt-in to the future behavior, set `pd.set_option('future.no_silent_downcasting', True)`\n",
      "\n"
     ]
    }
   ],
   "source": [
    "# Select a subset of the data s.t. we only have 2 classes\n",
    "# We will use the 'genre' column to create the classes\n",
    "genre_1 = \"chicago-house\" # will convert to be the positive class (1)\n",
    "genre_2 = \"cantopop\" # will convert to be the negative class (0)\n",
    "\n",
    "\n",
    "# Since categorical variables are not directly supported by sklearn, we will use dummy encoding to convert them to numerical\n",
    "# Since we just are dealing with the binary categorical response variable from the previous check in, we will use 0 and 1 to represent the classes\n",
    "d = {\n",
    "    genre_1: 1,\n",
    "    genre_2: 0\n",
    "}\n",
    "\n",
    "# Split data into training and validation sets (no testing set for project check in)\n",
    "\n",
    "classification_data = classification_data_orig[classification_data_orig[\"track_genre\"].isin([genre_1, genre_2])]\n",
    "classification_data = classification_data.replace({\"track_genre\": d}).select_dtypes(include=[np.number]).drop(columns=\"Unnamed: 0\")\n",
    "\n",
    "# With selected predictor variables:\n",
    "classification_data = classification_data[['danceability', 'acousticness', 'instrumentalness','time_signature', 'track_genre']]\n",
    "\n",
    "# Split data into training and validation sets - stratified split to ensure same proportion of classes in both sets\n",
    "classification_data_train, classification_data_val = train_test_split(classification_data, test_size=0.2, random_state=42, stratify=classification_data[\"track_genre\"])\n",
    "\n",
    "# Check the proportion of classes in the training and validation sets\n",
    "\n",
    "prop_zero_train = (classification_data_train[\"track_genre\"] == 0).sum() / len(classification_data_train)\n",
    "prop_zero_val = (classification_data_val[\"track_genre\"] == 0).sum() / len(classification_data_val)\n",
    "\n",
    "print(\"Proportion of Cantopop in training set:\", prop_zero_train)\n",
    "print(\"Proportion of Cantopop in validation set:\", prop_zero_val)\n",
    "\n",
    "assert np.isclose(prop_zero_train, prop_zero_val, atol=0.05), \"Proportion of classes in training and validation sets are not the same\""
   ]
  },
  {
   "cell_type": "markdown",
   "metadata": {},
   "source": [
    "###  Decision Tree Classifier\n",
    "We start by training a Decision Tree Classifier to classify the selected genres. \n",
    "\n",
    "We fit the classifier on the training set and predict the probabilities for the validation set, specifically extracting probabilities for class \"1\" (chicago-house). \n",
    "\n",
    "Then, calculate the confusion matrix, accuracy, prediction error, F1 score, true positive rate (TPR), and true negative rate (TNR)."
   ]
  },
  {
   "cell_type": "code",
   "execution_count": 38,
   "metadata": {},
   "outputs": [],
   "source": [
    "# Create the Decision Tree Classifier\n",
    "classification_cart = DecisionTreeClassifier(min_samples_split=20, max_depth=30)\n",
    "\n",
    "# Fit the classifier to the training data \n",
    "classification_cart.fit(classification_data_train.drop(columns=\"track_genre\"), classification_data_train[\"track_genre\"])\n",
    "\n",
    "# Compute validation set predictions (probability) and only keep the positive class (chicago-house) probabilities\n",
    "classification_val_pred = classification_cart.predict_proba(classification_data_val.drop(columns=\"track_genre\"))[:, 1]\n"
   ]
  },
  {
   "cell_type": "code",
   "execution_count": 39,
   "metadata": {},
   "outputs": [
    {
     "data": {
      "text/plain": [
       "12835    1\n",
       "12460    1\n",
       "12498    1\n",
       "11283    0\n",
       "12248    1\n",
       "        ..\n",
       "11431    0\n",
       "11857    0\n",
       "12685    1\n",
       "11438    0\n",
       "11383    0\n",
       "Name: track_genre, Length: 400, dtype: int64"
      ]
     },
     "execution_count": 39,
     "metadata": {},
     "output_type": "execute_result"
    }
   ],
   "source": [
    "classification_data_val[\"track_genre\"]"
   ]
  },
  {
   "cell_type": "code",
   "execution_count": 40,
   "metadata": {},
   "outputs": [
    {
     "name": "stdout",
     "output_type": "stream",
     "text": [
      "Decision Tree Classifier Accuracy: 0.955\n",
      "Decision Tree Classifier Error: 0.04500000000000004\n",
      "Decision Tree Classifier F1 Score: 0.9538461538461539\n",
      "Decision Tree Classifier Model TPR: 0.93\n",
      "Decision Tree Classifier Model TNR: 0.98\n"
     ]
    }
   ],
   "source": [
    "# Computer the confusion matrix for the Decision Tree Classifier model\n",
    "conf_matrix_dt = metrics.confusion_matrix(classification_data_val[\"track_genre\"], classification_val_pred > 0.5)\n",
    "\n",
    "pred_accuracy_dt = (conf_matrix_dt[0, 0] + conf_matrix_dt[1, 1]) / np.sum(conf_matrix_dt)\n",
    "pred_error_dt = 1 - pred_accuracy_dt\n",
    "f1_score_dt = metrics.f1_score(classification_data_val[\"track_genre\"], classification_val_pred > 0.5)\n",
    "\n",
    "print(f\"Decision Tree Classifier Accuracy: {pred_accuracy_dt}\")\n",
    "print(f\"Decision Tree Classifier Error: {pred_error_dt}\")\n",
    "print(f\"Decision Tree Classifier F1 Score: {f1_score_dt}\")\n",
    "print(f\"Decision Tree Classifier Model TPR: {conf_matrix_dt[1, 1] / np.sum(conf_matrix_dt[1, :])}\")\n",
    "print(f\"Decision Tree Classifier Model TNR: {conf_matrix_dt[0, 0] / np.sum(conf_matrix_dt[0, :])}\")"
   ]
  },
  {
   "cell_type": "markdown",
   "metadata": {},
   "source": [
    "### Random Forest Classifier\n",
    "Now we train a Random Forest Classifier on the same data.\n",
    "\n",
    "We also calculate these metrics: confusion matrix, accuracy, prediction error, F1 score, true positive rate (TPR), and true negative rate (TNR)."
   ]
  },
  {
   "cell_type": "code",
   "execution_count": 41,
   "metadata": {},
   "outputs": [],
   "source": [
    "# Random Forest Algorithm\n",
    "rf = RandomForestClassifier(random_state=8743)\n",
    "rf.fit(classification_data_train.drop(columns=\"track_genre\"), classification_data_train[\"track_genre\"]) \n",
    "\n",
    "rf_val_pred = rf.predict_proba(classification_data_val.drop(columns=\"track_genre\"))[:, 1]"
   ]
  },
  {
   "cell_type": "code",
   "execution_count": 10,
   "metadata": {},
   "outputs": [
    {
     "name": "stdout",
     "output_type": "stream",
     "text": [
      "Random Forest Model Accuracy: 0.98\n",
      "Random Forest Model Error: 0.020000000000000018\n",
      "Random Forest Model F1 Score: 0.9798994974874372\n",
      "Random Model TPR: 0.975\n",
      "Random Model TNR: 0.985\n"
     ]
    }
   ],
   "source": [
    "# Computer the confusion matrix for the RF model\n",
    "conf_matrix_rf = metrics.confusion_matrix(classification_data_val[\"track_genre\"], rf_val_pred > 0.5)\n",
    "\n",
    "pred_accuracy_rf = (conf_matrix_rf[0, 0] + conf_matrix_rf[1, 1]) / np.sum(conf_matrix_rf)\n",
    "pred_error_rf = 1 - pred_accuracy_rf\n",
    "f1_score_rf = metrics.f1_score(classification_data_val[\"track_genre\"], rf_val_pred > 0.5)\n",
    "\n",
    "print(f\"Random Forest Model Accuracy: {pred_accuracy_rf}\")\n",
    "print(f\"Random Forest Model Error: {pred_error_rf}\")\n",
    "print(f\"Random Forest Model F1 Score: {f1_score_rf}\")\n",
    "print(f\"Random Model TPR: {conf_matrix_rf[1, 1] / np.sum(conf_matrix_rf[1, :])}\")\n",
    "print(f\"Random Model TNR: {conf_matrix_rf[0, 0] / np.sum(conf_matrix_rf[0, :])}\")"
   ]
  },
  {
   "cell_type": "markdown",
   "metadata": {},
   "source": [
    "### ROC Curve and AUC Calculation\n"
   ]
  },
  {
   "cell_type": "markdown",
   "metadata": {},
   "source": [
    "#### Plotting the ROC Curve and Calculating AUC\n",
    "\n",
    "We plot the ROC curve and calculate the AUC score for the Random Forest model to assess its classification performance. \n"
   ]
  },
  {
   "cell_type": "code",
   "execution_count": 11,
   "metadata": {},
   "outputs": [
    {
     "data": {
      "application/vnd.plotly.v1+json": {
       "config": {
        "plotlyServerURL": "https://plot.ly"
       },
       "data": [
        {
         "hovertemplate": "Model=RF<br>False Positive Rate=%{x}<br>True Positive Rate=%{y}<extra></extra>",
         "legendgroup": "RF",
         "line": {
          "color": "#636efa",
          "dash": "solid"
         },
         "marker": {
          "symbol": "circle"
         },
         "mode": "lines",
         "name": "RF",
         "orientation": "v",
         "showlegend": true,
         "type": "scatter",
         "x": [
          0,
          0,
          0.005,
          0.005,
          0.005,
          0.005,
          0.005,
          0.005,
          0.005,
          0.005,
          0.01,
          0.015,
          0.015,
          0.015,
          0.015,
          0.015,
          0.015,
          0.015,
          0.02,
          0.02,
          0.035,
          0.035,
          0.04,
          0.045,
          0.05,
          0.06,
          0.075,
          0.08,
          0.095,
          0.1,
          0.115,
          0.125,
          0.14,
          0.165,
          0.21,
          0.26,
          1
         ],
         "xaxis": "x",
         "y": [
          0,
          0.685,
          0.77,
          0.81,
          0.825,
          0.835,
          0.85,
          0.86,
          0.875,
          0.885,
          0.895,
          0.895,
          0.91,
          0.92,
          0.935,
          0.955,
          0.965,
          0.975,
          0.975,
          0.98,
          0.98,
          0.985,
          0.985,
          0.99,
          0.99,
          0.99,
          0.99,
          0.995,
          0.995,
          0.995,
          0.995,
          0.995,
          0.995,
          0.995,
          0.995,
          1,
          1
         ],
         "yaxis": "y"
        }
       ],
       "layout": {
        "height": 500,
        "legend": {
         "title": {
          "text": "Model"
         },
         "tracegroupgap": 0
        },
        "margin": {
         "t": 60
        },
        "template": {
         "data": {
          "bar": [
           {
            "error_x": {
             "color": "#2a3f5f"
            },
            "error_y": {
             "color": "#2a3f5f"
            },
            "marker": {
             "line": {
              "color": "#E5ECF6",
              "width": 0.5
             },
             "pattern": {
              "fillmode": "overlay",
              "size": 10,
              "solidity": 0.2
             }
            },
            "type": "bar"
           }
          ],
          "barpolar": [
           {
            "marker": {
             "line": {
              "color": "#E5ECF6",
              "width": 0.5
             },
             "pattern": {
              "fillmode": "overlay",
              "size": 10,
              "solidity": 0.2
             }
            },
            "type": "barpolar"
           }
          ],
          "carpet": [
           {
            "aaxis": {
             "endlinecolor": "#2a3f5f",
             "gridcolor": "white",
             "linecolor": "white",
             "minorgridcolor": "white",
             "startlinecolor": "#2a3f5f"
            },
            "baxis": {
             "endlinecolor": "#2a3f5f",
             "gridcolor": "white",
             "linecolor": "white",
             "minorgridcolor": "white",
             "startlinecolor": "#2a3f5f"
            },
            "type": "carpet"
           }
          ],
          "choropleth": [
           {
            "colorbar": {
             "outlinewidth": 0,
             "ticks": ""
            },
            "type": "choropleth"
           }
          ],
          "contour": [
           {
            "colorbar": {
             "outlinewidth": 0,
             "ticks": ""
            },
            "colorscale": [
             [
              0,
              "#0d0887"
             ],
             [
              0.1111111111111111,
              "#46039f"
             ],
             [
              0.2222222222222222,
              "#7201a8"
             ],
             [
              0.3333333333333333,
              "#9c179e"
             ],
             [
              0.4444444444444444,
              "#bd3786"
             ],
             [
              0.5555555555555556,
              "#d8576b"
             ],
             [
              0.6666666666666666,
              "#ed7953"
             ],
             [
              0.7777777777777778,
              "#fb9f3a"
             ],
             [
              0.8888888888888888,
              "#fdca26"
             ],
             [
              1,
              "#f0f921"
             ]
            ],
            "type": "contour"
           }
          ],
          "contourcarpet": [
           {
            "colorbar": {
             "outlinewidth": 0,
             "ticks": ""
            },
            "type": "contourcarpet"
           }
          ],
          "heatmap": [
           {
            "colorbar": {
             "outlinewidth": 0,
             "ticks": ""
            },
            "colorscale": [
             [
              0,
              "#0d0887"
             ],
             [
              0.1111111111111111,
              "#46039f"
             ],
             [
              0.2222222222222222,
              "#7201a8"
             ],
             [
              0.3333333333333333,
              "#9c179e"
             ],
             [
              0.4444444444444444,
              "#bd3786"
             ],
             [
              0.5555555555555556,
              "#d8576b"
             ],
             [
              0.6666666666666666,
              "#ed7953"
             ],
             [
              0.7777777777777778,
              "#fb9f3a"
             ],
             [
              0.8888888888888888,
              "#fdca26"
             ],
             [
              1,
              "#f0f921"
             ]
            ],
            "type": "heatmap"
           }
          ],
          "heatmapgl": [
           {
            "colorbar": {
             "outlinewidth": 0,
             "ticks": ""
            },
            "colorscale": [
             [
              0,
              "#0d0887"
             ],
             [
              0.1111111111111111,
              "#46039f"
             ],
             [
              0.2222222222222222,
              "#7201a8"
             ],
             [
              0.3333333333333333,
              "#9c179e"
             ],
             [
              0.4444444444444444,
              "#bd3786"
             ],
             [
              0.5555555555555556,
              "#d8576b"
             ],
             [
              0.6666666666666666,
              "#ed7953"
             ],
             [
              0.7777777777777778,
              "#fb9f3a"
             ],
             [
              0.8888888888888888,
              "#fdca26"
             ],
             [
              1,
              "#f0f921"
             ]
            ],
            "type": "heatmapgl"
           }
          ],
          "histogram": [
           {
            "marker": {
             "pattern": {
              "fillmode": "overlay",
              "size": 10,
              "solidity": 0.2
             }
            },
            "type": "histogram"
           }
          ],
          "histogram2d": [
           {
            "colorbar": {
             "outlinewidth": 0,
             "ticks": ""
            },
            "colorscale": [
             [
              0,
              "#0d0887"
             ],
             [
              0.1111111111111111,
              "#46039f"
             ],
             [
              0.2222222222222222,
              "#7201a8"
             ],
             [
              0.3333333333333333,
              "#9c179e"
             ],
             [
              0.4444444444444444,
              "#bd3786"
             ],
             [
              0.5555555555555556,
              "#d8576b"
             ],
             [
              0.6666666666666666,
              "#ed7953"
             ],
             [
              0.7777777777777778,
              "#fb9f3a"
             ],
             [
              0.8888888888888888,
              "#fdca26"
             ],
             [
              1,
              "#f0f921"
             ]
            ],
            "type": "histogram2d"
           }
          ],
          "histogram2dcontour": [
           {
            "colorbar": {
             "outlinewidth": 0,
             "ticks": ""
            },
            "colorscale": [
             [
              0,
              "#0d0887"
             ],
             [
              0.1111111111111111,
              "#46039f"
             ],
             [
              0.2222222222222222,
              "#7201a8"
             ],
             [
              0.3333333333333333,
              "#9c179e"
             ],
             [
              0.4444444444444444,
              "#bd3786"
             ],
             [
              0.5555555555555556,
              "#d8576b"
             ],
             [
              0.6666666666666666,
              "#ed7953"
             ],
             [
              0.7777777777777778,
              "#fb9f3a"
             ],
             [
              0.8888888888888888,
              "#fdca26"
             ],
             [
              1,
              "#f0f921"
             ]
            ],
            "type": "histogram2dcontour"
           }
          ],
          "mesh3d": [
           {
            "colorbar": {
             "outlinewidth": 0,
             "ticks": ""
            },
            "type": "mesh3d"
           }
          ],
          "parcoords": [
           {
            "line": {
             "colorbar": {
              "outlinewidth": 0,
              "ticks": ""
             }
            },
            "type": "parcoords"
           }
          ],
          "pie": [
           {
            "automargin": true,
            "type": "pie"
           }
          ],
          "scatter": [
           {
            "fillpattern": {
             "fillmode": "overlay",
             "size": 10,
             "solidity": 0.2
            },
            "type": "scatter"
           }
          ],
          "scatter3d": [
           {
            "line": {
             "colorbar": {
              "outlinewidth": 0,
              "ticks": ""
             }
            },
            "marker": {
             "colorbar": {
              "outlinewidth": 0,
              "ticks": ""
             }
            },
            "type": "scatter3d"
           }
          ],
          "scattercarpet": [
           {
            "marker": {
             "colorbar": {
              "outlinewidth": 0,
              "ticks": ""
             }
            },
            "type": "scattercarpet"
           }
          ],
          "scattergeo": [
           {
            "marker": {
             "colorbar": {
              "outlinewidth": 0,
              "ticks": ""
             }
            },
            "type": "scattergeo"
           }
          ],
          "scattergl": [
           {
            "marker": {
             "colorbar": {
              "outlinewidth": 0,
              "ticks": ""
             }
            },
            "type": "scattergl"
           }
          ],
          "scattermapbox": [
           {
            "marker": {
             "colorbar": {
              "outlinewidth": 0,
              "ticks": ""
             }
            },
            "type": "scattermapbox"
           }
          ],
          "scatterpolar": [
           {
            "marker": {
             "colorbar": {
              "outlinewidth": 0,
              "ticks": ""
             }
            },
            "type": "scatterpolar"
           }
          ],
          "scatterpolargl": [
           {
            "marker": {
             "colorbar": {
              "outlinewidth": 0,
              "ticks": ""
             }
            },
            "type": "scatterpolargl"
           }
          ],
          "scatterternary": [
           {
            "marker": {
             "colorbar": {
              "outlinewidth": 0,
              "ticks": ""
             }
            },
            "type": "scatterternary"
           }
          ],
          "surface": [
           {
            "colorbar": {
             "outlinewidth": 0,
             "ticks": ""
            },
            "colorscale": [
             [
              0,
              "#0d0887"
             ],
             [
              0.1111111111111111,
              "#46039f"
             ],
             [
              0.2222222222222222,
              "#7201a8"
             ],
             [
              0.3333333333333333,
              "#9c179e"
             ],
             [
              0.4444444444444444,
              "#bd3786"
             ],
             [
              0.5555555555555556,
              "#d8576b"
             ],
             [
              0.6666666666666666,
              "#ed7953"
             ],
             [
              0.7777777777777778,
              "#fb9f3a"
             ],
             [
              0.8888888888888888,
              "#fdca26"
             ],
             [
              1,
              "#f0f921"
             ]
            ],
            "type": "surface"
           }
          ],
          "table": [
           {
            "cells": {
             "fill": {
              "color": "#EBF0F8"
             },
             "line": {
              "color": "white"
             }
            },
            "header": {
             "fill": {
              "color": "#C8D4E3"
             },
             "line": {
              "color": "white"
             }
            },
            "type": "table"
           }
          ]
         },
         "layout": {
          "annotationdefaults": {
           "arrowcolor": "#2a3f5f",
           "arrowhead": 0,
           "arrowwidth": 1
          },
          "autotypenumbers": "strict",
          "coloraxis": {
           "colorbar": {
            "outlinewidth": 0,
            "ticks": ""
           }
          },
          "colorscale": {
           "diverging": [
            [
             0,
             "#8e0152"
            ],
            [
             0.1,
             "#c51b7d"
            ],
            [
             0.2,
             "#de77ae"
            ],
            [
             0.3,
             "#f1b6da"
            ],
            [
             0.4,
             "#fde0ef"
            ],
            [
             0.5,
             "#f7f7f7"
            ],
            [
             0.6,
             "#e6f5d0"
            ],
            [
             0.7,
             "#b8e186"
            ],
            [
             0.8,
             "#7fbc41"
            ],
            [
             0.9,
             "#4d9221"
            ],
            [
             1,
             "#276419"
            ]
           ],
           "sequential": [
            [
             0,
             "#0d0887"
            ],
            [
             0.1111111111111111,
             "#46039f"
            ],
            [
             0.2222222222222222,
             "#7201a8"
            ],
            [
             0.3333333333333333,
             "#9c179e"
            ],
            [
             0.4444444444444444,
             "#bd3786"
            ],
            [
             0.5555555555555556,
             "#d8576b"
            ],
            [
             0.6666666666666666,
             "#ed7953"
            ],
            [
             0.7777777777777778,
             "#fb9f3a"
            ],
            [
             0.8888888888888888,
             "#fdca26"
            ],
            [
             1,
             "#f0f921"
            ]
           ],
           "sequentialminus": [
            [
             0,
             "#0d0887"
            ],
            [
             0.1111111111111111,
             "#46039f"
            ],
            [
             0.2222222222222222,
             "#7201a8"
            ],
            [
             0.3333333333333333,
             "#9c179e"
            ],
            [
             0.4444444444444444,
             "#bd3786"
            ],
            [
             0.5555555555555556,
             "#d8576b"
            ],
            [
             0.6666666666666666,
             "#ed7953"
            ],
            [
             0.7777777777777778,
             "#fb9f3a"
            ],
            [
             0.8888888888888888,
             "#fdca26"
            ],
            [
             1,
             "#f0f921"
            ]
           ]
          },
          "colorway": [
           "#636efa",
           "#EF553B",
           "#00cc96",
           "#ab63fa",
           "#FFA15A",
           "#19d3f3",
           "#FF6692",
           "#B6E880",
           "#FF97FF",
           "#FECB52"
          ],
          "font": {
           "color": "#2a3f5f"
          },
          "geo": {
           "bgcolor": "white",
           "lakecolor": "white",
           "landcolor": "#E5ECF6",
           "showlakes": true,
           "showland": true,
           "subunitcolor": "white"
          },
          "hoverlabel": {
           "align": "left"
          },
          "hovermode": "closest",
          "mapbox": {
           "style": "light"
          },
          "paper_bgcolor": "white",
          "plot_bgcolor": "#E5ECF6",
          "polar": {
           "angularaxis": {
            "gridcolor": "white",
            "linecolor": "white",
            "ticks": ""
           },
           "bgcolor": "#E5ECF6",
           "radialaxis": {
            "gridcolor": "white",
            "linecolor": "white",
            "ticks": ""
           }
          },
          "scene": {
           "xaxis": {
            "backgroundcolor": "#E5ECF6",
            "gridcolor": "white",
            "gridwidth": 2,
            "linecolor": "white",
            "showbackground": true,
            "ticks": "",
            "zerolinecolor": "white"
           },
           "yaxis": {
            "backgroundcolor": "#E5ECF6",
            "gridcolor": "white",
            "gridwidth": 2,
            "linecolor": "white",
            "showbackground": true,
            "ticks": "",
            "zerolinecolor": "white"
           },
           "zaxis": {
            "backgroundcolor": "#E5ECF6",
            "gridcolor": "white",
            "gridwidth": 2,
            "linecolor": "white",
            "showbackground": true,
            "ticks": "",
            "zerolinecolor": "white"
           }
          },
          "shapedefaults": {
           "line": {
            "color": "#2a3f5f"
           }
          },
          "ternary": {
           "aaxis": {
            "gridcolor": "white",
            "linecolor": "white",
            "ticks": ""
           },
           "baxis": {
            "gridcolor": "white",
            "linecolor": "white",
            "ticks": ""
           },
           "bgcolor": "#E5ECF6",
           "caxis": {
            "gridcolor": "white",
            "linecolor": "white",
            "ticks": ""
           }
          },
          "title": {
           "x": 0.05
          },
          "xaxis": {
           "automargin": true,
           "gridcolor": "white",
           "linecolor": "white",
           "ticks": "",
           "title": {
            "standoff": 15
           },
           "zerolinecolor": "white",
           "zerolinewidth": 2
          },
          "yaxis": {
           "automargin": true,
           "gridcolor": "white",
           "linecolor": "white",
           "ticks": "",
           "title": {
            "standoff": 15
           },
           "zerolinecolor": "white",
           "zerolinewidth": 2
          }
         }
        },
        "width": 700,
        "xaxis": {
         "anchor": "y",
         "domain": [
          0,
          1
         ],
         "title": {
          "text": "False Positive Rate"
         }
        },
        "yaxis": {
         "anchor": "x",
         "domain": [
          0,
          1
         ],
         "title": {
          "text": "True Positive Rate"
         }
        }
       }
      }
     },
     "metadata": {},
     "output_type": "display_data"
    }
   ],
   "source": [
    "# Display the ROC curve for the RF model\n",
    "fpr_rf, tpr_rf, rf_thresholds = metrics.roc_curve(classification_data_val[\"track_genre\"], rf_val_pred)\n",
    "\n",
    "roc_rf = pd.DataFrame({\n",
    "    'False Positive Rate': fpr_rf,\n",
    "    'True Positive Rate': tpr_rf,\n",
    "    'Model': 'RF'\n",
    "})\n",
    "\n",
    "px.line(roc_rf, y='True Positive Rate', x='False Positive Rate',\n",
    "        color='Model',\n",
    "        width=700, height=500)"
   ]
  },
  {
   "cell_type": "markdown",
   "metadata": {},
   "source": [
    "AUC (Area Under Curve) provides a single metric to evaluate the classifier's ability to distinguish between the two classes. Calculate the AUC:"
   ]
  },
  {
   "cell_type": "code",
   "execution_count": 12,
   "metadata": {},
   "outputs": [
    {
     "name": "stdout",
     "output_type": "stream",
     "text": [
      "Random Forest Model AUC: 0.9958875\n"
     ]
    }
   ],
   "source": [
    "# Calculate the AUC for the RF model\n",
    "roc_auc_rf = metrics.auc(fpr_rf, tpr_rf)\n",
    "print(f\"Random Forest Model AUC: {roc_auc_rf}\")"
   ]
  },
  {
   "cell_type": "markdown",
   "metadata": {},
   "source": [
    "This ROC curve indicates a very strong performance because:\n",
    "\n",
    "- High True Positive Rate (TPR): The curve rises sharply towards the top-left corner, which suggests that the model achieves a high TPR with a low False Positive Rate (FPR).\n",
    "\n",
    "- The curve stays close to the top edge (TPR = 1) with a very low FPR across most threshold values, indicating that the model is very good at distinguishing between the 2 classes.\n",
    "\n",
    "The AUC (which is 0.9958875) is close to 1.0. This indicates a nearly perfect model performance."
   ]
  },
  {
   "cell_type": "markdown",
   "metadata": {},
   "source": [
    "#### Cross-Validation for AUC and Accuracy\n",
    "To evaluate the model's consistency, we use 5-fold cross-validation on the validation set, calculating AUC and accuracy for each fold and displaying the results for an in-depth understanding of the model's performance.\n",
    "\n"
   ]
  },
  {
   "cell_type": "code",
   "execution_count": 13,
   "metadata": {},
   "outputs": [
    {
     "name": "stdout",
     "output_type": "stream",
     "text": [
      "Random Forest Model CV AUC: 0.9984374999999999, 0.9896875, 0.9975, 1.0, 0.996875\n",
      "Random Forest Model CV Accuracy: 0.975, 0.9625, 0.9625, 1.0, 0.95\n"
     ]
    }
   ],
   "source": [
    "# Use 5-fold Cross Validation on the validation set to calculate the AUC and accuracy of each fold\n",
    "from sklearn.model_selection import cross_val_score\n",
    "\n",
    "rf_cv_auc = cross_val_score(rf, classification_data_val.drop(columns=\"track_genre\"), classification_data_val[\"track_genre\"], cv=5, scoring=\"roc_auc\")\n",
    "rf_cv_accuracy = cross_val_score(rf, classification_data_val.drop(columns=\"track_genre\"), classification_data_val[\"track_genre\"], cv=5, scoring=\"accuracy\")\n",
    "\n",
    "rf_cv_auc_str = ', '.join([str(x) for x in rf_cv_auc])\n",
    "rf_cv_accuracy_str = ', '.join([str(x) for x in rf_cv_accuracy])\n",
    "\n",
    "print(f\"Random Forest Model CV AUC: {rf_cv_auc_str}\")\n",
    "print(f\"Random Forest Model CV Accuracy: {rf_cv_accuracy_str}\")"
   ]
  },
  {
   "cell_type": "markdown",
   "metadata": {},
   "source": [
    "The AUC is very high for our model, which may be a sign that our model is overfitting. However, since the two genres we are classifying are very different, it is possible that the model is just very good at distinguishing between the two genres."
   ]
  }
 ],
 "metadata": {
  "kernelspec": {
   "display_name": "Python 3",
   "language": "python",
   "name": "python3"
  },
  "language_info": {
   "codemirror_mode": {
    "name": "ipython",
    "version": 3
   },
   "file_extension": ".py",
   "mimetype": "text/x-python",
   "name": "python",
   "nbconvert_exporter": "python",
   "pygments_lexer": "ipython3",
   "version": "3.11.0"
  }
 },
 "nbformat": 4,
 "nbformat_minor": 2
}
