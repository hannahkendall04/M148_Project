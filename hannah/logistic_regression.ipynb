{
 "cells": [
  {
   "cell_type": "markdown",
   "metadata": {},
   "source": [
    "# Project Check In Week 4: Logistic Regression\n",
    "\n",
    "The below code is a simple demonstration of a logistic regression on the spotify dataset. To make sure the data we are working with has the proper format, we will use the data output by the dataclean.py script we generated in an earlier week. For this check in, we will attempt to classify tracks into one of two genres (for simplicity) based on other features in the data set."
   ]
  },
  {
   "cell_type": "code",
   "execution_count": 101,
   "metadata": {},
   "outputs": [],
   "source": [
    "# Import relevant libraries\n",
    "import pandas as pd\n",
    "import numpy as np\n",
    "import plotly.express as px\n",
    "import plotly.figure_factory as ff\n",
    "import plotly.graph_objects as go\n",
    "from sklearn.linear_model import LinearRegression\n",
    "from sklearn.linear_model import LogisticRegression\n",
    "from sklearn import metrics\n",
    "import matplotlib.pyplot as plt\n",
    "from sklearn.model_selection import train_test_split\n"
   ]
  },
  {
   "cell_type": "code",
   "execution_count": 102,
   "metadata": {},
   "outputs": [],
   "source": [
    "# Load the data and check for duplicates\n",
    "logistic_data_orig = pd.read_excel('clean_data.xlsx')"
   ]
  },
  {
   "cell_type": "code",
   "execution_count": 103,
   "metadata": {},
   "outputs": [
    {
     "data": {
      "text/plain": [
       "track_genre\n",
       "chicago-house    998\n",
       "cantopop         998\n",
       "alt-rock         997\n",
       "breakbeat        996\n",
       "forro            996\n",
       "                ... \n",
       "metal            230\n",
       "punk             226\n",
       "house            210\n",
       "indie            132\n",
       "reggaeton         74\n",
       "Name: count, Length: 113, dtype: int64"
      ]
     },
     "execution_count": 103,
     "metadata": {},
     "output_type": "execute_result"
    }
   ],
   "source": [
    "assert logistic_data_orig.duplicated(\"track_id\").sum() == 0, \"There are duplicates track_ids in the data\"\n",
    "logistic_data_orig[\"track_genre\"].value_counts()"
   ]
  },
  {
   "cell_type": "markdown",
   "metadata": {},
   "source": [
    "Since we will be classifying the data into genres, it is important that each song only has one genre. The above line is used to ensure our data cleaning returned data such that each track only has one genre. The other part of the previous code block is used to see how many of each genre is in the data. This is important as the proportion of each gene will affect the accuracy of the model. If one genre is much more common than the other, the model may be biased towards that genre. For the sake of this check in, we will thus select two genres that are relatively close in number of tracks."
   ]
  },
  {
   "cell_type": "code",
   "execution_count": 104,
   "metadata": {},
   "outputs": [
    {
     "name": "stderr",
     "output_type": "stream",
     "text": [
      "C:\\Users\\hbken\\AppData\\Local\\Temp\\ipykernel_6420\\1682029758.py:19: FutureWarning:\n",
      "\n",
      "Downcasting behavior in `replace` is deprecated and will be removed in a future version. To retain the old behavior, explicitly call `result.infer_objects(copy=False)`. To opt-in to the future behavior, set `pd.set_option('future.no_silent_downcasting', True)`\n",
      "\n"
     ]
    }
   ],
   "source": [
    "# Select a subset of the data s.t. we only have 2 classes\n",
    "# We will use the 'genre' column to create the classes\n",
    "genre_1 = \"chicago-house\" # will convert to be the positive class (1)\n",
    "genre_2 = \"cantopop\" # will convert to be the negative class (0)\n",
    "\n",
    "d = {\n",
    "    genre_1: 1,\n",
    "    genre_2: 0\n",
    "}\n",
    "\n",
    "# Split data into training and validation sets (no testing set for project check in)\n",
    "# Ensure the proportion of each class is the same in the training and validation sets\n",
    "# logistic_data = logistic_data_orig[logistic_data_orig[\"track_genre\"].isin([genre_1, genre_2])]\n",
    "# logistic_data = logistic_data.replace({\"track_genre\": {genre_1: 1, genre_2: 0}}).select_dtypes(include=[np.number]).drop(columns=\"Unnamed: 0\")\n",
    "# logistic_data_train = logistic_data.sample(frac=0.8, random_state=0)\n",
    "# logistic_data_val = logistic_data.drop(logistic_data_train.index)\n",
    "\n",
    "logistic_data = logistic_data_orig[logistic_data_orig[\"track_genre\"].isin([genre_1, genre_2])]\n",
    "logistic_data = logistic_data.replace({\"track_genre\": d}).select_dtypes(include=[np.number]).drop(columns=\"Unnamed: 0\")\n",
    "\n",
    "# With selected predictor variables:\n",
    "logistic_data = logistic_data[['danceability', 'acousticness', 'instrumentalness','time_signature', 'track_genre']]\n",
    "\n",
    "# Split data into training and validation sets - stratified split to ensure same proportion of classes in both sets\n",
    "logistic_data_train, logistic_data_val = train_test_split(logistic_data, test_size=0.2, random_state=42, stratify=logistic_data[\"track_genre\"])\n",
    "\n",
    "# Check the proportion of classes in the training and validation sets\n",
    "prop_zero_train = (logistic_data_train[\"track_genre\"] == 0).sum() / len(logistic_data_train)\n",
    "prop_zero_val = (logistic_data_val[\"track_genre\"] == 0).sum() / len(logistic_data_val)\n",
    "assert np.isclose(prop_zero_train, prop_zero_val, atol=0.05), \"Proportion of classes in training and validation sets are not the same\""
   ]
  },
  {
   "cell_type": "code",
   "execution_count": 105,
   "metadata": {},
   "outputs": [
    {
     "data": {
      "text/plain": [
       "(array([-0.82769385]),\n",
       " array([[ 7.53858477, -7.70147994,  4.59332387, -0.8280157 ]]))"
      ]
     },
     "execution_count": 105,
     "metadata": {},
     "output_type": "execute_result"
    }
   ],
   "source": [
    "# Compute logistic regression over entire training data set\n",
    "lr_all = LogisticRegression(solver='liblinear')\n",
    "lr_all.fit(X=logistic_data_train.drop(columns=\"track_genre\"), y=logistic_data_train[\"track_genre\"])\n",
    "lr_all.intercept_, lr_all.coef_"
   ]
  },
  {
   "cell_type": "code",
   "execution_count": 106,
   "metadata": {},
   "outputs": [
    {
     "data": {
      "text/html": [
       "<div>\n",
       "<style scoped>\n",
       "    .dataframe tbody tr th:only-of-type {\n",
       "        vertical-align: middle;\n",
       "    }\n",
       "\n",
       "    .dataframe tbody tr th {\n",
       "        vertical-align: top;\n",
       "    }\n",
       "\n",
       "    .dataframe thead th {\n",
       "        text-align: right;\n",
       "    }\n",
       "</style>\n",
       "<table border=\"1\" class=\"dataframe\">\n",
       "  <thead>\n",
       "    <tr style=\"text-align: right;\">\n",
       "      <th></th>\n",
       "      <th>actual</th>\n",
       "      <th>predicted</th>\n",
       "      <th>prob</th>\n",
       "    </tr>\n",
       "  </thead>\n",
       "  <tbody>\n",
       "    <tr>\n",
       "      <th>12835</th>\n",
       "      <td>1</td>\n",
       "      <td>1</td>\n",
       "      <td>0.982329</td>\n",
       "    </tr>\n",
       "    <tr>\n",
       "      <th>12460</th>\n",
       "      <td>1</td>\n",
       "      <td>1</td>\n",
       "      <td>0.650630</td>\n",
       "    </tr>\n",
       "    <tr>\n",
       "      <th>12498</th>\n",
       "      <td>1</td>\n",
       "      <td>1</td>\n",
       "      <td>0.877789</td>\n",
       "    </tr>\n",
       "    <tr>\n",
       "      <th>11283</th>\n",
       "      <td>0</td>\n",
       "      <td>0</td>\n",
       "      <td>0.137373</td>\n",
       "    </tr>\n",
       "    <tr>\n",
       "      <th>12248</th>\n",
       "      <td>1</td>\n",
       "      <td>1</td>\n",
       "      <td>0.997976</td>\n",
       "    </tr>\n",
       "    <tr>\n",
       "      <th>...</th>\n",
       "      <td>...</td>\n",
       "      <td>...</td>\n",
       "      <td>...</td>\n",
       "    </tr>\n",
       "    <tr>\n",
       "      <th>11431</th>\n",
       "      <td>0</td>\n",
       "      <td>0</td>\n",
       "      <td>0.004327</td>\n",
       "    </tr>\n",
       "    <tr>\n",
       "      <th>11857</th>\n",
       "      <td>0</td>\n",
       "      <td>0</td>\n",
       "      <td>0.429771</td>\n",
       "    </tr>\n",
       "    <tr>\n",
       "      <th>12685</th>\n",
       "      <td>1</td>\n",
       "      <td>1</td>\n",
       "      <td>0.515192</td>\n",
       "    </tr>\n",
       "    <tr>\n",
       "      <th>11438</th>\n",
       "      <td>0</td>\n",
       "      <td>1</td>\n",
       "      <td>0.535434</td>\n",
       "    </tr>\n",
       "    <tr>\n",
       "      <th>11383</th>\n",
       "      <td>0</td>\n",
       "      <td>0</td>\n",
       "      <td>0.044436</td>\n",
       "    </tr>\n",
       "  </tbody>\n",
       "</table>\n",
       "<p>400 rows × 3 columns</p>\n",
       "</div>"
      ],
      "text/plain": [
       "       actual  predicted      prob\n",
       "12835       1          1  0.982329\n",
       "12460       1          1  0.650630\n",
       "12498       1          1  0.877789\n",
       "11283       0          0  0.137373\n",
       "12248       1          1  0.997976\n",
       "...       ...        ...       ...\n",
       "11431       0          0  0.004327\n",
       "11857       0          0  0.429771\n",
       "12685       1          1  0.515192\n",
       "11438       0          1  0.535434\n",
       "11383       0          0  0.044436\n",
       "\n",
       "[400 rows x 3 columns]"
      ]
     },
     "execution_count": 106,
     "metadata": {},
     "output_type": "execute_result"
    }
   ],
   "source": [
    "# Test the model on a subset of all observations in the validation set\n",
    "X_val = logistic_data_val.drop(columns=\"track_genre\")\n",
    "y_val = logistic_data_val[\"track_genre\"]\n",
    "\n",
    "pred_val = pd.DataFrame({\"actual\": y_val, \"predicted\": lr_all.predict(X_val), \"prob\": lr_all.predict_proba(X_val)[:,1]})\n",
    "# pred_val.replace({1: genre_1, 0: genre_2}, inplace=True)\n",
    "pred_val"
   ]
  },
  {
   "cell_type": "code",
   "execution_count": 107,
   "metadata": {},
   "outputs": [
    {
     "data": {
      "text/plain": [
       "array([[193,   7],\n",
       "       [  5, 195]])"
      ]
     },
     "execution_count": 107,
     "metadata": {},
     "output_type": "execute_result"
    }
   ],
   "source": [
    "# Confusion matrix\n",
    "conf_matrix = metrics.confusion_matrix(y_true=pred_val[\"actual\"].replace({genre_1: 1, genre_2: 0}), y_pred=pred_val[\"predicted\"].replace({genre_1: 1, genre_2: 0}))\n",
    "conf_matrix"
   ]
  },
  {
   "cell_type": "code",
   "execution_count": 108,
   "metadata": {},
   "outputs": [
    {
     "name": "stdout",
     "output_type": "stream",
     "text": [
      "Accuracy: 0.97\n",
      "Error: 0.030000000000000027\n",
      "TPR: 0.975\n",
      "FPR: 0.035\n",
      "TNR: 0.965\n",
      "FNR: 0.025\n"
     ]
    }
   ],
   "source": [
    "# Metrics\n",
    "accuracy = metrics.accuracy_score(y_true=pred_val[\"actual\"], y_pred=pred_val[\"predicted\"])\n",
    "error = 1 - accuracy\n",
    "TPR = conf_matrix[1,1] / (conf_matrix[1,1] + conf_matrix[1,0])\n",
    "FPR = conf_matrix[0,1] / (conf_matrix[0,1] + conf_matrix[0,0])\n",
    "TNR = conf_matrix[0,0] / (conf_matrix[0,0] + conf_matrix[0,1])\n",
    "FNR = conf_matrix[1,0] / (conf_matrix[1,0] + conf_matrix[1,1])\n",
    "print(f\"Accuracy: {accuracy}\\nError: {error}\\nTPR: {TPR}\\nFPR: {FPR}\\nTNR: {TNR}\\nFNR: {FNR}\")"
   ]
  },
  {
   "cell_type": "code",
   "execution_count": 109,
   "metadata": {},
   "outputs": [
    {
     "data": {
      "application/vnd.plotly.v1+json": {
       "config": {
        "plotlyServerURL": "https://plot.ly"
       },
       "data": [
        {
         "alignmentgroup": "True",
         "bingroup": "x",
         "hovertemplate": "actual=1<br>prob=%{x}<br>count=%{y}<extra></extra>",
         "legendgroup": "1",
         "marker": {
          "color": "#636efa",
          "opacity": 0.5,
          "pattern": {
           "shape": ""
          }
         },
         "name": "1",
         "offsetgroup": "1",
         "orientation": "v",
         "showlegend": true,
         "type": "histogram",
         "x": [
          0.9823287937788746,
          0.6506303699308134,
          0.877789307958888,
          0.997975756412946,
          0.9945615111324642,
          0.9720604613745844,
          0.9841149464549929,
          0.9981803229471604,
          0.5792535429850342,
          0.9976260629775967,
          0.9844638554723978,
          0.9404214467333155,
          0.9970091676673346,
          0.992373601949778,
          0.9539038220417957,
          0.99566494544427,
          0.5100169454856383,
          0.9980626764404296,
          0.9978505309746176,
          0.9329895906251432,
          0.9930408584721274,
          0.9798767785447566,
          0.9956702065663852,
          0.5023701159629659,
          0.8606628748144455,
          0.8511170592710461,
          0.9913758899315483,
          0.992213270727315,
          0.948159040993891,
          0.7681225659847679,
          0.9964561397932645,
          0.9366092160612207,
          0.9957513654390912,
          0.9754682308667668,
          0.997462740119541,
          0.8792979622079009,
          0.3468691312247174,
          0.970912830756132,
          0.9838242524540751,
          0.8481439171541744,
          0.9052322036862358,
          0.9556508356233894,
          0.8989045528187062,
          0.7914628689854067,
          0.38507963871992923,
          0.8576715235744224,
          0.9944628448093511,
          0.8726365490049164,
          0.9875192982219786,
          0.9842495468696584,
          0.8853159577522978,
          0.9614551437117761,
          0.993059405843252,
          0.9897364547349751,
          0.9955072725096085,
          0.9907541744693179,
          0.97618068136934,
          0.9978741603313753,
          0.9973106230743068,
          0.9963173255520421,
          0.7968582197945375,
          0.9890738185855262,
          0.22574125016363186,
          0.9958140003249073,
          0.7189486790896985,
          0.9726413255037315,
          0.9655868602630999,
          0.9930203284101954,
          0.9979548581719446,
          0.8636671991126392,
          0.9956301223284928,
          0.9888473462344772,
          0.9930404724053653,
          0.9455020387031254,
          0.934553790012162,
          0.9268943600904523,
          0.9980740372452763,
          0.984421337654082,
          0.89026899961587,
          0.951686030206455,
          0.9969959536717856,
          0.8737812524936568,
          0.9942812207377569,
          0.9586297230996297,
          0.9967176074985966,
          0.9978733040844581,
          0.8733239583975968,
          0.9895839709983725,
          0.9186624530439352,
          0.9963367587687064,
          0.6635002331772436,
          0.9524725561752134,
          0.9973080311292234,
          0.9956841423073377,
          0.4568773539854095,
          0.9778866315289255,
          0.9864738633724431,
          0.9205379724002197,
          0.9628250743832498,
          0.978445838173125,
          0.9930627957664712,
          0.9978023804721333,
          0.9321316339780695,
          0.6637926166205224,
          0.9892458863497685,
          0.9664024148851746,
          0.9722539274984943,
          0.9937886778104845,
          0.9962701076793227,
          0.5329893800358397,
          0.9967998058367626,
          0.5169172551771704,
          0.9962893196207508,
          0.9902648808830548,
          0.8339418211390633,
          0.9881185152755803,
          0.9556044834452854,
          0.9931155281702768,
          0.8554052075288997,
          0.9978440223948084,
          0.9956841861828823,
          0.9438174774696424,
          0.7442344556508912,
          0.6870275907503752,
          0.5919469654550493,
          0.9980230104244601,
          0.9207238923518932,
          0.993556822908308,
          0.9950222731472718,
          0.9950512281083121,
          0.9340721180466061,
          0.8490441972525364,
          0.9037514632898992,
          0.996320359365347,
          0.9921603797459654,
          0.9745513999971099,
          0.9743177825037509,
          0.7348194236996286,
          0.9981288665732189,
          0.9777037502092116,
          0.9975426997801602,
          0.8582944518547857,
          0.9974404203133229,
          0.7763281254055084,
          0.9100489654365869,
          0.7948356110226547,
          0.9981705054226293,
          0.9966539015935144,
          0.9973457830254104,
          0.9816959507071994,
          0.8265270861205647,
          0.9903583296415012,
          0.9977350696519424,
          0.5989397068626033,
          0.9848733010709905,
          0.7919252198309089,
          0.9107377240537727,
          0.9834953834014764,
          0.9976998281421985,
          0.992833328435358,
          0.7204099249705982,
          0.8299462065148637,
          0.9882810153115335,
          0.9660528994100775,
          0.9975421237033187,
          0.9340333631203986,
          0.9905091955914158,
          0.9312071184132312,
          0.980559795053909,
          0.870130727518167,
          0.9955951947734799,
          0.9965480379195483,
          0.9701584281423226,
          0.9408123703017212,
          0.9291855744961705,
          0.9521404782125074,
          0.9683910501849847,
          0.9978903602734581,
          0.9928397943667515,
          0.8045783508407595,
          0.9788347939984273,
          0.9247661456207209,
          0.9974477309467524,
          0.5950461670662037,
          0.7641368600377186,
          0.995487863572878,
          0.9980670027107129,
          0.9865371916616977,
          0.9942048025980489,
          0.08767978644306162,
          0.9769794215384581,
          0.9665570340545828,
          0.9895736919595768,
          0.99708740074977,
          0.8492043392539931,
          0.9790641905953307,
          0.956453775141368,
          0.9824292837165108,
          0.9971230604629486,
          0.5151922080288818
         ],
         "xaxis": "x",
         "yaxis": "y"
        },
        {
         "alignmentgroup": "True",
         "bingroup": "x",
         "hovertemplate": "actual=0<br>prob=%{x}<br>count=%{y}<extra></extra>",
         "legendgroup": "0",
         "marker": {
          "color": "#EF553B",
          "opacity": 0.5,
          "pattern": {
           "shape": ""
          }
         },
         "name": "0",
         "offsetgroup": "0",
         "orientation": "v",
         "showlegend": true,
         "type": "histogram",
         "x": [
          0.13737285514078598,
          0.019415479931423597,
          0.0021787014126493196,
          0.15426946581741088,
          0.010314561958296949,
          0.0011616444603364134,
          0.012125468513619675,
          0.0034783804794818896,
          0.003598876837217081,
          0.00012467163827865324,
          0.004308792561797782,
          0.0801665079996246,
          0.003124083797299328,
          0.001149861636993832,
          0.0004760357418960397,
          0.17420689241715576,
          0.07355182872927046,
          0.007519456842194721,
          0.003591043672643222,
          0.05384963957262172,
          0.007641775352873233,
          0.2554470628912975,
          0.004471285911175551,
          0.09336126317763506,
          0.039406205702412905,
          0.24849707822815068,
          0.0001963901775109418,
          0.08090740756947411,
          0.2008352732028022,
          0.0759032466658984,
          0.0011652242547427261,
          0.0011164590665394172,
          0.0015094129404634965,
          0.45592529214944716,
          0.017294933712395055,
          0.0005369164117710798,
          0.0025238433142379733,
          0.018371494812303164,
          0.00199045613155008,
          0.08918030278307307,
          0.7527141760744649,
          0.014058601803741973,
          0.22638309789737757,
          0.012024422722843523,
          0.22297151347109703,
          0.00674752765547255,
          0.08974092634060578,
          0.4391207381021774,
          0.0003572086985415392,
          0.10513277618687997,
          0.010039321735403901,
          0.0005353066763846341,
          0.012687226207868154,
          0.0028694207259090864,
          0.009017433764965416,
          0.000908706960489878,
          0.0154919910880381,
          0.1511581684278529,
          0.00309718942330882,
          0.002117464941680949,
          0.010254747160265037,
          0.005928316176197646,
          0.11306516201793476,
          0.5236787521646536,
          0.007168231000240008,
          0.0026116269588244796,
          0.12743045419113672,
          0.0033926929021760818,
          0.009337347960951231,
          0.24180261596470284,
          0.07084086028439911,
          0.0008450180341437234,
          0.05548935027831485,
          0.005653215516877053,
          0.1655290368758426,
          0.0012894289330191108,
          0.02596433419114415,
          0.01676545108389159,
          0.003056154263032773,
          0.25095199117175954,
          0.009404055658558955,
          0.03334227941643322,
          0.040849784377113126,
          0.002629033984767525,
          0.059578246828526055,
          0.13558829205506245,
          0.02966816561826926,
          0.020750591543692205,
          0.004142748995523707,
          0.002032823396450736,
          0.0018729392956269516,
          0.2593811769094536,
          0.009644623678221092,
          0.0023965338221076135,
          0.003586081016883721,
          0.04187955583069657,
          0.681430444824067,
          0.010411138166651884,
          0.04719218592278675,
          0.00787810698823718,
          0.012065988364730176,
          0.009524695717662889,
          0.021793836459489752,
          0.026475205129110536,
          0.31612618409726934,
          0.05453151658259286,
          0.4355580430879566,
          0.03919742433586109,
          0.3789252468128393,
          0.0020065499797668183,
          0.15611649410873343,
          0.020605987693137207,
          0.0028511081210392144,
          0.0009981280661342023,
          0.0017053198330443478,
          0.0020814030074972046,
          0.00481081315328815,
          0.002241441291790066,
          0.0064385024556967,
          0.12867447150145522,
          0.08843075952591477,
          0.0045863128644282195,
          0.13615058347040385,
          0.22231060892270163,
          0.00032940933161541245,
          0.0037584065992301214,
          0.10309674787936543,
          0.010286670150114106,
          0.20876653672257248,
          0.010145954275885624,
          0.002292205126348302,
          0.0009269296175433714,
          0.015584627636847311,
          0.7377180239396811,
          0.05562372148149403,
          0.00469389544098685,
          0.001732555862029267,
          0.003915250390589006,
          0.49504824997615593,
          0.004079675662014119,
          0.005998006791045187,
          0.04385840664053634,
          0.30103315315609114,
          0.23002192821164819,
          0.08374737461557023,
          0.00013733256505032762,
          0.00447976941033151,
          0.0017512562136328838,
          0.13985335414008307,
          0.0011494890200988827,
          0.006080384094053122,
          0.005759034382144935,
          0.024095041210541998,
          0.0260245061754149,
          0.001022592255438538,
          0.27534509274120206,
          0.009773717730156277,
          0.002402223779072939,
          0.07955579359594055,
          0.019889255940406005,
          0.002395938037512712,
          0.011632739656176108,
          0.010022694709218315,
          0.23018022687726472,
          0.34797169250450877,
          0.0013517289262166107,
          0.003706414500138469,
          0.14885701540487065,
          0.009204849066372738,
          0.015406704903158909,
          0.598661080637529,
          0.4471866258087516,
          0.00013554251261520985,
          0.020861184806045527,
          0.0021673987135309588,
          0.00873985846221956,
          0.3893944415885044,
          0.014751526755933898,
          0.007860598323185902,
          0.005311209077524295,
          0.0028201584587807917,
          0.014888807456557981,
          0.006629844828342594,
          0.0015345963696481346,
          0.0006533240470965524,
          0.002059476368427086,
          0.05548935027831485,
          0.025219420606947197,
          0.4357091891786925,
          0.09056561473853,
          0.002920730689878729,
          0.02145816695073691,
          0.07044906422873354,
          0.09845247790556705,
          0.6221217909987214,
          0.006727391074178994,
          0.004327156819445614,
          0.4297714191367358,
          0.5354344406687951,
          0.044436289742725704
         ],
         "xaxis": "x",
         "yaxis": "y"
        }
       ],
       "layout": {
        "barmode": "overlay",
        "legend": {
         "title": {
          "text": "actual"
         },
         "tracegroupgap": 0
        },
        "template": {
         "data": {
          "bar": [
           {
            "error_x": {
             "color": "#2a3f5f"
            },
            "error_y": {
             "color": "#2a3f5f"
            },
            "marker": {
             "line": {
              "color": "#E5ECF6",
              "width": 0.5
             },
             "pattern": {
              "fillmode": "overlay",
              "size": 10,
              "solidity": 0.2
             }
            },
            "type": "bar"
           }
          ],
          "barpolar": [
           {
            "marker": {
             "line": {
              "color": "#E5ECF6",
              "width": 0.5
             },
             "pattern": {
              "fillmode": "overlay",
              "size": 10,
              "solidity": 0.2
             }
            },
            "type": "barpolar"
           }
          ],
          "carpet": [
           {
            "aaxis": {
             "endlinecolor": "#2a3f5f",
             "gridcolor": "white",
             "linecolor": "white",
             "minorgridcolor": "white",
             "startlinecolor": "#2a3f5f"
            },
            "baxis": {
             "endlinecolor": "#2a3f5f",
             "gridcolor": "white",
             "linecolor": "white",
             "minorgridcolor": "white",
             "startlinecolor": "#2a3f5f"
            },
            "type": "carpet"
           }
          ],
          "choropleth": [
           {
            "colorbar": {
             "outlinewidth": 0,
             "ticks": ""
            },
            "type": "choropleth"
           }
          ],
          "contour": [
           {
            "colorbar": {
             "outlinewidth": 0,
             "ticks": ""
            },
            "colorscale": [
             [
              0,
              "#0d0887"
             ],
             [
              0.1111111111111111,
              "#46039f"
             ],
             [
              0.2222222222222222,
              "#7201a8"
             ],
             [
              0.3333333333333333,
              "#9c179e"
             ],
             [
              0.4444444444444444,
              "#bd3786"
             ],
             [
              0.5555555555555556,
              "#d8576b"
             ],
             [
              0.6666666666666666,
              "#ed7953"
             ],
             [
              0.7777777777777778,
              "#fb9f3a"
             ],
             [
              0.8888888888888888,
              "#fdca26"
             ],
             [
              1,
              "#f0f921"
             ]
            ],
            "type": "contour"
           }
          ],
          "contourcarpet": [
           {
            "colorbar": {
             "outlinewidth": 0,
             "ticks": ""
            },
            "type": "contourcarpet"
           }
          ],
          "heatmap": [
           {
            "colorbar": {
             "outlinewidth": 0,
             "ticks": ""
            },
            "colorscale": [
             [
              0,
              "#0d0887"
             ],
             [
              0.1111111111111111,
              "#46039f"
             ],
             [
              0.2222222222222222,
              "#7201a8"
             ],
             [
              0.3333333333333333,
              "#9c179e"
             ],
             [
              0.4444444444444444,
              "#bd3786"
             ],
             [
              0.5555555555555556,
              "#d8576b"
             ],
             [
              0.6666666666666666,
              "#ed7953"
             ],
             [
              0.7777777777777778,
              "#fb9f3a"
             ],
             [
              0.8888888888888888,
              "#fdca26"
             ],
             [
              1,
              "#f0f921"
             ]
            ],
            "type": "heatmap"
           }
          ],
          "heatmapgl": [
           {
            "colorbar": {
             "outlinewidth": 0,
             "ticks": ""
            },
            "colorscale": [
             [
              0,
              "#0d0887"
             ],
             [
              0.1111111111111111,
              "#46039f"
             ],
             [
              0.2222222222222222,
              "#7201a8"
             ],
             [
              0.3333333333333333,
              "#9c179e"
             ],
             [
              0.4444444444444444,
              "#bd3786"
             ],
             [
              0.5555555555555556,
              "#d8576b"
             ],
             [
              0.6666666666666666,
              "#ed7953"
             ],
             [
              0.7777777777777778,
              "#fb9f3a"
             ],
             [
              0.8888888888888888,
              "#fdca26"
             ],
             [
              1,
              "#f0f921"
             ]
            ],
            "type": "heatmapgl"
           }
          ],
          "histogram": [
           {
            "marker": {
             "pattern": {
              "fillmode": "overlay",
              "size": 10,
              "solidity": 0.2
             }
            },
            "type": "histogram"
           }
          ],
          "histogram2d": [
           {
            "colorbar": {
             "outlinewidth": 0,
             "ticks": ""
            },
            "colorscale": [
             [
              0,
              "#0d0887"
             ],
             [
              0.1111111111111111,
              "#46039f"
             ],
             [
              0.2222222222222222,
              "#7201a8"
             ],
             [
              0.3333333333333333,
              "#9c179e"
             ],
             [
              0.4444444444444444,
              "#bd3786"
             ],
             [
              0.5555555555555556,
              "#d8576b"
             ],
             [
              0.6666666666666666,
              "#ed7953"
             ],
             [
              0.7777777777777778,
              "#fb9f3a"
             ],
             [
              0.8888888888888888,
              "#fdca26"
             ],
             [
              1,
              "#f0f921"
             ]
            ],
            "type": "histogram2d"
           }
          ],
          "histogram2dcontour": [
           {
            "colorbar": {
             "outlinewidth": 0,
             "ticks": ""
            },
            "colorscale": [
             [
              0,
              "#0d0887"
             ],
             [
              0.1111111111111111,
              "#46039f"
             ],
             [
              0.2222222222222222,
              "#7201a8"
             ],
             [
              0.3333333333333333,
              "#9c179e"
             ],
             [
              0.4444444444444444,
              "#bd3786"
             ],
             [
              0.5555555555555556,
              "#d8576b"
             ],
             [
              0.6666666666666666,
              "#ed7953"
             ],
             [
              0.7777777777777778,
              "#fb9f3a"
             ],
             [
              0.8888888888888888,
              "#fdca26"
             ],
             [
              1,
              "#f0f921"
             ]
            ],
            "type": "histogram2dcontour"
           }
          ],
          "mesh3d": [
           {
            "colorbar": {
             "outlinewidth": 0,
             "ticks": ""
            },
            "type": "mesh3d"
           }
          ],
          "parcoords": [
           {
            "line": {
             "colorbar": {
              "outlinewidth": 0,
              "ticks": ""
             }
            },
            "type": "parcoords"
           }
          ],
          "pie": [
           {
            "automargin": true,
            "type": "pie"
           }
          ],
          "scatter": [
           {
            "fillpattern": {
             "fillmode": "overlay",
             "size": 10,
             "solidity": 0.2
            },
            "type": "scatter"
           }
          ],
          "scatter3d": [
           {
            "line": {
             "colorbar": {
              "outlinewidth": 0,
              "ticks": ""
             }
            },
            "marker": {
             "colorbar": {
              "outlinewidth": 0,
              "ticks": ""
             }
            },
            "type": "scatter3d"
           }
          ],
          "scattercarpet": [
           {
            "marker": {
             "colorbar": {
              "outlinewidth": 0,
              "ticks": ""
             }
            },
            "type": "scattercarpet"
           }
          ],
          "scattergeo": [
           {
            "marker": {
             "colorbar": {
              "outlinewidth": 0,
              "ticks": ""
             }
            },
            "type": "scattergeo"
           }
          ],
          "scattergl": [
           {
            "marker": {
             "colorbar": {
              "outlinewidth": 0,
              "ticks": ""
             }
            },
            "type": "scattergl"
           }
          ],
          "scattermapbox": [
           {
            "marker": {
             "colorbar": {
              "outlinewidth": 0,
              "ticks": ""
             }
            },
            "type": "scattermapbox"
           }
          ],
          "scatterpolar": [
           {
            "marker": {
             "colorbar": {
              "outlinewidth": 0,
              "ticks": ""
             }
            },
            "type": "scatterpolar"
           }
          ],
          "scatterpolargl": [
           {
            "marker": {
             "colorbar": {
              "outlinewidth": 0,
              "ticks": ""
             }
            },
            "type": "scatterpolargl"
           }
          ],
          "scatterternary": [
           {
            "marker": {
             "colorbar": {
              "outlinewidth": 0,
              "ticks": ""
             }
            },
            "type": "scatterternary"
           }
          ],
          "surface": [
           {
            "colorbar": {
             "outlinewidth": 0,
             "ticks": ""
            },
            "colorscale": [
             [
              0,
              "#0d0887"
             ],
             [
              0.1111111111111111,
              "#46039f"
             ],
             [
              0.2222222222222222,
              "#7201a8"
             ],
             [
              0.3333333333333333,
              "#9c179e"
             ],
             [
              0.4444444444444444,
              "#bd3786"
             ],
             [
              0.5555555555555556,
              "#d8576b"
             ],
             [
              0.6666666666666666,
              "#ed7953"
             ],
             [
              0.7777777777777778,
              "#fb9f3a"
             ],
             [
              0.8888888888888888,
              "#fdca26"
             ],
             [
              1,
              "#f0f921"
             ]
            ],
            "type": "surface"
           }
          ],
          "table": [
           {
            "cells": {
             "fill": {
              "color": "#EBF0F8"
             },
             "line": {
              "color": "white"
             }
            },
            "header": {
             "fill": {
              "color": "#C8D4E3"
             },
             "line": {
              "color": "white"
             }
            },
            "type": "table"
           }
          ]
         },
         "layout": {
          "annotationdefaults": {
           "arrowcolor": "#2a3f5f",
           "arrowhead": 0,
           "arrowwidth": 1
          },
          "autotypenumbers": "strict",
          "coloraxis": {
           "colorbar": {
            "outlinewidth": 0,
            "ticks": ""
           }
          },
          "colorscale": {
           "diverging": [
            [
             0,
             "#8e0152"
            ],
            [
             0.1,
             "#c51b7d"
            ],
            [
             0.2,
             "#de77ae"
            ],
            [
             0.3,
             "#f1b6da"
            ],
            [
             0.4,
             "#fde0ef"
            ],
            [
             0.5,
             "#f7f7f7"
            ],
            [
             0.6,
             "#e6f5d0"
            ],
            [
             0.7,
             "#b8e186"
            ],
            [
             0.8,
             "#7fbc41"
            ],
            [
             0.9,
             "#4d9221"
            ],
            [
             1,
             "#276419"
            ]
           ],
           "sequential": [
            [
             0,
             "#0d0887"
            ],
            [
             0.1111111111111111,
             "#46039f"
            ],
            [
             0.2222222222222222,
             "#7201a8"
            ],
            [
             0.3333333333333333,
             "#9c179e"
            ],
            [
             0.4444444444444444,
             "#bd3786"
            ],
            [
             0.5555555555555556,
             "#d8576b"
            ],
            [
             0.6666666666666666,
             "#ed7953"
            ],
            [
             0.7777777777777778,
             "#fb9f3a"
            ],
            [
             0.8888888888888888,
             "#fdca26"
            ],
            [
             1,
             "#f0f921"
            ]
           ],
           "sequentialminus": [
            [
             0,
             "#0d0887"
            ],
            [
             0.1111111111111111,
             "#46039f"
            ],
            [
             0.2222222222222222,
             "#7201a8"
            ],
            [
             0.3333333333333333,
             "#9c179e"
            ],
            [
             0.4444444444444444,
             "#bd3786"
            ],
            [
             0.5555555555555556,
             "#d8576b"
            ],
            [
             0.6666666666666666,
             "#ed7953"
            ],
            [
             0.7777777777777778,
             "#fb9f3a"
            ],
            [
             0.8888888888888888,
             "#fdca26"
            ],
            [
             1,
             "#f0f921"
            ]
           ]
          },
          "colorway": [
           "#636efa",
           "#EF553B",
           "#00cc96",
           "#ab63fa",
           "#FFA15A",
           "#19d3f3",
           "#FF6692",
           "#B6E880",
           "#FF97FF",
           "#FECB52"
          ],
          "font": {
           "color": "#2a3f5f"
          },
          "geo": {
           "bgcolor": "white",
           "lakecolor": "white",
           "landcolor": "#E5ECF6",
           "showlakes": true,
           "showland": true,
           "subunitcolor": "white"
          },
          "hoverlabel": {
           "align": "left"
          },
          "hovermode": "closest",
          "mapbox": {
           "style": "light"
          },
          "paper_bgcolor": "white",
          "plot_bgcolor": "#E5ECF6",
          "polar": {
           "angularaxis": {
            "gridcolor": "white",
            "linecolor": "white",
            "ticks": ""
           },
           "bgcolor": "#E5ECF6",
           "radialaxis": {
            "gridcolor": "white",
            "linecolor": "white",
            "ticks": ""
           }
          },
          "scene": {
           "xaxis": {
            "backgroundcolor": "#E5ECF6",
            "gridcolor": "white",
            "gridwidth": 2,
            "linecolor": "white",
            "showbackground": true,
            "ticks": "",
            "zerolinecolor": "white"
           },
           "yaxis": {
            "backgroundcolor": "#E5ECF6",
            "gridcolor": "white",
            "gridwidth": 2,
            "linecolor": "white",
            "showbackground": true,
            "ticks": "",
            "zerolinecolor": "white"
           },
           "zaxis": {
            "backgroundcolor": "#E5ECF6",
            "gridcolor": "white",
            "gridwidth": 2,
            "linecolor": "white",
            "showbackground": true,
            "ticks": "",
            "zerolinecolor": "white"
           }
          },
          "shapedefaults": {
           "line": {
            "color": "#2a3f5f"
           }
          },
          "ternary": {
           "aaxis": {
            "gridcolor": "white",
            "linecolor": "white",
            "ticks": ""
           },
           "baxis": {
            "gridcolor": "white",
            "linecolor": "white",
            "ticks": ""
           },
           "bgcolor": "#E5ECF6",
           "caxis": {
            "gridcolor": "white",
            "linecolor": "white",
            "ticks": ""
           }
          },
          "title": {
           "x": 0.05
          },
          "xaxis": {
           "automargin": true,
           "gridcolor": "white",
           "linecolor": "white",
           "ticks": "",
           "title": {
            "standoff": 15
           },
           "zerolinecolor": "white",
           "zerolinewidth": 2
          },
          "yaxis": {
           "automargin": true,
           "gridcolor": "white",
           "linecolor": "white",
           "ticks": "",
           "title": {
            "standoff": 15
           },
           "zerolinecolor": "white",
           "zerolinewidth": 2
          }
         }
        },
        "title": {
         "text": "Predicted Probability Densities"
        },
        "xaxis": {
         "anchor": "y",
         "domain": [
          0,
          1
         ],
         "title": {
          "text": "prob"
         }
        },
        "yaxis": {
         "anchor": "x",
         "domain": [
          0,
          1
         ],
         "title": {
          "text": "count"
         }
        }
       }
      }
     },
     "metadata": {},
     "output_type": "display_data"
    }
   ],
   "source": [
    "# Predicted probability densities \n",
    "px.histogram(pred_val, x=\"prob\", color=\"actual\", opacity=0.5, barmode=\"overlay\", title=\"Predicted Probability Densities\")"
   ]
  },
  {
   "cell_type": "code",
   "execution_count": 110,
   "metadata": {},
   "outputs": [],
   "source": [
    "# ROC Curve\n",
    "\n",
    "lr_fpr, lr_tpr, lr_thresholds = metrics.roc_curve(y_true=pred_val[\"actual\"], y_score=pred_val[\"prob\"])\n"
   ]
  },
  {
   "cell_type": "code",
   "execution_count": 111,
   "metadata": {},
   "outputs": [
    {
     "data": {
      "application/vnd.plotly.v1+json": {
       "config": {
        "plotlyServerURL": "https://plot.ly"
       },
       "data": [
        {
         "hovertemplate": "Model=Logistic Regression<br>False Positive Rate=%{x}<br>True Positive Rate=%{y}<extra></extra>",
         "legendgroup": "Logistic Regression",
         "line": {
          "color": "#636efa",
          "dash": "solid"
         },
         "marker": {
          "symbol": "circle"
         },
         "mode": "lines",
         "name": "Logistic Regression",
         "orientation": "v",
         "showlegend": true,
         "type": "scatter",
         "x": [
          0,
          0,
          0,
          0.005,
          0.005,
          0.01,
          0.01,
          0.015,
          0.015,
          0.02,
          0.02,
          0.025,
          0.025,
          0.03,
          0.03,
          0.035,
          0.035,
          0.04,
          0.04,
          0.075,
          0.075,
          0.085,
          0.085,
          0.14,
          0.14,
          0.265,
          0.265,
          0.315,
          0.325,
          1
         ],
         "xaxis": "x",
         "y": [
          0,
          0.005,
          0.89,
          0.89,
          0.895,
          0.895,
          0.915,
          0.915,
          0.93,
          0.93,
          0.935,
          0.935,
          0.95,
          0.95,
          0.955,
          0.955,
          0.975,
          0.975,
          0.98,
          0.98,
          0.985,
          0.985,
          0.99,
          0.99,
          0.995,
          0.995,
          1,
          1,
          1,
          1
         ],
         "yaxis": "y"
        }
       ],
       "layout": {
        "legend": {
         "title": {
          "text": "Model"
         },
         "tracegroupgap": 0
        },
        "template": {
         "data": {
          "bar": [
           {
            "error_x": {
             "color": "#2a3f5f"
            },
            "error_y": {
             "color": "#2a3f5f"
            },
            "marker": {
             "line": {
              "color": "#E5ECF6",
              "width": 0.5
             },
             "pattern": {
              "fillmode": "overlay",
              "size": 10,
              "solidity": 0.2
             }
            },
            "type": "bar"
           }
          ],
          "barpolar": [
           {
            "marker": {
             "line": {
              "color": "#E5ECF6",
              "width": 0.5
             },
             "pattern": {
              "fillmode": "overlay",
              "size": 10,
              "solidity": 0.2
             }
            },
            "type": "barpolar"
           }
          ],
          "carpet": [
           {
            "aaxis": {
             "endlinecolor": "#2a3f5f",
             "gridcolor": "white",
             "linecolor": "white",
             "minorgridcolor": "white",
             "startlinecolor": "#2a3f5f"
            },
            "baxis": {
             "endlinecolor": "#2a3f5f",
             "gridcolor": "white",
             "linecolor": "white",
             "minorgridcolor": "white",
             "startlinecolor": "#2a3f5f"
            },
            "type": "carpet"
           }
          ],
          "choropleth": [
           {
            "colorbar": {
             "outlinewidth": 0,
             "ticks": ""
            },
            "type": "choropleth"
           }
          ],
          "contour": [
           {
            "colorbar": {
             "outlinewidth": 0,
             "ticks": ""
            },
            "colorscale": [
             [
              0,
              "#0d0887"
             ],
             [
              0.1111111111111111,
              "#46039f"
             ],
             [
              0.2222222222222222,
              "#7201a8"
             ],
             [
              0.3333333333333333,
              "#9c179e"
             ],
             [
              0.4444444444444444,
              "#bd3786"
             ],
             [
              0.5555555555555556,
              "#d8576b"
             ],
             [
              0.6666666666666666,
              "#ed7953"
             ],
             [
              0.7777777777777778,
              "#fb9f3a"
             ],
             [
              0.8888888888888888,
              "#fdca26"
             ],
             [
              1,
              "#f0f921"
             ]
            ],
            "type": "contour"
           }
          ],
          "contourcarpet": [
           {
            "colorbar": {
             "outlinewidth": 0,
             "ticks": ""
            },
            "type": "contourcarpet"
           }
          ],
          "heatmap": [
           {
            "colorbar": {
             "outlinewidth": 0,
             "ticks": ""
            },
            "colorscale": [
             [
              0,
              "#0d0887"
             ],
             [
              0.1111111111111111,
              "#46039f"
             ],
             [
              0.2222222222222222,
              "#7201a8"
             ],
             [
              0.3333333333333333,
              "#9c179e"
             ],
             [
              0.4444444444444444,
              "#bd3786"
             ],
             [
              0.5555555555555556,
              "#d8576b"
             ],
             [
              0.6666666666666666,
              "#ed7953"
             ],
             [
              0.7777777777777778,
              "#fb9f3a"
             ],
             [
              0.8888888888888888,
              "#fdca26"
             ],
             [
              1,
              "#f0f921"
             ]
            ],
            "type": "heatmap"
           }
          ],
          "heatmapgl": [
           {
            "colorbar": {
             "outlinewidth": 0,
             "ticks": ""
            },
            "colorscale": [
             [
              0,
              "#0d0887"
             ],
             [
              0.1111111111111111,
              "#46039f"
             ],
             [
              0.2222222222222222,
              "#7201a8"
             ],
             [
              0.3333333333333333,
              "#9c179e"
             ],
             [
              0.4444444444444444,
              "#bd3786"
             ],
             [
              0.5555555555555556,
              "#d8576b"
             ],
             [
              0.6666666666666666,
              "#ed7953"
             ],
             [
              0.7777777777777778,
              "#fb9f3a"
             ],
             [
              0.8888888888888888,
              "#fdca26"
             ],
             [
              1,
              "#f0f921"
             ]
            ],
            "type": "heatmapgl"
           }
          ],
          "histogram": [
           {
            "marker": {
             "pattern": {
              "fillmode": "overlay",
              "size": 10,
              "solidity": 0.2
             }
            },
            "type": "histogram"
           }
          ],
          "histogram2d": [
           {
            "colorbar": {
             "outlinewidth": 0,
             "ticks": ""
            },
            "colorscale": [
             [
              0,
              "#0d0887"
             ],
             [
              0.1111111111111111,
              "#46039f"
             ],
             [
              0.2222222222222222,
              "#7201a8"
             ],
             [
              0.3333333333333333,
              "#9c179e"
             ],
             [
              0.4444444444444444,
              "#bd3786"
             ],
             [
              0.5555555555555556,
              "#d8576b"
             ],
             [
              0.6666666666666666,
              "#ed7953"
             ],
             [
              0.7777777777777778,
              "#fb9f3a"
             ],
             [
              0.8888888888888888,
              "#fdca26"
             ],
             [
              1,
              "#f0f921"
             ]
            ],
            "type": "histogram2d"
           }
          ],
          "histogram2dcontour": [
           {
            "colorbar": {
             "outlinewidth": 0,
             "ticks": ""
            },
            "colorscale": [
             [
              0,
              "#0d0887"
             ],
             [
              0.1111111111111111,
              "#46039f"
             ],
             [
              0.2222222222222222,
              "#7201a8"
             ],
             [
              0.3333333333333333,
              "#9c179e"
             ],
             [
              0.4444444444444444,
              "#bd3786"
             ],
             [
              0.5555555555555556,
              "#d8576b"
             ],
             [
              0.6666666666666666,
              "#ed7953"
             ],
             [
              0.7777777777777778,
              "#fb9f3a"
             ],
             [
              0.8888888888888888,
              "#fdca26"
             ],
             [
              1,
              "#f0f921"
             ]
            ],
            "type": "histogram2dcontour"
           }
          ],
          "mesh3d": [
           {
            "colorbar": {
             "outlinewidth": 0,
             "ticks": ""
            },
            "type": "mesh3d"
           }
          ],
          "parcoords": [
           {
            "line": {
             "colorbar": {
              "outlinewidth": 0,
              "ticks": ""
             }
            },
            "type": "parcoords"
           }
          ],
          "pie": [
           {
            "automargin": true,
            "type": "pie"
           }
          ],
          "scatter": [
           {
            "fillpattern": {
             "fillmode": "overlay",
             "size": 10,
             "solidity": 0.2
            },
            "type": "scatter"
           }
          ],
          "scatter3d": [
           {
            "line": {
             "colorbar": {
              "outlinewidth": 0,
              "ticks": ""
             }
            },
            "marker": {
             "colorbar": {
              "outlinewidth": 0,
              "ticks": ""
             }
            },
            "type": "scatter3d"
           }
          ],
          "scattercarpet": [
           {
            "marker": {
             "colorbar": {
              "outlinewidth": 0,
              "ticks": ""
             }
            },
            "type": "scattercarpet"
           }
          ],
          "scattergeo": [
           {
            "marker": {
             "colorbar": {
              "outlinewidth": 0,
              "ticks": ""
             }
            },
            "type": "scattergeo"
           }
          ],
          "scattergl": [
           {
            "marker": {
             "colorbar": {
              "outlinewidth": 0,
              "ticks": ""
             }
            },
            "type": "scattergl"
           }
          ],
          "scattermapbox": [
           {
            "marker": {
             "colorbar": {
              "outlinewidth": 0,
              "ticks": ""
             }
            },
            "type": "scattermapbox"
           }
          ],
          "scatterpolar": [
           {
            "marker": {
             "colorbar": {
              "outlinewidth": 0,
              "ticks": ""
             }
            },
            "type": "scatterpolar"
           }
          ],
          "scatterpolargl": [
           {
            "marker": {
             "colorbar": {
              "outlinewidth": 0,
              "ticks": ""
             }
            },
            "type": "scatterpolargl"
           }
          ],
          "scatterternary": [
           {
            "marker": {
             "colorbar": {
              "outlinewidth": 0,
              "ticks": ""
             }
            },
            "type": "scatterternary"
           }
          ],
          "surface": [
           {
            "colorbar": {
             "outlinewidth": 0,
             "ticks": ""
            },
            "colorscale": [
             [
              0,
              "#0d0887"
             ],
             [
              0.1111111111111111,
              "#46039f"
             ],
             [
              0.2222222222222222,
              "#7201a8"
             ],
             [
              0.3333333333333333,
              "#9c179e"
             ],
             [
              0.4444444444444444,
              "#bd3786"
             ],
             [
              0.5555555555555556,
              "#d8576b"
             ],
             [
              0.6666666666666666,
              "#ed7953"
             ],
             [
              0.7777777777777778,
              "#fb9f3a"
             ],
             [
              0.8888888888888888,
              "#fdca26"
             ],
             [
              1,
              "#f0f921"
             ]
            ],
            "type": "surface"
           }
          ],
          "table": [
           {
            "cells": {
             "fill": {
              "color": "#EBF0F8"
             },
             "line": {
              "color": "white"
             }
            },
            "header": {
             "fill": {
              "color": "#C8D4E3"
             },
             "line": {
              "color": "white"
             }
            },
            "type": "table"
           }
          ]
         },
         "layout": {
          "annotationdefaults": {
           "arrowcolor": "#2a3f5f",
           "arrowhead": 0,
           "arrowwidth": 1
          },
          "autotypenumbers": "strict",
          "coloraxis": {
           "colorbar": {
            "outlinewidth": 0,
            "ticks": ""
           }
          },
          "colorscale": {
           "diverging": [
            [
             0,
             "#8e0152"
            ],
            [
             0.1,
             "#c51b7d"
            ],
            [
             0.2,
             "#de77ae"
            ],
            [
             0.3,
             "#f1b6da"
            ],
            [
             0.4,
             "#fde0ef"
            ],
            [
             0.5,
             "#f7f7f7"
            ],
            [
             0.6,
             "#e6f5d0"
            ],
            [
             0.7,
             "#b8e186"
            ],
            [
             0.8,
             "#7fbc41"
            ],
            [
             0.9,
             "#4d9221"
            ],
            [
             1,
             "#276419"
            ]
           ],
           "sequential": [
            [
             0,
             "#0d0887"
            ],
            [
             0.1111111111111111,
             "#46039f"
            ],
            [
             0.2222222222222222,
             "#7201a8"
            ],
            [
             0.3333333333333333,
             "#9c179e"
            ],
            [
             0.4444444444444444,
             "#bd3786"
            ],
            [
             0.5555555555555556,
             "#d8576b"
            ],
            [
             0.6666666666666666,
             "#ed7953"
            ],
            [
             0.7777777777777778,
             "#fb9f3a"
            ],
            [
             0.8888888888888888,
             "#fdca26"
            ],
            [
             1,
             "#f0f921"
            ]
           ],
           "sequentialminus": [
            [
             0,
             "#0d0887"
            ],
            [
             0.1111111111111111,
             "#46039f"
            ],
            [
             0.2222222222222222,
             "#7201a8"
            ],
            [
             0.3333333333333333,
             "#9c179e"
            ],
            [
             0.4444444444444444,
             "#bd3786"
            ],
            [
             0.5555555555555556,
             "#d8576b"
            ],
            [
             0.6666666666666666,
             "#ed7953"
            ],
            [
             0.7777777777777778,
             "#fb9f3a"
            ],
            [
             0.8888888888888888,
             "#fdca26"
            ],
            [
             1,
             "#f0f921"
            ]
           ]
          },
          "colorway": [
           "#636efa",
           "#EF553B",
           "#00cc96",
           "#ab63fa",
           "#FFA15A",
           "#19d3f3",
           "#FF6692",
           "#B6E880",
           "#FF97FF",
           "#FECB52"
          ],
          "font": {
           "color": "#2a3f5f"
          },
          "geo": {
           "bgcolor": "white",
           "lakecolor": "white",
           "landcolor": "#E5ECF6",
           "showlakes": true,
           "showland": true,
           "subunitcolor": "white"
          },
          "hoverlabel": {
           "align": "left"
          },
          "hovermode": "closest",
          "mapbox": {
           "style": "light"
          },
          "paper_bgcolor": "white",
          "plot_bgcolor": "#E5ECF6",
          "polar": {
           "angularaxis": {
            "gridcolor": "white",
            "linecolor": "white",
            "ticks": ""
           },
           "bgcolor": "#E5ECF6",
           "radialaxis": {
            "gridcolor": "white",
            "linecolor": "white",
            "ticks": ""
           }
          },
          "scene": {
           "xaxis": {
            "backgroundcolor": "#E5ECF6",
            "gridcolor": "white",
            "gridwidth": 2,
            "linecolor": "white",
            "showbackground": true,
            "ticks": "",
            "zerolinecolor": "white"
           },
           "yaxis": {
            "backgroundcolor": "#E5ECF6",
            "gridcolor": "white",
            "gridwidth": 2,
            "linecolor": "white",
            "showbackground": true,
            "ticks": "",
            "zerolinecolor": "white"
           },
           "zaxis": {
            "backgroundcolor": "#E5ECF6",
            "gridcolor": "white",
            "gridwidth": 2,
            "linecolor": "white",
            "showbackground": true,
            "ticks": "",
            "zerolinecolor": "white"
           }
          },
          "shapedefaults": {
           "line": {
            "color": "#2a3f5f"
           }
          },
          "ternary": {
           "aaxis": {
            "gridcolor": "white",
            "linecolor": "white",
            "ticks": ""
           },
           "baxis": {
            "gridcolor": "white",
            "linecolor": "white",
            "ticks": ""
           },
           "bgcolor": "#E5ECF6",
           "caxis": {
            "gridcolor": "white",
            "linecolor": "white",
            "ticks": ""
           }
          },
          "title": {
           "x": 0.05
          },
          "xaxis": {
           "automargin": true,
           "gridcolor": "white",
           "linecolor": "white",
           "ticks": "",
           "title": {
            "standoff": 15
           },
           "zerolinecolor": "white",
           "zerolinewidth": 2
          },
          "yaxis": {
           "automargin": true,
           "gridcolor": "white",
           "linecolor": "white",
           "ticks": "",
           "title": {
            "standoff": 15
           },
           "zerolinecolor": "white",
           "zerolinewidth": 2
          }
         }
        },
        "title": {
         "text": "LR ROC Curve"
        },
        "xaxis": {
         "anchor": "y",
         "domain": [
          0,
          1
         ],
         "title": {
          "text": "False Positive Rate"
         }
        },
        "yaxis": {
         "anchor": "x",
         "domain": [
          0,
          1
         ],
         "title": {
          "text": "True Positive Rate"
         }
        }
       }
      }
     },
     "metadata": {},
     "output_type": "display_data"
    }
   ],
   "source": [
    "roc_lr = pd.DataFrame({\"False Positive Rate\": lr_fpr, \"True Positive Rate\": lr_tpr, \"Model\": \"Logistic Regression\"}, index=lr_thresholds)\n",
    "roc_df = pd.concat([roc_lr]) # This concatenation is necessary for the plot to work\n",
    "px.line(roc_df, y=\"True Positive Rate\", x=\"False Positive Rate\", color=\"Model\", title=\"LR ROC Curve\")"
   ]
  },
  {
   "cell_type": "code",
   "execution_count": 112,
   "metadata": {},
   "outputs": [
    {
     "name": "stdout",
     "output_type": "stream",
     "text": [
      "Logistic Regression AUC: 0.995\n"
     ]
    }
   ],
   "source": [
    "# Compute AUC\n",
    "lr_auc = metrics.roc_auc_score(y_true=pred_val[\"actual\"].replace({genre_1: 1, genre_2: 0}), y_score=pred_val[\"prob\"])\n",
    "print(\"Logistic Regression AUC:\", lr_auc.round(3))\n",
    "\n",
    "# The AUC measures the area under the ROC curve. The closer the AUC is to 1, the better the model is at distinguishing between the two classes.\n",
    "# AUC is threshold independent - it summarizes performance over all possible classification thresholds\n",
    "# The AUC is also robust to class imbalance, as it considers the trade-off between sensitivity and specificity (this makes it a more informative metric when class distributions are skewed)\n",
    "# If a model's AUC is 0 <= X <= 1, it means that it can distinguish between positive and negative cases with a probability of X"
   ]
  },
  {
   "cell_type": "code",
   "execution_count": 115,
   "metadata": {},
   "outputs": [],
   "source": [
    "# # Side note: forward selection code \n",
    "# from sklearn.feature_selection import SequentialFeatureSelector\n",
    "\n",
    "# # Only look at a subset of the data to speed up the computation\n",
    "# logistic_data_train_sub = logistic_data_train.iloc[:1000]\n",
    "\n",
    "# selector = SequentialFeatureSelector(\n",
    "#     lr_all,\n",
    "#     n_features_to_select=4,\n",
    "#     direction='forward',\n",
    "#     scoring='neg_mean_squared_error',\n",
    "#     cv = 5\n",
    "# )\n",
    "\n",
    "# selector.fit(X=logistic_data_train_sub.drop(columns=\"track_genre\"), y=logistic_data_train_sub[\"track_genre\"])\n",
    "# selector.get_feature_names_out()"
   ]
  },
  {
   "cell_type": "code",
   "execution_count": 116,
   "metadata": {},
   "outputs": [
    {
     "data": {
      "text/plain": [
       "array([0.99554688, 0.99697327, 0.99347484, 0.99544025, 0.99752358])"
      ]
     },
     "execution_count": 116,
     "metadata": {},
     "output_type": "execute_result"
    }
   ],
   "source": [
    "# Using CV to evaluate model performance \n",
    "from sklearn.model_selection import cross_val_score\n",
    "# predictor_variables = selector.get_feature_names_out()\n",
    "predictor_variables = ['danceability', 'acousticness', 'instrumentalness','time_signature']\n",
    "\n",
    "cross_val_score(lr_all, logistic_data_train[predictor_variables], logistic_data_train[\"track_genre\"], cv=5, scoring=\"roc_auc\")\n",
    "# Accuracy for each fold:"
   ]
  },
  {
   "cell_type": "markdown",
   "metadata": {},
   "source": [
    "We chose the threshold for positive predictions by looking at the proportion of positive class labels in the training data. During the initial set up of the model, we chose the two genres that had the same proportion in the original data. Furthermore, when splitting the data into training and validation sets we used the stratify parameter to ensure that the proportion of the two genres was the same in both the training and validation sets. Thus our threshold for positive predictions is 0.5."
   ]
  }
 ],
 "metadata": {
  "kernelspec": {
   "display_name": ".venv",
   "language": "python",
   "name": "python3"
  },
  "language_info": {
   "codemirror_mode": {
    "name": "ipython",
    "version": 3
   },
   "file_extension": ".py",
   "mimetype": "text/x-python",
   "name": "python",
   "nbconvert_exporter": "python",
   "pygments_lexer": "ipython3",
   "version": "3.12.7"
  }
 },
 "nbformat": 4,
 "nbformat_minor": 2
}
