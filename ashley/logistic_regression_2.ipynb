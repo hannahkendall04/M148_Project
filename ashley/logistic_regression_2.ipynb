{
 "cells": [
  {
   "cell_type": "markdown",
   "metadata": {},
   "source": [
    "# Project Check In Week 4: Logistic Regression\n",
    "\n",
    "The below code is a simple demonstration of a logistic regression on the spotify dataset. To make sure the data we are working with has the proper format, we will use the data output by the dataclean.py script we generated in an earlier week. For this check in, we will attempt to classify tracks into one of two genres (for simplicity) based on other features in the data set."
   ]
  },
  {
   "cell_type": "code",
   "execution_count": 2,
   "metadata": {},
   "outputs": [],
   "source": [
    "# Import relevant libraries\n",
    "import pandas as pd\n",
    "import numpy as np\n",
    "import plotly.express as px\n",
    "import plotly.figure_factory as ff\n",
    "import plotly.graph_objects as go\n",
    "from sklearn.linear_model import LinearRegression\n",
    "from sklearn.linear_model import LogisticRegression\n",
    "from sklearn import metrics\n",
    "import matplotlib.pyplot as plt"
   ]
  },
  {
   "cell_type": "code",
   "execution_count": 6,
   "metadata": {},
   "outputs": [],
   "source": [
    "# Load the data and check for duplicates\n",
    "logistic_data_orig = pd.read_excel('clean_data.xlsx')"
   ]
  },
  {
   "cell_type": "code",
   "execution_count": 36,
   "metadata": {},
   "outputs": [
    {
     "data": {
      "text/plain": [
       "track_genre\n",
       "chicago-house    998\n",
       "cantopop         998\n",
       "alt-rock         997\n",
       "breakbeat        996\n",
       "forro            996\n",
       "                ... \n",
       "metal            230\n",
       "punk             226\n",
       "house            210\n",
       "indie            132\n",
       "reggaeton         74\n",
       "Name: count, Length: 113, dtype: int64"
      ]
     },
     "execution_count": 36,
     "metadata": {},
     "output_type": "execute_result"
    }
   ],
   "source": [
    "assert logistic_data_orig.duplicated(\"track_id\").sum() == 0, \"There are duplicates track_ids in the data\"\n",
    "logistic_data_orig[\"track_genre\"].value_counts()"
   ]
  },
  {
   "cell_type": "markdown",
   "metadata": {},
   "source": [
    "Since we will be classifying the data into genres, it is important that each song only has one genre. The above line is used to ensure our data cleaning returned data such that each track only has one genre. The other part of the previous code block is used to see how many of each genre is in the data. This is important as the proportion of each gene will affect the accuracy of the model. If one genre is much more common than the other, the model may be biased towards that genre. For the sake of this check in, we will thus select two genres that are relatively close in number of tracks."
   ]
  },
  {
   "cell_type": "code",
   "execution_count": 61,
   "metadata": {},
   "outputs": [
    {
     "name": "stderr",
     "output_type": "stream",
     "text": [
      "C:\\Users\\hbken\\AppData\\Local\\Temp\\ipykernel_24416\\1117558244.py:9: FutureWarning: Downcasting behavior in `replace` is deprecated and will be removed in a future version. To retain the old behavior, explicitly call `result.infer_objects(copy=False)`. To opt-in to the future behavior, set `pd.set_option('future.no_silent_downcasting', True)`\n",
      "  logistic_data = logistic_data.replace({\"track_genre\": {genre_1: 1, genre_2: 0}}).select_dtypes(include=[np.number]).drop(columns=\"Unnamed: 0\")\n"
     ]
    }
   ],
   "source": [
    "# Select a subset of the data s.t. we only have 2 classes\n",
    "# We will use the 'genre' column to create the classes\n",
    "genre_1 = \"chicago-house\" # will convert to be the positive class (1)\n",
    "genre_2 = \"alt-rock\" # will convert to be the negative class (0)\n",
    "\n",
    "# Split data into training and validation sets (no testing set for project check in)\n",
    "# Ensure the proportion of each class is the same in the training and validation sets\n",
    "logistic_data = logistic_data_orig[logistic_data_orig[\"track_genre\"].isin([genre_1, genre_2])]\n",
    "logistic_data = logistic_data.replace({\"track_genre\": {genre_1: 1, genre_2: 0}}).select_dtypes(include=[np.number]).drop(columns=\"Unnamed: 0\")\n",
    "logistic_data_train = logistic_data.sample(frac=0.8, random_state=0)\n",
    "logistic_data_val = logistic_data.drop(logistic_data_train.index)"
   ]
  },
  {
   "cell_type": "code",
   "execution_count": 62,
   "metadata": {},
   "outputs": [
    {
     "data": {
      "text/plain": [
       "(array([-0.0006144]),\n",
       " array([[-3.98596532e-02,  1.30839237e-05,  9.07309268e-04,\n",
       "         -5.01523843e-04, -2.37200507e-03, -1.00132704e-02,\n",
       "         -1.41801006e-03,  8.47046317e-05, -6.25468669e-04,\n",
       "          1.99745016e-03, -4.33626362e-04,  1.87967475e-04,\n",
       "         -2.32481693e-02, -2.31026332e-03]]))"
      ]
     },
     "execution_count": 62,
     "metadata": {},
     "output_type": "execute_result"
    }
   ],
   "source": [
    "# Compute logistic regression over entire training data set\n",
    "lr_all = LogisticRegression(solver='liblinear')\n",
    "lr_all.fit(X=logistic_data_train.drop(columns=\"track_genre\"), y=logistic_data_train[\"track_genre\"])\n",
    "lr_all.intercept_, lr_all.coef_"
   ]
  },
  {
   "cell_type": "code",
   "execution_count": 68,
   "metadata": {},
   "outputs": [
    {
     "data": {
      "text/html": [
       "<div>\n",
       "<style scoped>\n",
       "    .dataframe tbody tr th:only-of-type {\n",
       "        vertical-align: middle;\n",
       "    }\n",
       "\n",
       "    .dataframe tbody tr th {\n",
       "        vertical-align: top;\n",
       "    }\n",
       "\n",
       "    .dataframe thead th {\n",
       "        text-align: right;\n",
       "    }\n",
       "</style>\n",
       "<table border=\"1\" class=\"dataframe\">\n",
       "  <thead>\n",
       "    <tr style=\"text-align: right;\">\n",
       "      <th></th>\n",
       "      <th>actual</th>\n",
       "      <th>predicted</th>\n",
       "      <th>prob</th>\n",
       "    </tr>\n",
       "  </thead>\n",
       "  <tbody>\n",
       "    <tr>\n",
       "      <th>1996</th>\n",
       "      <td>alt-rock</td>\n",
       "      <td>alt-rock</td>\n",
       "      <td>0.025192</td>\n",
       "    </tr>\n",
       "    <tr>\n",
       "      <th>2008</th>\n",
       "      <td>alt-rock</td>\n",
       "      <td>chicago-house</td>\n",
       "      <td>0.628505</td>\n",
       "    </tr>\n",
       "    <tr>\n",
       "      <th>2009</th>\n",
       "      <td>alt-rock</td>\n",
       "      <td>chicago-house</td>\n",
       "      <td>0.802282</td>\n",
       "    </tr>\n",
       "    <tr>\n",
       "      <th>2010</th>\n",
       "      <td>alt-rock</td>\n",
       "      <td>chicago-house</td>\n",
       "      <td>0.623586</td>\n",
       "    </tr>\n",
       "    <tr>\n",
       "      <th>2013</th>\n",
       "      <td>alt-rock</td>\n",
       "      <td>chicago-house</td>\n",
       "      <td>0.934922</td>\n",
       "    </tr>\n",
       "    <tr>\n",
       "      <th>...</th>\n",
       "      <td>...</td>\n",
       "      <td>...</td>\n",
       "      <td>...</td>\n",
       "    </tr>\n",
       "    <tr>\n",
       "      <th>13014</th>\n",
       "      <td>chicago-house</td>\n",
       "      <td>chicago-house</td>\n",
       "      <td>0.750419</td>\n",
       "    </tr>\n",
       "    <tr>\n",
       "      <th>13018</th>\n",
       "      <td>chicago-house</td>\n",
       "      <td>chicago-house</td>\n",
       "      <td>0.713422</td>\n",
       "    </tr>\n",
       "    <tr>\n",
       "      <th>13029</th>\n",
       "      <td>chicago-house</td>\n",
       "      <td>chicago-house</td>\n",
       "      <td>0.908595</td>\n",
       "    </tr>\n",
       "    <tr>\n",
       "      <th>13036</th>\n",
       "      <td>chicago-house</td>\n",
       "      <td>chicago-house</td>\n",
       "      <td>0.736378</td>\n",
       "    </tr>\n",
       "    <tr>\n",
       "      <th>13043</th>\n",
       "      <td>chicago-house</td>\n",
       "      <td>chicago-house</td>\n",
       "      <td>0.889578</td>\n",
       "    </tr>\n",
       "  </tbody>\n",
       "</table>\n",
       "<p>399 rows × 3 columns</p>\n",
       "</div>"
      ],
      "text/plain": [
       "              actual      predicted      prob\n",
       "1996        alt-rock       alt-rock  0.025192\n",
       "2008        alt-rock  chicago-house  0.628505\n",
       "2009        alt-rock  chicago-house  0.802282\n",
       "2010        alt-rock  chicago-house  0.623586\n",
       "2013        alt-rock  chicago-house  0.934922\n",
       "...              ...            ...       ...\n",
       "13014  chicago-house  chicago-house  0.750419\n",
       "13018  chicago-house  chicago-house  0.713422\n",
       "13029  chicago-house  chicago-house  0.908595\n",
       "13036  chicago-house  chicago-house  0.736378\n",
       "13043  chicago-house  chicago-house  0.889578\n",
       "\n",
       "[399 rows x 3 columns]"
      ]
     },
     "execution_count": 68,
     "metadata": {},
     "output_type": "execute_result"
    }
   ],
   "source": [
    "# Test the model on a subset of all observations in the validation set\n",
    "X_val = logistic_data_val.drop(columns=\"track_genre\")\n",
    "y_val = logistic_data_val[\"track_genre\"]\n",
    "\n",
    "pred_val = pd.DataFrame({\"actual\": y_val, \"predicted\": lr_all.predict(X_val), \"prob\": lr_all.predict_proba(X_val)[:,1]})\n",
    "pred_val.replace({1: genre_1, 0: genre_2}, inplace=True)\n",
    "pred_val"
   ]
  },
  {
   "cell_type": "code",
   "execution_count": 69,
   "metadata": {},
   "outputs": [
    {
     "name": "stderr",
     "output_type": "stream",
     "text": [
      "C:\\Users\\hbken\\AppData\\Local\\Temp\\ipykernel_24416\\2503111177.py:2: FutureWarning: Downcasting behavior in `replace` is deprecated and will be removed in a future version. To retain the old behavior, explicitly call `result.infer_objects(copy=False)`. To opt-in to the future behavior, set `pd.set_option('future.no_silent_downcasting', True)`\n",
      "  conf_matrix = metrics.confusion_matrix(y_true=pred_val[\"actual\"].replace({genre_1: 1, genre_2: 0}), y_pred=pred_val[\"predicted\"].replace({genre_1: 1, genre_2: 0}))\n"
     ]
    },
    {
     "data": {
      "text/plain": [
       "array([[146,  65],\n",
       "       [ 41, 147]])"
      ]
     },
     "execution_count": 69,
     "metadata": {},
     "output_type": "execute_result"
    }
   ],
   "source": [
    "# Confusion matrix\n",
    "conf_matrix = metrics.confusion_matrix(y_true=pred_val[\"actual\"].replace({genre_1: 1, genre_2: 0}), y_pred=pred_val[\"predicted\"].replace({genre_1: 1, genre_2: 0}))\n",
    "conf_matrix"
   ]
  },
  {
   "cell_type": "code",
   "execution_count": 70,
   "metadata": {},
   "outputs": [
    {
     "name": "stdout",
     "output_type": "stream",
     "text": [
      "Accuracy: 0.7343358395989975\n",
      "Error: 0.2656641604010025\n",
      "TPR: 0.7819148936170213\n",
      "FPR: 0.3080568720379147\n",
      "TNR: 0.6919431279620853\n",
      "FNR: 0.21808510638297873\n"
     ]
    },
    {
     "name": "stderr",
     "output_type": "stream",
     "text": [
      "C:\\Users\\hbken\\AppData\\Local\\Temp\\ipykernel_24416\\1093500334.py:2: FutureWarning: Downcasting behavior in `replace` is deprecated and will be removed in a future version. To retain the old behavior, explicitly call `result.infer_objects(copy=False)`. To opt-in to the future behavior, set `pd.set_option('future.no_silent_downcasting', True)`\n",
      "  accuracy = metrics.accuracy_score(y_true=pred_val[\"actual\"].replace({genre_1: 1, genre_2: 0}), y_pred=pred_val[\"predicted\"].replace({genre_1: 1, genre_2: 0}))\n"
     ]
    }
   ],
   "source": [
    "# Metrics\n",
    "accuracy = metrics.accuracy_score(y_true=pred_val[\"actual\"].replace({genre_1: 1, genre_2: 0}), y_pred=pred_val[\"predicted\"].replace({genre_1: 1, genre_2: 0}))\n",
    "error = 1 - accuracy\n",
    "TPR = conf_matrix[1,1] / (conf_matrix[1,1] + conf_matrix[1,0])\n",
    "FPR = conf_matrix[0,1] / (conf_matrix[0,1] + conf_matrix[0,0])\n",
    "TNR = conf_matrix[0,0] / (conf_matrix[0,0] + conf_matrix[0,1])\n",
    "FNR = conf_matrix[1,0] / (conf_matrix[1,0] + conf_matrix[1,1])\n",
    "print(f\"Accuracy: {accuracy}\\nError: {error}\\nTPR: {TPR}\\nFPR: {FPR}\\nTNR: {TNR}\\nFNR: {FNR}\")"
   ]
  },
  {
   "cell_type": "code",
   "execution_count": 73,
   "metadata": {},
   "outputs": [
    {
     "data": {
      "application/vnd.plotly.v1+json": {
       "config": {
        "plotlyServerURL": "https://plot.ly"
       },
       "data": [
        {
         "alignmentgroup": "True",
         "bingroup": "x",
         "hovertemplate": "actual=alt-rock<br>prob=%{x}<br>count=%{y}<extra></extra>",
         "legendgroup": "alt-rock",
         "marker": {
          "color": "#636efa",
          "opacity": 0.5,
          "pattern": {
           "shape": ""
          }
         },
         "name": "alt-rock",
         "offsetgroup": "alt-rock",
         "orientation": "v",
         "showlegend": true,
         "type": "histogram",
         "x": [
          0.025192052524755905,
          0.628505117778892,
          0.8022824113963971,
          0.6235861229957732,
          0.9349216925970162,
          0.3224291102588017,
          0.3224291102588017,
          0.6197043206149263,
          0.6197043206149263,
          0.9516429080980263,
          0.042075285393594904,
          0.6041243960415835,
          0.3107286819123856,
          0.2351180394427262,
          0.5751158735894643,
          0.18412341480371858,
          0.5217523158215323,
          0.18412341480371858,
          0.08590569984683756,
          0.08590569984683756,
          0.08590569984683756,
          0.08590569984683756,
          0.6127312906628548,
          0.019580017504142216,
          0.16783282601398994,
          0.5794697828910569,
          0.6813056498022789,
          0.7786276214725592,
          0.5028368333142036,
          0.6421133816772868,
          0.6421133816772868,
          0.5028368333142036,
          0.5965268177068809,
          0.7065819702978529,
          0.2544992323391394,
          0.2152065312690196,
          0.027731749733386858,
          0.2614233863736725,
          0.6479678394896291,
          0.8771989951944487,
          0.26919238739261186,
          0.6479678394896291,
          0.3227524367422987,
          0.459732571217686,
          0.5794697828910569,
          0.39078133023780026,
          0.19890310764356134,
          0.05302619519733313,
          0.09309662729322997,
          0.011396535126010385,
          0.18650167002237947,
          0.043749515350770304,
          0.7028006965267789,
          0.12855736403159426,
          0.6491376281320503,
          0.8457930731984773,
          0.11708156530135733,
          0.11708156530135733,
          0.023765106599136943,
          0.02528455890664478,
          0.5560701772816771,
          0.5560701772816771,
          0.19664289495115225,
          0.5462098455693615,
          0.6731093515480217,
          0.5030813347881117,
          0.5675681997719753,
          0.5130433271790142,
          0.5675681997719753,
          0.45614765114758027,
          0.6642791463624766,
          0.06000062220611726,
          0.8362548562634169,
          0.5562202323262597,
          0.3870523990936531,
          0.8519781724329527,
          0.4263640964819631,
          0.49865015807951335,
          0.5262539477985217,
          0.03246179712167779,
          0.5662156051549151,
          0.33572086379134164,
          0.3891116906468577,
          0.8047455710134191,
          0.39025310811934366,
          0.33981683734274987,
          0.5000257295688023,
          0.12180828786930142,
          0.5150523774059527,
          0.5850746220281045,
          0.6643831996971095,
          0.7547239814431285,
          0.26299605046183616,
          0.17347187431766684,
          0.06756600795634636,
          0.11547911638974626,
          0.5531728853240073,
          0.6875165141877785,
          0.7994087070681741,
          0.015484672225887836,
          0.04271884228330294,
          0.08252740266088253,
          0.06490647320311015,
          0.07835130612144629,
          0.09740836712891818,
          0.6912811347627077,
          0.7656398382253031,
          0.9068183891550141,
          0.08298176993128392,
          0.03859775633665407,
          0.2750076982361217,
          0.021391554336462754,
          0.05080165440815237,
          0.2963394386737379,
          0.2725075666279173,
          0.42717712248673834,
          0.5893763978145384,
          0.6545857482672829,
          0.08065531900438618,
          0.026731338401066146,
          0.2795287384888451,
          0.07967349480888392,
          0.07417830232376,
          0.010962877788072724,
          0.12916612387088966,
          0.22172040434379423,
          0.2364813492454074,
          0.06285161248977325,
          0.17774188125939253,
          0.2184891339497576,
          0.05029457963377054,
          0.24325145233865297,
          0.09487423627713042,
          0.3733163833840551,
          0.19532536591040942,
          0.6120220113272815,
          0.7059529992296879,
          0.17019570900467781,
          0.1192932941838673,
          0.023568897394920473,
          0.016343043656449344,
          0.07617586672447124,
          0.05996197425913997,
          0.4281449956984065,
          0.7944672573863674,
          0.08569802573717618,
          0.08249409714982052,
          0.6092762618631083,
          0.8534487641193218,
          0.1474967181495198,
          0.12219614842394935,
          0.1917097221658532,
          0.0749689886372095,
          0.04185751942010284,
          0.005229320216100838,
          0.25987214290864685,
          0.25544558745135476,
          0.19129383175888368,
          0.3004616377892509,
          0.27466263077385683,
          0.12110227915051794,
          0.11619510994391977,
          0.2512082154299831,
          0.5135374276526136,
          0.14159344306326666,
          0.2579286543887035,
          0.4589830336274527,
          0.2800236060036871,
          0.19207700067363784,
          0.14361193661722943,
          0.051469993734961327,
          0.40819495412388795,
          0.4004745256894486,
          0.24793154660909258,
          0.2104820720534683,
          0.04895490799141468,
          0.07304320520815775,
          0.08152934411117756,
          0.14912402574421918,
          0.09615582926698983,
          0.09877226343563413,
          0.5825604349350569,
          0.10605139468225741,
          0.03494905081160298,
          0.3326192064643459,
          0.11368748372792689,
          0.8227950310404558,
          0.5145785550428608,
          0.029255810280309224,
          0.17130740350629176,
          0.39617833307477535,
          0.4082240591343867,
          0.10580888657028098,
          0.1014997556282495,
          0.26317618897239486,
          0.18027577081018126,
          0.15632530108645654,
          0.2663871119145842,
          0.21403871439437108,
          0.4427692539235898,
          0.1438143906160585,
          0.03835711364058583,
          0.24931914573935027,
          0.049282374002923304,
          0.02177347392900524,
          0.512272225238489,
          0.07742053369664172,
          0.3407096636859044,
          0.30522563468213226,
          0.16411014738607907,
          0.05182988129223164
         ],
         "xaxis": "x",
         "yaxis": "y"
        },
        {
         "alignmentgroup": "True",
         "bingroup": "x",
         "hovertemplate": "actual=chicago-house<br>prob=%{x}<br>count=%{y}<extra></extra>",
         "legendgroup": "chicago-house",
         "marker": {
          "color": "#EF553B",
          "opacity": 0.5,
          "pattern": {
           "shape": ""
          }
         },
         "name": "chicago-house",
         "offsetgroup": "chicago-house",
         "orientation": "v",
         "showlegend": true,
         "type": "histogram",
         "x": [
          0.37048265090396715,
          0.30421594182434636,
          0.49099418745226686,
          0.4286292522283669,
          0.9615669262457041,
          0.950408760496534,
          0.9789244132313196,
          0.8838627593558556,
          0.8843184920439475,
          0.6803068209502907,
          0.8244105612445873,
          0.9440580158961269,
          0.8542302554922394,
          0.2724455984146933,
          0.6781732220840339,
          0.15906198680216613,
          0.5240034784352453,
          0.4127025484954547,
          0.8910684504343551,
          0.08318319254219964,
          0.8941678415843757,
          0.9984544706851802,
          0.39701037045625903,
          0.39898766205299924,
          0.37679979642262745,
          0.8941025451253604,
          0.7501121059035433,
          0.6679370683019977,
          0.8016115017517428,
          0.56230356458099,
          0.33972947342356485,
          0.28099216609575356,
          0.6499029902613289,
          0.2921062288697928,
          0.4779692229669247,
          0.5402995469750876,
          0.7949290966150905,
          0.7215479604820153,
          0.41243214052467725,
          0.652109131469716,
          0.9881185967917956,
          0.3589177734877403,
          0.6480637494342388,
          0.9265846943214487,
          0.4984483143732538,
          0.9663307703926127,
          0.9860632887608557,
          0.6903587686829995,
          0.4908173534817785,
          0.9411931554365077,
          0.8997768318195059,
          0.6860564033296206,
          0.7562714677044698,
          0.4992464576269832,
          0.6874653379311454,
          0.8537719558314651,
          0.9752184419627169,
          0.9955516573886266,
          0.8642732543772502,
          0.875479994349975,
          0.9226179682827743,
          0.6262264671302059,
          0.5099391135912139,
          0.8621907242180189,
          0.8706826790574667,
          0.36114200297367727,
          0.3177122624743884,
          0.7167513790724076,
          0.983669291033128,
          0.22827600397486048,
          0.9667400135940128,
          0.9692737707276919,
          0.9837399860869476,
          0.6618210906732515,
          0.20832571176891124,
          0.696387952931853,
          0.9006939980442329,
          0.9700815484904264,
          0.4221842768592931,
          0.9213972200471751,
          0.9393551301975696,
          0.7858670445352822,
          0.9817749222015019,
          0.8215848809940232,
          0.5654360130013982,
          0.3135270518585454,
          0.1967617186896803,
          0.994263830364213,
          0.7510071253900161,
          0.9422759909170416,
          0.4671582066073298,
          0.6883746555312638,
          0.37917203416781464,
          0.6415825736548385,
          0.9858631610563415,
          0.8389443061914994,
          0.9673561829474748,
          0.471453551389583,
          0.48405985444742605,
          0.29238076183762224,
          0.7262585166933572,
          0.8031432676104143,
          0.9312372824370395,
          0.5896208812037637,
          0.9207160025435036,
          0.5077575314661043,
          0.7655464264908206,
          0.9143957186789681,
          0.9750926819915713,
          0.9836643983915174,
          0.9032873375137757,
          0.9367239469835011,
          0.6591998426846646,
          0.7793796787968446,
          0.8320000604815768,
          0.9929077129733939,
          0.7042690749903964,
          0.5544284036429574,
          0.8210684856957364,
          0.9034561874981019,
          0.950183393608173,
          0.961407263556477,
          0.901713707081715,
          0.9079095923315983,
          0.929597999789612,
          0.9010109411816509,
          0.786610194136698,
          0.893152326851753,
          0.8586414641993755,
          0.9852891527769401,
          0.1399366619220105,
          0.8625774024764131,
          0.34224750367615997,
          0.9427327961623764,
          0.8573153120264976,
          0.8505231953755013,
          0.947867083983306,
          0.7549832142192388,
          0.46188929646818305,
          0.8646940581432102,
          0.9056084733374696,
          0.8374234090602206,
          0.9758258095132942,
          0.5365760977804865,
          0.4422867883308321,
          0.846302858333423,
          0.8846821149200793,
          0.800084313578261,
          0.8441508475594991,
          0.9893443445240993,
          0.911003766740083,
          0.7438316447610888,
          0.8902876059345382,
          0.9743158675787601,
          0.7118520862735007,
          0.48289082632501706,
          0.8055899050563908,
          0.8562821400395286,
          0.9248560046714317,
          0.9333007399746129,
          0.9238721400899762,
          0.4552015196587975,
          0.8404926586309097,
          0.7891638715217965,
          0.917164333234683,
          0.7712917978826119,
          0.4830615837528223,
          0.6108541213670272,
          0.8973795714222381,
          0.2413197812820005,
          0.982610835206319,
          0.517478248721493,
          0.986477526874216,
          0.9660223755877656,
          0.9030350761910403,
          0.8674839402977641,
          0.8988966509419276,
          0.8836483395750713,
          0.8472440120162619,
          0.5982699899923766,
          0.4173104074772888,
          0.83517305908692,
          0.8174860130634656,
          0.7504192251526828,
          0.7134223520705643,
          0.9085954287147328,
          0.736377588846984,
          0.8895779510129915
         ],
         "xaxis": "x",
         "yaxis": "y"
        }
       ],
       "layout": {
        "barmode": "overlay",
        "legend": {
         "title": {
          "text": "actual"
         },
         "tracegroupgap": 0
        },
        "template": {
         "data": {
          "bar": [
           {
            "error_x": {
             "color": "#2a3f5f"
            },
            "error_y": {
             "color": "#2a3f5f"
            },
            "marker": {
             "line": {
              "color": "#E5ECF6",
              "width": 0.5
             },
             "pattern": {
              "fillmode": "overlay",
              "size": 10,
              "solidity": 0.2
             }
            },
            "type": "bar"
           }
          ],
          "barpolar": [
           {
            "marker": {
             "line": {
              "color": "#E5ECF6",
              "width": 0.5
             },
             "pattern": {
              "fillmode": "overlay",
              "size": 10,
              "solidity": 0.2
             }
            },
            "type": "barpolar"
           }
          ],
          "carpet": [
           {
            "aaxis": {
             "endlinecolor": "#2a3f5f",
             "gridcolor": "white",
             "linecolor": "white",
             "minorgridcolor": "white",
             "startlinecolor": "#2a3f5f"
            },
            "baxis": {
             "endlinecolor": "#2a3f5f",
             "gridcolor": "white",
             "linecolor": "white",
             "minorgridcolor": "white",
             "startlinecolor": "#2a3f5f"
            },
            "type": "carpet"
           }
          ],
          "choropleth": [
           {
            "colorbar": {
             "outlinewidth": 0,
             "ticks": ""
            },
            "type": "choropleth"
           }
          ],
          "contour": [
           {
            "colorbar": {
             "outlinewidth": 0,
             "ticks": ""
            },
            "colorscale": [
             [
              0,
              "#0d0887"
             ],
             [
              0.1111111111111111,
              "#46039f"
             ],
             [
              0.2222222222222222,
              "#7201a8"
             ],
             [
              0.3333333333333333,
              "#9c179e"
             ],
             [
              0.4444444444444444,
              "#bd3786"
             ],
             [
              0.5555555555555556,
              "#d8576b"
             ],
             [
              0.6666666666666666,
              "#ed7953"
             ],
             [
              0.7777777777777778,
              "#fb9f3a"
             ],
             [
              0.8888888888888888,
              "#fdca26"
             ],
             [
              1,
              "#f0f921"
             ]
            ],
            "type": "contour"
           }
          ],
          "contourcarpet": [
           {
            "colorbar": {
             "outlinewidth": 0,
             "ticks": ""
            },
            "type": "contourcarpet"
           }
          ],
          "heatmap": [
           {
            "colorbar": {
             "outlinewidth": 0,
             "ticks": ""
            },
            "colorscale": [
             [
              0,
              "#0d0887"
             ],
             [
              0.1111111111111111,
              "#46039f"
             ],
             [
              0.2222222222222222,
              "#7201a8"
             ],
             [
              0.3333333333333333,
              "#9c179e"
             ],
             [
              0.4444444444444444,
              "#bd3786"
             ],
             [
              0.5555555555555556,
              "#d8576b"
             ],
             [
              0.6666666666666666,
              "#ed7953"
             ],
             [
              0.7777777777777778,
              "#fb9f3a"
             ],
             [
              0.8888888888888888,
              "#fdca26"
             ],
             [
              1,
              "#f0f921"
             ]
            ],
            "type": "heatmap"
           }
          ],
          "heatmapgl": [
           {
            "colorbar": {
             "outlinewidth": 0,
             "ticks": ""
            },
            "colorscale": [
             [
              0,
              "#0d0887"
             ],
             [
              0.1111111111111111,
              "#46039f"
             ],
             [
              0.2222222222222222,
              "#7201a8"
             ],
             [
              0.3333333333333333,
              "#9c179e"
             ],
             [
              0.4444444444444444,
              "#bd3786"
             ],
             [
              0.5555555555555556,
              "#d8576b"
             ],
             [
              0.6666666666666666,
              "#ed7953"
             ],
             [
              0.7777777777777778,
              "#fb9f3a"
             ],
             [
              0.8888888888888888,
              "#fdca26"
             ],
             [
              1,
              "#f0f921"
             ]
            ],
            "type": "heatmapgl"
           }
          ],
          "histogram": [
           {
            "marker": {
             "pattern": {
              "fillmode": "overlay",
              "size": 10,
              "solidity": 0.2
             }
            },
            "type": "histogram"
           }
          ],
          "histogram2d": [
           {
            "colorbar": {
             "outlinewidth": 0,
             "ticks": ""
            },
            "colorscale": [
             [
              0,
              "#0d0887"
             ],
             [
              0.1111111111111111,
              "#46039f"
             ],
             [
              0.2222222222222222,
              "#7201a8"
             ],
             [
              0.3333333333333333,
              "#9c179e"
             ],
             [
              0.4444444444444444,
              "#bd3786"
             ],
             [
              0.5555555555555556,
              "#d8576b"
             ],
             [
              0.6666666666666666,
              "#ed7953"
             ],
             [
              0.7777777777777778,
              "#fb9f3a"
             ],
             [
              0.8888888888888888,
              "#fdca26"
             ],
             [
              1,
              "#f0f921"
             ]
            ],
            "type": "histogram2d"
           }
          ],
          "histogram2dcontour": [
           {
            "colorbar": {
             "outlinewidth": 0,
             "ticks": ""
            },
            "colorscale": [
             [
              0,
              "#0d0887"
             ],
             [
              0.1111111111111111,
              "#46039f"
             ],
             [
              0.2222222222222222,
              "#7201a8"
             ],
             [
              0.3333333333333333,
              "#9c179e"
             ],
             [
              0.4444444444444444,
              "#bd3786"
             ],
             [
              0.5555555555555556,
              "#d8576b"
             ],
             [
              0.6666666666666666,
              "#ed7953"
             ],
             [
              0.7777777777777778,
              "#fb9f3a"
             ],
             [
              0.8888888888888888,
              "#fdca26"
             ],
             [
              1,
              "#f0f921"
             ]
            ],
            "type": "histogram2dcontour"
           }
          ],
          "mesh3d": [
           {
            "colorbar": {
             "outlinewidth": 0,
             "ticks": ""
            },
            "type": "mesh3d"
           }
          ],
          "parcoords": [
           {
            "line": {
             "colorbar": {
              "outlinewidth": 0,
              "ticks": ""
             }
            },
            "type": "parcoords"
           }
          ],
          "pie": [
           {
            "automargin": true,
            "type": "pie"
           }
          ],
          "scatter": [
           {
            "fillpattern": {
             "fillmode": "overlay",
             "size": 10,
             "solidity": 0.2
            },
            "type": "scatter"
           }
          ],
          "scatter3d": [
           {
            "line": {
             "colorbar": {
              "outlinewidth": 0,
              "ticks": ""
             }
            },
            "marker": {
             "colorbar": {
              "outlinewidth": 0,
              "ticks": ""
             }
            },
            "type": "scatter3d"
           }
          ],
          "scattercarpet": [
           {
            "marker": {
             "colorbar": {
              "outlinewidth": 0,
              "ticks": ""
             }
            },
            "type": "scattercarpet"
           }
          ],
          "scattergeo": [
           {
            "marker": {
             "colorbar": {
              "outlinewidth": 0,
              "ticks": ""
             }
            },
            "type": "scattergeo"
           }
          ],
          "scattergl": [
           {
            "marker": {
             "colorbar": {
              "outlinewidth": 0,
              "ticks": ""
             }
            },
            "type": "scattergl"
           }
          ],
          "scattermapbox": [
           {
            "marker": {
             "colorbar": {
              "outlinewidth": 0,
              "ticks": ""
             }
            },
            "type": "scattermapbox"
           }
          ],
          "scatterpolar": [
           {
            "marker": {
             "colorbar": {
              "outlinewidth": 0,
              "ticks": ""
             }
            },
            "type": "scatterpolar"
           }
          ],
          "scatterpolargl": [
           {
            "marker": {
             "colorbar": {
              "outlinewidth": 0,
              "ticks": ""
             }
            },
            "type": "scatterpolargl"
           }
          ],
          "scatterternary": [
           {
            "marker": {
             "colorbar": {
              "outlinewidth": 0,
              "ticks": ""
             }
            },
            "type": "scatterternary"
           }
          ],
          "surface": [
           {
            "colorbar": {
             "outlinewidth": 0,
             "ticks": ""
            },
            "colorscale": [
             [
              0,
              "#0d0887"
             ],
             [
              0.1111111111111111,
              "#46039f"
             ],
             [
              0.2222222222222222,
              "#7201a8"
             ],
             [
              0.3333333333333333,
              "#9c179e"
             ],
             [
              0.4444444444444444,
              "#bd3786"
             ],
             [
              0.5555555555555556,
              "#d8576b"
             ],
             [
              0.6666666666666666,
              "#ed7953"
             ],
             [
              0.7777777777777778,
              "#fb9f3a"
             ],
             [
              0.8888888888888888,
              "#fdca26"
             ],
             [
              1,
              "#f0f921"
             ]
            ],
            "type": "surface"
           }
          ],
          "table": [
           {
            "cells": {
             "fill": {
              "color": "#EBF0F8"
             },
             "line": {
              "color": "white"
             }
            },
            "header": {
             "fill": {
              "color": "#C8D4E3"
             },
             "line": {
              "color": "white"
             }
            },
            "type": "table"
           }
          ]
         },
         "layout": {
          "annotationdefaults": {
           "arrowcolor": "#2a3f5f",
           "arrowhead": 0,
           "arrowwidth": 1
          },
          "autotypenumbers": "strict",
          "coloraxis": {
           "colorbar": {
            "outlinewidth": 0,
            "ticks": ""
           }
          },
          "colorscale": {
           "diverging": [
            [
             0,
             "#8e0152"
            ],
            [
             0.1,
             "#c51b7d"
            ],
            [
             0.2,
             "#de77ae"
            ],
            [
             0.3,
             "#f1b6da"
            ],
            [
             0.4,
             "#fde0ef"
            ],
            [
             0.5,
             "#f7f7f7"
            ],
            [
             0.6,
             "#e6f5d0"
            ],
            [
             0.7,
             "#b8e186"
            ],
            [
             0.8,
             "#7fbc41"
            ],
            [
             0.9,
             "#4d9221"
            ],
            [
             1,
             "#276419"
            ]
           ],
           "sequential": [
            [
             0,
             "#0d0887"
            ],
            [
             0.1111111111111111,
             "#46039f"
            ],
            [
             0.2222222222222222,
             "#7201a8"
            ],
            [
             0.3333333333333333,
             "#9c179e"
            ],
            [
             0.4444444444444444,
             "#bd3786"
            ],
            [
             0.5555555555555556,
             "#d8576b"
            ],
            [
             0.6666666666666666,
             "#ed7953"
            ],
            [
             0.7777777777777778,
             "#fb9f3a"
            ],
            [
             0.8888888888888888,
             "#fdca26"
            ],
            [
             1,
             "#f0f921"
            ]
           ],
           "sequentialminus": [
            [
             0,
             "#0d0887"
            ],
            [
             0.1111111111111111,
             "#46039f"
            ],
            [
             0.2222222222222222,
             "#7201a8"
            ],
            [
             0.3333333333333333,
             "#9c179e"
            ],
            [
             0.4444444444444444,
             "#bd3786"
            ],
            [
             0.5555555555555556,
             "#d8576b"
            ],
            [
             0.6666666666666666,
             "#ed7953"
            ],
            [
             0.7777777777777778,
             "#fb9f3a"
            ],
            [
             0.8888888888888888,
             "#fdca26"
            ],
            [
             1,
             "#f0f921"
            ]
           ]
          },
          "colorway": [
           "#636efa",
           "#EF553B",
           "#00cc96",
           "#ab63fa",
           "#FFA15A",
           "#19d3f3",
           "#FF6692",
           "#B6E880",
           "#FF97FF",
           "#FECB52"
          ],
          "font": {
           "color": "#2a3f5f"
          },
          "geo": {
           "bgcolor": "white",
           "lakecolor": "white",
           "landcolor": "#E5ECF6",
           "showlakes": true,
           "showland": true,
           "subunitcolor": "white"
          },
          "hoverlabel": {
           "align": "left"
          },
          "hovermode": "closest",
          "mapbox": {
           "style": "light"
          },
          "paper_bgcolor": "white",
          "plot_bgcolor": "#E5ECF6",
          "polar": {
           "angularaxis": {
            "gridcolor": "white",
            "linecolor": "white",
            "ticks": ""
           },
           "bgcolor": "#E5ECF6",
           "radialaxis": {
            "gridcolor": "white",
            "linecolor": "white",
            "ticks": ""
           }
          },
          "scene": {
           "xaxis": {
            "backgroundcolor": "#E5ECF6",
            "gridcolor": "white",
            "gridwidth": 2,
            "linecolor": "white",
            "showbackground": true,
            "ticks": "",
            "zerolinecolor": "white"
           },
           "yaxis": {
            "backgroundcolor": "#E5ECF6",
            "gridcolor": "white",
            "gridwidth": 2,
            "linecolor": "white",
            "showbackground": true,
            "ticks": "",
            "zerolinecolor": "white"
           },
           "zaxis": {
            "backgroundcolor": "#E5ECF6",
            "gridcolor": "white",
            "gridwidth": 2,
            "linecolor": "white",
            "showbackground": true,
            "ticks": "",
            "zerolinecolor": "white"
           }
          },
          "shapedefaults": {
           "line": {
            "color": "#2a3f5f"
           }
          },
          "ternary": {
           "aaxis": {
            "gridcolor": "white",
            "linecolor": "white",
            "ticks": ""
           },
           "baxis": {
            "gridcolor": "white",
            "linecolor": "white",
            "ticks": ""
           },
           "bgcolor": "#E5ECF6",
           "caxis": {
            "gridcolor": "white",
            "linecolor": "white",
            "ticks": ""
           }
          },
          "title": {
           "x": 0.05
          },
          "xaxis": {
           "automargin": true,
           "gridcolor": "white",
           "linecolor": "white",
           "ticks": "",
           "title": {
            "standoff": 15
           },
           "zerolinecolor": "white",
           "zerolinewidth": 2
          },
          "yaxis": {
           "automargin": true,
           "gridcolor": "white",
           "linecolor": "white",
           "ticks": "",
           "title": {
            "standoff": 15
           },
           "zerolinecolor": "white",
           "zerolinewidth": 2
          }
         }
        },
        "title": {
         "text": "Predicted Probability Densities"
        },
        "xaxis": {
         "anchor": "y",
         "domain": [
          0,
          1
         ],
         "title": {
          "text": "prob"
         }
        },
        "yaxis": {
         "anchor": "x",
         "domain": [
          0,
          1
         ],
         "title": {
          "text": "count"
         }
        }
       }
      }
     },
     "metadata": {},
     "output_type": "display_data"
    }
   ],
   "source": [
    "# Predicted probability densities \n",
    "px.histogram(pred_val, x=\"prob\", color=\"actual\", opacity=0.5, barmode=\"overlay\", title=\"Predicted Probability Densities\")"
   ]
  },
  {
   "cell_type": "code",
   "execution_count": 75,
   "metadata": {},
   "outputs": [
    {
     "name": "stderr",
     "output_type": "stream",
     "text": [
      "C:\\Users\\hbken\\AppData\\Local\\Temp\\ipykernel_24416\\2065979628.py:2: FutureWarning:\n",
      "\n",
      "Downcasting behavior in `replace` is deprecated and will be removed in a future version. To retain the old behavior, explicitly call `result.infer_objects(copy=False)`. To opt-in to the future behavior, set `pd.set_option('future.no_silent_downcasting', True)`\n",
      "\n"
     ]
    },
    {
     "data": {
      "text/plain": [
       "array([       inf, 0.99845447, 0.96140726, 0.95164291, 0.93672395,\n",
       "       0.93492169, 0.90790959, 0.90681839, 0.88364834, 0.877199  ,\n",
       "       0.85377196, 0.85197817, 0.84630286, 0.84579307, 0.83742341,\n",
       "       0.83625486, 0.82441056, 0.82279503, 0.80558991, 0.80474557,\n",
       "       0.80314327, 0.80228241, 0.80008431, 0.79940871, 0.7949291 ,\n",
       "       0.79446726, 0.77937968, 0.77862762, 0.7712918 , 0.76563984,\n",
       "       0.75498321, 0.75472398, 0.71185209, 0.705953  , 0.70426907,\n",
       "       0.7028007 , 0.69638795, 0.69128113, 0.68837466, 0.68751651,\n",
       "       0.6860564 , 0.68130565, 0.67817322, 0.67310935, 0.66793707,\n",
       "       0.66427915, 0.65919984, 0.65458575, 0.64990299, 0.64913763,\n",
       "       0.64806375, 0.64211338, 0.64158257, 0.62850512, 0.62622647,\n",
       "       0.62358612, 0.61970432, 0.61202201, 0.61085412, 0.6041244 ,\n",
       "       0.59826999, 0.59652682, 0.58962088, 0.58256043, 0.57946978,\n",
       "       0.57511587, 0.5675682 , 0.56621561, 0.56230356, 0.55622023,\n",
       "       0.55607018, 0.5544284 , 0.54620985, 0.5365761 , 0.52625395,\n",
       "       0.52400348, 0.52175232, 0.51747825, 0.51227223, 0.50775753,\n",
       "       0.50308133, 0.50283683, 0.50002573, 0.49924646, 0.49865016,\n",
       "       0.4618893 , 0.45614765, 0.45520152, 0.44276925, 0.42862925,\n",
       "       0.4263641 , 0.41243214, 0.40047453, 0.39701037, 0.3870524 ,\n",
       "       0.3767998 , 0.37331638, 0.3422475 , 0.33981684, 0.33972947,\n",
       "       0.32275244, 0.32242911, 0.31352705, 0.30522563, 0.30421594,\n",
       "       0.29633944, 0.28099217, 0.27250757, 0.2724456 , 0.24325145,\n",
       "       0.24131978, 0.23511804, 0.228276  , 0.21048207, 0.20832571,\n",
       "       0.19890311, 0.19676172, 0.18650167, 0.18412341, 0.16411015,\n",
       "       0.15906199, 0.14159344, 0.13993666, 0.11929329, 0.11708157,\n",
       "       0.09309663, 0.0859057 , 0.08569803, 0.08318319, 0.00522932])"
      ]
     },
     "execution_count": 75,
     "metadata": {},
     "output_type": "execute_result"
    }
   ],
   "source": [
    "# ROC Curve\n",
    "lr_fpr, lr_tpr, lr_thresholds = metrics.roc_curve(y_true=pred_val[\"actual\"].replace({genre_1: 1, genre_2: 0}), y_score=pred_val[\"prob\"])\n",
    "lr_thresholds"
   ]
  },
  {
   "cell_type": "code",
   "execution_count": 76,
   "metadata": {},
   "outputs": [
    {
     "data": {
      "application/vnd.plotly.v1+json": {
       "config": {
        "plotlyServerURL": "https://plot.ly"
       },
       "data": [
        {
         "hovertemplate": "Model=Logistic Regression<br>False Positive Rate=%{x}<br>True Positive Rate=%{y}<extra></extra>",
         "legendgroup": "Logistic Regression",
         "line": {
          "color": "#636efa",
          "dash": "solid"
         },
         "marker": {
          "symbol": "circle"
         },
         "mode": "lines",
         "name": "Logistic Regression",
         "orientation": "v",
         "showlegend": true,
         "type": "scatter",
         "x": [
          0,
          0,
          0,
          0.004739336492890996,
          0.004739336492890996,
          0.009478672985781991,
          0.009478672985781991,
          0.014218009478672985,
          0.014218009478672985,
          0.018957345971563982,
          0.018957345971563982,
          0.02843601895734597,
          0.02843601895734597,
          0.03317535545023697,
          0.03317535545023697,
          0.037914691943127965,
          0.037914691943127965,
          0.04265402843601896,
          0.04265402843601896,
          0.04739336492890995,
          0.04739336492890995,
          0.052132701421800945,
          0.052132701421800945,
          0.05687203791469194,
          0.05687203791469194,
          0.061611374407582936,
          0.061611374407582936,
          0.06635071090047394,
          0.06635071090047394,
          0.07109004739336493,
          0.07109004739336493,
          0.07582938388625593,
          0.07582938388625593,
          0.08530805687203792,
          0.08530805687203792,
          0.09004739336492891,
          0.09004739336492891,
          0.0947867298578199,
          0.0947867298578199,
          0.0995260663507109,
          0.0995260663507109,
          0.10426540284360189,
          0.10426540284360189,
          0.10900473933649289,
          0.10900473933649289,
          0.11848341232227488,
          0.11848341232227488,
          0.12322274881516587,
          0.12322274881516587,
          0.12796208530805686,
          0.12796208530805686,
          0.14691943127962084,
          0.14691943127962084,
          0.15165876777251186,
          0.15165876777251186,
          0.15639810426540285,
          0.16587677725118483,
          0.17535545023696683,
          0.17535545023696683,
          0.1848341232227488,
          0.1848341232227488,
          0.1895734597156398,
          0.1895734597156398,
          0.2037914691943128,
          0.2132701421800948,
          0.21800947867298578,
          0.22748815165876776,
          0.23222748815165878,
          0.23222748815165878,
          0.23696682464454977,
          0.24644549763033174,
          0.24644549763033174,
          0.2559241706161137,
          0.2559241706161137,
          0.26066350710900477,
          0.26066350710900477,
          0.26540284360189575,
          0.26540284360189575,
          0.2890995260663507,
          0.2890995260663507,
          0.2938388625592417,
          0.3033175355450237,
          0.3080568720379147,
          0.3080568720379147,
          0.3127962085308057,
          0.3127962085308057,
          0.32701421800947866,
          0.32701421800947866,
          0.33175355450236965,
          0.33175355450236965,
          0.3459715639810427,
          0.3459715639810427,
          0.36018957345971564,
          0.36018957345971564,
          0.38388625592417064,
          0.38388625592417064,
          0.3886255924170616,
          0.3886255924170616,
          0.3981042654028436,
          0.3981042654028436,
          0.41232227488151657,
          0.4218009478672986,
          0.4218009478672986,
          0.4312796208530806,
          0.4312796208530806,
          0.44075829383886256,
          0.44075829383886256,
          0.46445497630331756,
          0.46445497630331756,
          0.5260663507109005,
          0.5260663507109005,
          0.5355450236966824,
          0.5355450236966824,
          0.5592417061611374,
          0.5592417061611374,
          0.5639810426540285,
          0.5639810426540285,
          0.5924170616113744,
          0.6018957345971564,
          0.6350710900473934,
          0.6350710900473934,
          0.6635071090047393,
          0.6635071090047393,
          0.6919431279620853,
          0.7014218009478673,
          0.7535545023696683,
          0.7725118483412322,
          0.7772511848341233,
          0.7772511848341233,
          1
         ],
         "xaxis": "x",
         "y": [
          0,
          0.005319148936170213,
          0.14893617021276595,
          0.14893617021276595,
          0.19680851063829788,
          0.19680851063829788,
          0.2712765957446808,
          0.2712765957446808,
          0.3776595744680851,
          0.3776595744680851,
          0.44148936170212766,
          0.44148936170212766,
          0.4574468085106383,
          0.4574468085106383,
          0.4787234042553192,
          0.4787234042553192,
          0.4946808510638298,
          0.4946808510638298,
          0.5159574468085106,
          0.5159574468085106,
          0.5212765957446809,
          0.5212765957446809,
          0.5319148936170213,
          0.5319148936170213,
          0.5372340425531915,
          0.5372340425531915,
          0.5585106382978723,
          0.5585106382978723,
          0.5638297872340425,
          0.5638297872340425,
          0.5797872340425532,
          0.5797872340425532,
          0.6329787234042553,
          0.6329787234042553,
          0.6382978723404256,
          0.6382978723404256,
          0.6436170212765957,
          0.6436170212765957,
          0.6542553191489362,
          0.6542553191489362,
          0.6648936170212766,
          0.6648936170212766,
          0.675531914893617,
          0.675531914893617,
          0.6808510638297872,
          0.6808510638297872,
          0.6914893617021277,
          0.6914893617021277,
          0.7021276595744681,
          0.7021276595744681,
          0.7074468085106383,
          0.7074468085106383,
          0.7127659574468085,
          0.7127659574468085,
          0.7180851063829787,
          0.7180851063829787,
          0.7180851063829787,
          0.7180851063829787,
          0.723404255319149,
          0.723404255319149,
          0.7287234042553191,
          0.7287234042553191,
          0.7340425531914894,
          0.7340425531914894,
          0.7340425531914894,
          0.7340425531914894,
          0.7340425531914894,
          0.7340425531914894,
          0.7446808510638298,
          0.7446808510638298,
          0.7446808510638298,
          0.75,
          0.75,
          0.7606382978723404,
          0.7606382978723404,
          0.7659574468085106,
          0.7659574468085106,
          0.7712765957446809,
          0.7712765957446809,
          0.7819148936170213,
          0.7819148936170213,
          0.7819148936170213,
          0.7819148936170213,
          0.7872340425531915,
          0.7872340425531915,
          0.8404255319148937,
          0.8404255319148937,
          0.8457446808510638,
          0.8457446808510638,
          0.8563829787234043,
          0.8563829787234043,
          0.8776595744680851,
          0.8776595744680851,
          0.8882978723404256,
          0.8882978723404256,
          0.898936170212766,
          0.898936170212766,
          0.9202127659574468,
          0.9202127659574468,
          0.925531914893617,
          0.925531914893617,
          0.925531914893617,
          0.9361702127659575,
          0.9361702127659575,
          0.9414893617021277,
          0.9414893617021277,
          0.9574468085106383,
          0.9574468085106383,
          0.9627659574468085,
          0.9627659574468085,
          0.9680851063829787,
          0.9680851063829787,
          0.973404255319149,
          0.973404255319149,
          0.9787234042553191,
          0.9787234042553191,
          0.9840425531914894,
          0.9840425531914894,
          0.9840425531914894,
          0.9840425531914894,
          0.9893617021276596,
          0.9893617021276596,
          0.9946808510638298,
          0.9946808510638298,
          0.9946808510638298,
          0.9946808510638298,
          0.9946808510638298,
          0.9946808510638298,
          1,
          1
         ],
         "yaxis": "y"
        }
       ],
       "layout": {
        "legend": {
         "title": {
          "text": "Model"
         },
         "tracegroupgap": 0
        },
        "template": {
         "data": {
          "bar": [
           {
            "error_x": {
             "color": "#2a3f5f"
            },
            "error_y": {
             "color": "#2a3f5f"
            },
            "marker": {
             "line": {
              "color": "#E5ECF6",
              "width": 0.5
             },
             "pattern": {
              "fillmode": "overlay",
              "size": 10,
              "solidity": 0.2
             }
            },
            "type": "bar"
           }
          ],
          "barpolar": [
           {
            "marker": {
             "line": {
              "color": "#E5ECF6",
              "width": 0.5
             },
             "pattern": {
              "fillmode": "overlay",
              "size": 10,
              "solidity": 0.2
             }
            },
            "type": "barpolar"
           }
          ],
          "carpet": [
           {
            "aaxis": {
             "endlinecolor": "#2a3f5f",
             "gridcolor": "white",
             "linecolor": "white",
             "minorgridcolor": "white",
             "startlinecolor": "#2a3f5f"
            },
            "baxis": {
             "endlinecolor": "#2a3f5f",
             "gridcolor": "white",
             "linecolor": "white",
             "minorgridcolor": "white",
             "startlinecolor": "#2a3f5f"
            },
            "type": "carpet"
           }
          ],
          "choropleth": [
           {
            "colorbar": {
             "outlinewidth": 0,
             "ticks": ""
            },
            "type": "choropleth"
           }
          ],
          "contour": [
           {
            "colorbar": {
             "outlinewidth": 0,
             "ticks": ""
            },
            "colorscale": [
             [
              0,
              "#0d0887"
             ],
             [
              0.1111111111111111,
              "#46039f"
             ],
             [
              0.2222222222222222,
              "#7201a8"
             ],
             [
              0.3333333333333333,
              "#9c179e"
             ],
             [
              0.4444444444444444,
              "#bd3786"
             ],
             [
              0.5555555555555556,
              "#d8576b"
             ],
             [
              0.6666666666666666,
              "#ed7953"
             ],
             [
              0.7777777777777778,
              "#fb9f3a"
             ],
             [
              0.8888888888888888,
              "#fdca26"
             ],
             [
              1,
              "#f0f921"
             ]
            ],
            "type": "contour"
           }
          ],
          "contourcarpet": [
           {
            "colorbar": {
             "outlinewidth": 0,
             "ticks": ""
            },
            "type": "contourcarpet"
           }
          ],
          "heatmap": [
           {
            "colorbar": {
             "outlinewidth": 0,
             "ticks": ""
            },
            "colorscale": [
             [
              0,
              "#0d0887"
             ],
             [
              0.1111111111111111,
              "#46039f"
             ],
             [
              0.2222222222222222,
              "#7201a8"
             ],
             [
              0.3333333333333333,
              "#9c179e"
             ],
             [
              0.4444444444444444,
              "#bd3786"
             ],
             [
              0.5555555555555556,
              "#d8576b"
             ],
             [
              0.6666666666666666,
              "#ed7953"
             ],
             [
              0.7777777777777778,
              "#fb9f3a"
             ],
             [
              0.8888888888888888,
              "#fdca26"
             ],
             [
              1,
              "#f0f921"
             ]
            ],
            "type": "heatmap"
           }
          ],
          "heatmapgl": [
           {
            "colorbar": {
             "outlinewidth": 0,
             "ticks": ""
            },
            "colorscale": [
             [
              0,
              "#0d0887"
             ],
             [
              0.1111111111111111,
              "#46039f"
             ],
             [
              0.2222222222222222,
              "#7201a8"
             ],
             [
              0.3333333333333333,
              "#9c179e"
             ],
             [
              0.4444444444444444,
              "#bd3786"
             ],
             [
              0.5555555555555556,
              "#d8576b"
             ],
             [
              0.6666666666666666,
              "#ed7953"
             ],
             [
              0.7777777777777778,
              "#fb9f3a"
             ],
             [
              0.8888888888888888,
              "#fdca26"
             ],
             [
              1,
              "#f0f921"
             ]
            ],
            "type": "heatmapgl"
           }
          ],
          "histogram": [
           {
            "marker": {
             "pattern": {
              "fillmode": "overlay",
              "size": 10,
              "solidity": 0.2
             }
            },
            "type": "histogram"
           }
          ],
          "histogram2d": [
           {
            "colorbar": {
             "outlinewidth": 0,
             "ticks": ""
            },
            "colorscale": [
             [
              0,
              "#0d0887"
             ],
             [
              0.1111111111111111,
              "#46039f"
             ],
             [
              0.2222222222222222,
              "#7201a8"
             ],
             [
              0.3333333333333333,
              "#9c179e"
             ],
             [
              0.4444444444444444,
              "#bd3786"
             ],
             [
              0.5555555555555556,
              "#d8576b"
             ],
             [
              0.6666666666666666,
              "#ed7953"
             ],
             [
              0.7777777777777778,
              "#fb9f3a"
             ],
             [
              0.8888888888888888,
              "#fdca26"
             ],
             [
              1,
              "#f0f921"
             ]
            ],
            "type": "histogram2d"
           }
          ],
          "histogram2dcontour": [
           {
            "colorbar": {
             "outlinewidth": 0,
             "ticks": ""
            },
            "colorscale": [
             [
              0,
              "#0d0887"
             ],
             [
              0.1111111111111111,
              "#46039f"
             ],
             [
              0.2222222222222222,
              "#7201a8"
             ],
             [
              0.3333333333333333,
              "#9c179e"
             ],
             [
              0.4444444444444444,
              "#bd3786"
             ],
             [
              0.5555555555555556,
              "#d8576b"
             ],
             [
              0.6666666666666666,
              "#ed7953"
             ],
             [
              0.7777777777777778,
              "#fb9f3a"
             ],
             [
              0.8888888888888888,
              "#fdca26"
             ],
             [
              1,
              "#f0f921"
             ]
            ],
            "type": "histogram2dcontour"
           }
          ],
          "mesh3d": [
           {
            "colorbar": {
             "outlinewidth": 0,
             "ticks": ""
            },
            "type": "mesh3d"
           }
          ],
          "parcoords": [
           {
            "line": {
             "colorbar": {
              "outlinewidth": 0,
              "ticks": ""
             }
            },
            "type": "parcoords"
           }
          ],
          "pie": [
           {
            "automargin": true,
            "type": "pie"
           }
          ],
          "scatter": [
           {
            "fillpattern": {
             "fillmode": "overlay",
             "size": 10,
             "solidity": 0.2
            },
            "type": "scatter"
           }
          ],
          "scatter3d": [
           {
            "line": {
             "colorbar": {
              "outlinewidth": 0,
              "ticks": ""
             }
            },
            "marker": {
             "colorbar": {
              "outlinewidth": 0,
              "ticks": ""
             }
            },
            "type": "scatter3d"
           }
          ],
          "scattercarpet": [
           {
            "marker": {
             "colorbar": {
              "outlinewidth": 0,
              "ticks": ""
             }
            },
            "type": "scattercarpet"
           }
          ],
          "scattergeo": [
           {
            "marker": {
             "colorbar": {
              "outlinewidth": 0,
              "ticks": ""
             }
            },
            "type": "scattergeo"
           }
          ],
          "scattergl": [
           {
            "marker": {
             "colorbar": {
              "outlinewidth": 0,
              "ticks": ""
             }
            },
            "type": "scattergl"
           }
          ],
          "scattermapbox": [
           {
            "marker": {
             "colorbar": {
              "outlinewidth": 0,
              "ticks": ""
             }
            },
            "type": "scattermapbox"
           }
          ],
          "scatterpolar": [
           {
            "marker": {
             "colorbar": {
              "outlinewidth": 0,
              "ticks": ""
             }
            },
            "type": "scatterpolar"
           }
          ],
          "scatterpolargl": [
           {
            "marker": {
             "colorbar": {
              "outlinewidth": 0,
              "ticks": ""
             }
            },
            "type": "scatterpolargl"
           }
          ],
          "scatterternary": [
           {
            "marker": {
             "colorbar": {
              "outlinewidth": 0,
              "ticks": ""
             }
            },
            "type": "scatterternary"
           }
          ],
          "surface": [
           {
            "colorbar": {
             "outlinewidth": 0,
             "ticks": ""
            },
            "colorscale": [
             [
              0,
              "#0d0887"
             ],
             [
              0.1111111111111111,
              "#46039f"
             ],
             [
              0.2222222222222222,
              "#7201a8"
             ],
             [
              0.3333333333333333,
              "#9c179e"
             ],
             [
              0.4444444444444444,
              "#bd3786"
             ],
             [
              0.5555555555555556,
              "#d8576b"
             ],
             [
              0.6666666666666666,
              "#ed7953"
             ],
             [
              0.7777777777777778,
              "#fb9f3a"
             ],
             [
              0.8888888888888888,
              "#fdca26"
             ],
             [
              1,
              "#f0f921"
             ]
            ],
            "type": "surface"
           }
          ],
          "table": [
           {
            "cells": {
             "fill": {
              "color": "#EBF0F8"
             },
             "line": {
              "color": "white"
             }
            },
            "header": {
             "fill": {
              "color": "#C8D4E3"
             },
             "line": {
              "color": "white"
             }
            },
            "type": "table"
           }
          ]
         },
         "layout": {
          "annotationdefaults": {
           "arrowcolor": "#2a3f5f",
           "arrowhead": 0,
           "arrowwidth": 1
          },
          "autotypenumbers": "strict",
          "coloraxis": {
           "colorbar": {
            "outlinewidth": 0,
            "ticks": ""
           }
          },
          "colorscale": {
           "diverging": [
            [
             0,
             "#8e0152"
            ],
            [
             0.1,
             "#c51b7d"
            ],
            [
             0.2,
             "#de77ae"
            ],
            [
             0.3,
             "#f1b6da"
            ],
            [
             0.4,
             "#fde0ef"
            ],
            [
             0.5,
             "#f7f7f7"
            ],
            [
             0.6,
             "#e6f5d0"
            ],
            [
             0.7,
             "#b8e186"
            ],
            [
             0.8,
             "#7fbc41"
            ],
            [
             0.9,
             "#4d9221"
            ],
            [
             1,
             "#276419"
            ]
           ],
           "sequential": [
            [
             0,
             "#0d0887"
            ],
            [
             0.1111111111111111,
             "#46039f"
            ],
            [
             0.2222222222222222,
             "#7201a8"
            ],
            [
             0.3333333333333333,
             "#9c179e"
            ],
            [
             0.4444444444444444,
             "#bd3786"
            ],
            [
             0.5555555555555556,
             "#d8576b"
            ],
            [
             0.6666666666666666,
             "#ed7953"
            ],
            [
             0.7777777777777778,
             "#fb9f3a"
            ],
            [
             0.8888888888888888,
             "#fdca26"
            ],
            [
             1,
             "#f0f921"
            ]
           ],
           "sequentialminus": [
            [
             0,
             "#0d0887"
            ],
            [
             0.1111111111111111,
             "#46039f"
            ],
            [
             0.2222222222222222,
             "#7201a8"
            ],
            [
             0.3333333333333333,
             "#9c179e"
            ],
            [
             0.4444444444444444,
             "#bd3786"
            ],
            [
             0.5555555555555556,
             "#d8576b"
            ],
            [
             0.6666666666666666,
             "#ed7953"
            ],
            [
             0.7777777777777778,
             "#fb9f3a"
            ],
            [
             0.8888888888888888,
             "#fdca26"
            ],
            [
             1,
             "#f0f921"
            ]
           ]
          },
          "colorway": [
           "#636efa",
           "#EF553B",
           "#00cc96",
           "#ab63fa",
           "#FFA15A",
           "#19d3f3",
           "#FF6692",
           "#B6E880",
           "#FF97FF",
           "#FECB52"
          ],
          "font": {
           "color": "#2a3f5f"
          },
          "geo": {
           "bgcolor": "white",
           "lakecolor": "white",
           "landcolor": "#E5ECF6",
           "showlakes": true,
           "showland": true,
           "subunitcolor": "white"
          },
          "hoverlabel": {
           "align": "left"
          },
          "hovermode": "closest",
          "mapbox": {
           "style": "light"
          },
          "paper_bgcolor": "white",
          "plot_bgcolor": "#E5ECF6",
          "polar": {
           "angularaxis": {
            "gridcolor": "white",
            "linecolor": "white",
            "ticks": ""
           },
           "bgcolor": "#E5ECF6",
           "radialaxis": {
            "gridcolor": "white",
            "linecolor": "white",
            "ticks": ""
           }
          },
          "scene": {
           "xaxis": {
            "backgroundcolor": "#E5ECF6",
            "gridcolor": "white",
            "gridwidth": 2,
            "linecolor": "white",
            "showbackground": true,
            "ticks": "",
            "zerolinecolor": "white"
           },
           "yaxis": {
            "backgroundcolor": "#E5ECF6",
            "gridcolor": "white",
            "gridwidth": 2,
            "linecolor": "white",
            "showbackground": true,
            "ticks": "",
            "zerolinecolor": "white"
           },
           "zaxis": {
            "backgroundcolor": "#E5ECF6",
            "gridcolor": "white",
            "gridwidth": 2,
            "linecolor": "white",
            "showbackground": true,
            "ticks": "",
            "zerolinecolor": "white"
           }
          },
          "shapedefaults": {
           "line": {
            "color": "#2a3f5f"
           }
          },
          "ternary": {
           "aaxis": {
            "gridcolor": "white",
            "linecolor": "white",
            "ticks": ""
           },
           "baxis": {
            "gridcolor": "white",
            "linecolor": "white",
            "ticks": ""
           },
           "bgcolor": "#E5ECF6",
           "caxis": {
            "gridcolor": "white",
            "linecolor": "white",
            "ticks": ""
           }
          },
          "title": {
           "x": 0.05
          },
          "xaxis": {
           "automargin": true,
           "gridcolor": "white",
           "linecolor": "white",
           "ticks": "",
           "title": {
            "standoff": 15
           },
           "zerolinecolor": "white",
           "zerolinewidth": 2
          },
          "yaxis": {
           "automargin": true,
           "gridcolor": "white",
           "linecolor": "white",
           "ticks": "",
           "title": {
            "standoff": 15
           },
           "zerolinecolor": "white",
           "zerolinewidth": 2
          }
         }
        },
        "title": {
         "text": "LR ROC Curve"
        },
        "xaxis": {
         "anchor": "y",
         "domain": [
          0,
          1
         ],
         "title": {
          "text": "False Positive Rate"
         }
        },
        "yaxis": {
         "anchor": "x",
         "domain": [
          0,
          1
         ],
         "title": {
          "text": "True Positive Rate"
         }
        }
       }
      }
     },
     "metadata": {},
     "output_type": "display_data"
    }
   ],
   "source": [
    "roc_lr = pd.DataFrame({\"False Positive Rate\": lr_fpr, \"True Positive Rate\": lr_tpr, \"Model\": \"Logistic Regression\"}, index=lr_thresholds)\n",
    "roc_df = pd.concat([roc_lr]) # This concatenation is necessary for the plot to work\n",
    "px.line(roc_df, y=\"True Positive Rate\", x=\"False Positive Rate\", color=\"Model\", title=\"LR ROC Curve\")"
   ]
  },
  {
   "cell_type": "code",
   "execution_count": 78,
   "metadata": {},
   "outputs": [
    {
     "name": "stdout",
     "output_type": "stream",
     "text": [
      "Logistic Regression AUC: 0.873\n"
     ]
    },
    {
     "name": "stderr",
     "output_type": "stream",
     "text": [
      "C:\\Users\\hbken\\AppData\\Local\\Temp\\ipykernel_24416\\3008897237.py:2: FutureWarning:\n",
      "\n",
      "Downcasting behavior in `replace` is deprecated and will be removed in a future version. To retain the old behavior, explicitly call `result.infer_objects(copy=False)`. To opt-in to the future behavior, set `pd.set_option('future.no_silent_downcasting', True)`\n",
      "\n"
     ]
    }
   ],
   "source": [
    "# Compute AUC\n",
    "lr_auc = metrics.roc_auc_score(y_true=pred_val[\"actual\"].replace({genre_1: 1, genre_2: 0}), y_score=pred_val[\"prob\"])\n",
    "print(\"Logistic Regression AUC:\", lr_auc.round(3))\n",
    "\n",
    "# The AUC measures the area under the ROC curve. The closer the AUC is to 1, the better the model is at distinguishing between the two classes.\n",
    "# AUC is threshold independent - it summarizes performance over all possible classification thresholds\n",
    "# The AUC is also robust to class imbalance, as it considers the trade-off between sensitivity and specificity (this makes it a more informative metric when class distributions are skewed)\n",
    "# If a model's AUC is 0 <= X <= 1, it means that it can distinguish between positive and negative cases with a probability of X"
   ]
  }
 ],
 "metadata": {
  "kernelspec": {
   "display_name": ".venv",
   "language": "python",
   "name": "python3"
  },
  "language_info": {
   "codemirror_mode": {
    "name": "ipython",
    "version": 3
   },
   "file_extension": ".py",
   "mimetype": "text/x-python",
   "name": "python",
   "nbconvert_exporter": "python",
   "pygments_lexer": "ipython3",
   "version": "3.12.7"
  }
 },
 "nbformat": 4,
 "nbformat_minor": 2
}
