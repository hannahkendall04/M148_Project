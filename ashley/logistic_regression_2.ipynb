{
 "cells": [
  {
   "cell_type": "markdown",
   "metadata": {},
   "source": [
    "# Week 4 Checkin - Logistic Regression"
   ]
  },
  {
   "cell_type": "code",
   "execution_count": 1,
   "metadata": {},
   "outputs": [
    {
     "name": "stdout",
     "output_type": "stream",
     "text": [
      "Requirement already satisfied: pandas in c:\\users\\fpt\\appdata\\local\\programs\\python\\python311\\lib\\site-packages (2.2.0)\n",
      "Requirement already satisfied: numpy<2,>=1.23.2 in c:\\users\\fpt\\appdata\\local\\programs\\python\\python311\\lib\\site-packages (from pandas) (1.26.3)\n",
      "Requirement already satisfied: python-dateutil>=2.8.2 in c:\\users\\fpt\\appdata\\local\\programs\\python\\python311\\lib\\site-packages (from pandas) (2.8.2)\n",
      "Requirement already satisfied: pytz>=2020.1 in c:\\users\\fpt\\appdata\\local\\programs\\python\\python311\\lib\\site-packages (from pandas) (2023.3.post1)\n",
      "Requirement already satisfied: tzdata>=2022.7 in c:\\users\\fpt\\appdata\\local\\programs\\python\\python311\\lib\\site-packages (from pandas) (2023.4)\n",
      "Requirement already satisfied: six>=1.5 in c:\\users\\fpt\\appdata\\local\\programs\\python\\python311\\lib\\site-packages (from python-dateutil>=2.8.2->pandas) (1.16.0)\n",
      "Note: you may need to restart the kernel to use updated packages.\n"
     ]
    }
   ],
   "source": [
    "%pip install pandas"
   ]
  },
  {
   "cell_type": "code",
   "execution_count": 2,
   "metadata": {},
   "outputs": [
    {
     "name": "stdout",
     "output_type": "stream",
     "text": [
      "Requirement already satisfied: openpyxl in c:\\users\\fpt\\appdata\\local\\programs\\python\\python311\\lib\\site-packages (3.1.5)Note: you may need to restart the kernel to use updated packages.\n",
      "\n",
      "Requirement already satisfied: et-xmlfile in c:\\users\\fpt\\appdata\\local\\programs\\python\\python311\\lib\\site-packages (from openpyxl) (1.1.0)\n"
     ]
    }
   ],
   "source": [
    "%pip install openpyxl"
   ]
  },
  {
   "cell_type": "code",
   "execution_count": 1,
   "metadata": {},
   "outputs": [],
   "source": [
    "import pandas as pd\n",
    "import numpy as np\n",
    "import plotly.express as px\n",
    "import plotly.figure_factory as ff\n",
    "import plotly.graph_objects as go\n",
    "from sklearn.linear_model import LinearRegression\n",
    "from sklearn.linear_model import LogisticRegression\n",
    "from sklearn import metrics\n",
    "import matplotlib.pyplot as plt\n"
   ]
  },
  {
   "cell_type": "code",
   "execution_count": 3,
   "metadata": {},
   "outputs": [
    {
     "data": {
      "text/html": [
       "<div>\n",
       "<style scoped>\n",
       "    .dataframe tbody tr th:only-of-type {\n",
       "        vertical-align: middle;\n",
       "    }\n",
       "\n",
       "    .dataframe tbody tr th {\n",
       "        vertical-align: top;\n",
       "    }\n",
       "\n",
       "    .dataframe thead th {\n",
       "        text-align: right;\n",
       "    }\n",
       "</style>\n",
       "<table border=\"1\" class=\"dataframe\">\n",
       "  <thead>\n",
       "    <tr style=\"text-align: right;\">\n",
       "      <th></th>\n",
       "      <th>Unnamed: 0</th>\n",
       "      <th>track_id</th>\n",
       "      <th>artists</th>\n",
       "      <th>album_name</th>\n",
       "      <th>track_name</th>\n",
       "      <th>popularity</th>\n",
       "      <th>duration_ms</th>\n",
       "      <th>explicit</th>\n",
       "      <th>danceability</th>\n",
       "      <th>energy</th>\n",
       "      <th>...</th>\n",
       "      <th>loudness</th>\n",
       "      <th>mode</th>\n",
       "      <th>speechiness</th>\n",
       "      <th>acousticness</th>\n",
       "      <th>instrumentalness</th>\n",
       "      <th>liveness</th>\n",
       "      <th>valence</th>\n",
       "      <th>tempo</th>\n",
       "      <th>time_signature</th>\n",
       "      <th>track_genre</th>\n",
       "    </tr>\n",
       "  </thead>\n",
       "  <tbody>\n",
       "    <tr>\n",
       "      <th>0</th>\n",
       "      <td>0</td>\n",
       "      <td>5SuOikwiRyPMVoIQDJUgSV</td>\n",
       "      <td>Gen Hoshino</td>\n",
       "      <td>Comedy</td>\n",
       "      <td>Comedy</td>\n",
       "      <td>73</td>\n",
       "      <td>230666</td>\n",
       "      <td>False</td>\n",
       "      <td>0.676</td>\n",
       "      <td>0.4610</td>\n",
       "      <td>...</td>\n",
       "      <td>-6.746</td>\n",
       "      <td>0</td>\n",
       "      <td>0.1430</td>\n",
       "      <td>0.0322</td>\n",
       "      <td>0.000001</td>\n",
       "      <td>0.3580</td>\n",
       "      <td>0.7150</td>\n",
       "      <td>87.917</td>\n",
       "      <td>4</td>\n",
       "      <td>acoustic</td>\n",
       "    </tr>\n",
       "    <tr>\n",
       "      <th>1</th>\n",
       "      <td>1</td>\n",
       "      <td>4qPNDBW1i3p13qLCt0Ki3A</td>\n",
       "      <td>Ben Woodward</td>\n",
       "      <td>Ghost (Acoustic)</td>\n",
       "      <td>Ghost - Acoustic</td>\n",
       "      <td>55</td>\n",
       "      <td>149610</td>\n",
       "      <td>False</td>\n",
       "      <td>0.420</td>\n",
       "      <td>0.1660</td>\n",
       "      <td>...</td>\n",
       "      <td>-17.235</td>\n",
       "      <td>1</td>\n",
       "      <td>0.0763</td>\n",
       "      <td>0.9240</td>\n",
       "      <td>0.000006</td>\n",
       "      <td>0.1010</td>\n",
       "      <td>0.2670</td>\n",
       "      <td>77.489</td>\n",
       "      <td>4</td>\n",
       "      <td>acoustic</td>\n",
       "    </tr>\n",
       "    <tr>\n",
       "      <th>2</th>\n",
       "      <td>2</td>\n",
       "      <td>1iJBSr7s7jYXzM8EGcbK5b</td>\n",
       "      <td>Ingrid Michaelson;ZAYN</td>\n",
       "      <td>To Begin Again</td>\n",
       "      <td>To Begin Again</td>\n",
       "      <td>57</td>\n",
       "      <td>210826</td>\n",
       "      <td>False</td>\n",
       "      <td>0.438</td>\n",
       "      <td>0.3590</td>\n",
       "      <td>...</td>\n",
       "      <td>-9.734</td>\n",
       "      <td>1</td>\n",
       "      <td>0.0557</td>\n",
       "      <td>0.2100</td>\n",
       "      <td>0.000000</td>\n",
       "      <td>0.1170</td>\n",
       "      <td>0.1200</td>\n",
       "      <td>76.332</td>\n",
       "      <td>4</td>\n",
       "      <td>acoustic</td>\n",
       "    </tr>\n",
       "    <tr>\n",
       "      <th>3</th>\n",
       "      <td>3</td>\n",
       "      <td>6lfxq3CG4xtTiEg7opyCyx</td>\n",
       "      <td>Kina Grannis</td>\n",
       "      <td>Crazy Rich Asians (Original Motion Picture Sou...</td>\n",
       "      <td>Can't Help Falling In Love</td>\n",
       "      <td>71</td>\n",
       "      <td>201933</td>\n",
       "      <td>False</td>\n",
       "      <td>0.266</td>\n",
       "      <td>0.0596</td>\n",
       "      <td>...</td>\n",
       "      <td>-18.515</td>\n",
       "      <td>1</td>\n",
       "      <td>0.0363</td>\n",
       "      <td>0.9050</td>\n",
       "      <td>0.000071</td>\n",
       "      <td>0.1320</td>\n",
       "      <td>0.1430</td>\n",
       "      <td>181.740</td>\n",
       "      <td>3</td>\n",
       "      <td>acoustic</td>\n",
       "    </tr>\n",
       "    <tr>\n",
       "      <th>4</th>\n",
       "      <td>4</td>\n",
       "      <td>5vjLSffimiIP26QG5WcN2K</td>\n",
       "      <td>Chord Overstreet</td>\n",
       "      <td>Hold On</td>\n",
       "      <td>Hold On</td>\n",
       "      <td>82</td>\n",
       "      <td>198853</td>\n",
       "      <td>False</td>\n",
       "      <td>0.618</td>\n",
       "      <td>0.4430</td>\n",
       "      <td>...</td>\n",
       "      <td>-9.681</td>\n",
       "      <td>1</td>\n",
       "      <td>0.0526</td>\n",
       "      <td>0.4690</td>\n",
       "      <td>0.000000</td>\n",
       "      <td>0.0829</td>\n",
       "      <td>0.1670</td>\n",
       "      <td>119.949</td>\n",
       "      <td>4</td>\n",
       "      <td>acoustic</td>\n",
       "    </tr>\n",
       "    <tr>\n",
       "      <th>...</th>\n",
       "      <td>...</td>\n",
       "      <td>...</td>\n",
       "      <td>...</td>\n",
       "      <td>...</td>\n",
       "      <td>...</td>\n",
       "      <td>...</td>\n",
       "      <td>...</td>\n",
       "      <td>...</td>\n",
       "      <td>...</td>\n",
       "      <td>...</td>\n",
       "      <td>...</td>\n",
       "      <td>...</td>\n",
       "      <td>...</td>\n",
       "      <td>...</td>\n",
       "      <td>...</td>\n",
       "      <td>...</td>\n",
       "      <td>...</td>\n",
       "      <td>...</td>\n",
       "      <td>...</td>\n",
       "      <td>...</td>\n",
       "      <td>...</td>\n",
       "    </tr>\n",
       "    <tr>\n",
       "      <th>88727</th>\n",
       "      <td>113995</td>\n",
       "      <td>2C3TZjDRiAzdyViavDJ217</td>\n",
       "      <td>Rainy Lullaby</td>\n",
       "      <td>#mindfulness - Soft Rain for Mindful Meditatio...</td>\n",
       "      <td>Sleep My Little Boy</td>\n",
       "      <td>21</td>\n",
       "      <td>384999</td>\n",
       "      <td>False</td>\n",
       "      <td>0.172</td>\n",
       "      <td>0.2350</td>\n",
       "      <td>...</td>\n",
       "      <td>-16.393</td>\n",
       "      <td>1</td>\n",
       "      <td>0.0422</td>\n",
       "      <td>0.6400</td>\n",
       "      <td>0.928000</td>\n",
       "      <td>0.0863</td>\n",
       "      <td>0.0339</td>\n",
       "      <td>125.995</td>\n",
       "      <td>5</td>\n",
       "      <td>world-music</td>\n",
       "    </tr>\n",
       "    <tr>\n",
       "      <th>88728</th>\n",
       "      <td>113996</td>\n",
       "      <td>1hIz5L4IB9hN3WRYPOCGPw</td>\n",
       "      <td>Rainy Lullaby</td>\n",
       "      <td>#mindfulness - Soft Rain for Mindful Meditatio...</td>\n",
       "      <td>Water Into Light</td>\n",
       "      <td>22</td>\n",
       "      <td>385000</td>\n",
       "      <td>False</td>\n",
       "      <td>0.174</td>\n",
       "      <td>0.1170</td>\n",
       "      <td>...</td>\n",
       "      <td>-18.318</td>\n",
       "      <td>0</td>\n",
       "      <td>0.0401</td>\n",
       "      <td>0.9940</td>\n",
       "      <td>0.976000</td>\n",
       "      <td>0.1050</td>\n",
       "      <td>0.0350</td>\n",
       "      <td>85.239</td>\n",
       "      <td>4</td>\n",
       "      <td>world-music</td>\n",
       "    </tr>\n",
       "    <tr>\n",
       "      <th>88729</th>\n",
       "      <td>113997</td>\n",
       "      <td>6x8ZfSoqDjuNa5SVP5QjvX</td>\n",
       "      <td>Cesária Evora</td>\n",
       "      <td>Best Of</td>\n",
       "      <td>Miss Perfumado</td>\n",
       "      <td>22</td>\n",
       "      <td>271466</td>\n",
       "      <td>False</td>\n",
       "      <td>0.629</td>\n",
       "      <td>0.3290</td>\n",
       "      <td>...</td>\n",
       "      <td>-10.895</td>\n",
       "      <td>0</td>\n",
       "      <td>0.0420</td>\n",
       "      <td>0.8670</td>\n",
       "      <td>0.000000</td>\n",
       "      <td>0.0839</td>\n",
       "      <td>0.7430</td>\n",
       "      <td>132.378</td>\n",
       "      <td>4</td>\n",
       "      <td>world-music</td>\n",
       "    </tr>\n",
       "    <tr>\n",
       "      <th>88730</th>\n",
       "      <td>113998</td>\n",
       "      <td>2e6sXL2bYv4bSz6VTdnfLs</td>\n",
       "      <td>Michael W. Smith</td>\n",
       "      <td>Change Your World</td>\n",
       "      <td>Friends</td>\n",
       "      <td>41</td>\n",
       "      <td>283893</td>\n",
       "      <td>False</td>\n",
       "      <td>0.587</td>\n",
       "      <td>0.5060</td>\n",
       "      <td>...</td>\n",
       "      <td>-10.889</td>\n",
       "      <td>1</td>\n",
       "      <td>0.0297</td>\n",
       "      <td>0.3810</td>\n",
       "      <td>0.000000</td>\n",
       "      <td>0.2700</td>\n",
       "      <td>0.4130</td>\n",
       "      <td>135.960</td>\n",
       "      <td>4</td>\n",
       "      <td>world-music</td>\n",
       "    </tr>\n",
       "    <tr>\n",
       "      <th>88731</th>\n",
       "      <td>113999</td>\n",
       "      <td>2hETkH7cOfqmz3LqZDHZf5</td>\n",
       "      <td>Cesária Evora</td>\n",
       "      <td>Miss Perfumado</td>\n",
       "      <td>Barbincor</td>\n",
       "      <td>22</td>\n",
       "      <td>241826</td>\n",
       "      <td>False</td>\n",
       "      <td>0.526</td>\n",
       "      <td>0.4870</td>\n",
       "      <td>...</td>\n",
       "      <td>-10.204</td>\n",
       "      <td>0</td>\n",
       "      <td>0.0725</td>\n",
       "      <td>0.6810</td>\n",
       "      <td>0.000000</td>\n",
       "      <td>0.0893</td>\n",
       "      <td>0.7080</td>\n",
       "      <td>79.198</td>\n",
       "      <td>4</td>\n",
       "      <td>world-music</td>\n",
       "    </tr>\n",
       "  </tbody>\n",
       "</table>\n",
       "<p>88732 rows × 21 columns</p>\n",
       "</div>"
      ],
      "text/plain": [
       "       Unnamed: 0                track_id                 artists  \\\n",
       "0               0  5SuOikwiRyPMVoIQDJUgSV             Gen Hoshino   \n",
       "1               1  4qPNDBW1i3p13qLCt0Ki3A            Ben Woodward   \n",
       "2               2  1iJBSr7s7jYXzM8EGcbK5b  Ingrid Michaelson;ZAYN   \n",
       "3               3  6lfxq3CG4xtTiEg7opyCyx            Kina Grannis   \n",
       "4               4  5vjLSffimiIP26QG5WcN2K        Chord Overstreet   \n",
       "...           ...                     ...                     ...   \n",
       "88727      113995  2C3TZjDRiAzdyViavDJ217           Rainy Lullaby   \n",
       "88728      113996  1hIz5L4IB9hN3WRYPOCGPw           Rainy Lullaby   \n",
       "88729      113997  6x8ZfSoqDjuNa5SVP5QjvX           Cesária Evora   \n",
       "88730      113998  2e6sXL2bYv4bSz6VTdnfLs        Michael W. Smith   \n",
       "88731      113999  2hETkH7cOfqmz3LqZDHZf5           Cesária Evora   \n",
       "\n",
       "                                              album_name  \\\n",
       "0                                                 Comedy   \n",
       "1                                       Ghost (Acoustic)   \n",
       "2                                         To Begin Again   \n",
       "3      Crazy Rich Asians (Original Motion Picture Sou...   \n",
       "4                                                Hold On   \n",
       "...                                                  ...   \n",
       "88727  #mindfulness - Soft Rain for Mindful Meditatio...   \n",
       "88728  #mindfulness - Soft Rain for Mindful Meditatio...   \n",
       "88729                                            Best Of   \n",
       "88730                                  Change Your World   \n",
       "88731                                     Miss Perfumado   \n",
       "\n",
       "                       track_name  popularity  duration_ms  explicit  \\\n",
       "0                          Comedy          73       230666     False   \n",
       "1                Ghost - Acoustic          55       149610     False   \n",
       "2                  To Begin Again          57       210826     False   \n",
       "3      Can't Help Falling In Love          71       201933     False   \n",
       "4                         Hold On          82       198853     False   \n",
       "...                           ...         ...          ...       ...   \n",
       "88727         Sleep My Little Boy          21       384999     False   \n",
       "88728            Water Into Light          22       385000     False   \n",
       "88729              Miss Perfumado          22       271466     False   \n",
       "88730                     Friends          41       283893     False   \n",
       "88731                   Barbincor          22       241826     False   \n",
       "\n",
       "       danceability  energy  ...  loudness  mode  speechiness  acousticness  \\\n",
       "0             0.676  0.4610  ...    -6.746     0       0.1430        0.0322   \n",
       "1             0.420  0.1660  ...   -17.235     1       0.0763        0.9240   \n",
       "2             0.438  0.3590  ...    -9.734     1       0.0557        0.2100   \n",
       "3             0.266  0.0596  ...   -18.515     1       0.0363        0.9050   \n",
       "4             0.618  0.4430  ...    -9.681     1       0.0526        0.4690   \n",
       "...             ...     ...  ...       ...   ...          ...           ...   \n",
       "88727         0.172  0.2350  ...   -16.393     1       0.0422        0.6400   \n",
       "88728         0.174  0.1170  ...   -18.318     0       0.0401        0.9940   \n",
       "88729         0.629  0.3290  ...   -10.895     0       0.0420        0.8670   \n",
       "88730         0.587  0.5060  ...   -10.889     1       0.0297        0.3810   \n",
       "88731         0.526  0.4870  ...   -10.204     0       0.0725        0.6810   \n",
       "\n",
       "       instrumentalness  liveness  valence    tempo  time_signature  \\\n",
       "0              0.000001    0.3580   0.7150   87.917               4   \n",
       "1              0.000006    0.1010   0.2670   77.489               4   \n",
       "2              0.000000    0.1170   0.1200   76.332               4   \n",
       "3              0.000071    0.1320   0.1430  181.740               3   \n",
       "4              0.000000    0.0829   0.1670  119.949               4   \n",
       "...                 ...       ...      ...      ...             ...   \n",
       "88727          0.928000    0.0863   0.0339  125.995               5   \n",
       "88728          0.976000    0.1050   0.0350   85.239               4   \n",
       "88729          0.000000    0.0839   0.7430  132.378               4   \n",
       "88730          0.000000    0.2700   0.4130  135.960               4   \n",
       "88731          0.000000    0.0893   0.7080   79.198               4   \n",
       "\n",
       "       track_genre  \n",
       "0         acoustic  \n",
       "1         acoustic  \n",
       "2         acoustic  \n",
       "3         acoustic  \n",
       "4         acoustic  \n",
       "...            ...  \n",
       "88727  world-music  \n",
       "88728  world-music  \n",
       "88729  world-music  \n",
       "88730  world-music  \n",
       "88731  world-music  \n",
       "\n",
       "[88732 rows x 21 columns]"
      ]
     },
     "execution_count": 3,
     "metadata": {},
     "output_type": "execute_result"
    }
   ],
   "source": [
    "logistic_data_orig = pd.read_excel('clean_data.xlsx')\n",
    "logistic_data_orig"
   ]
  },
  {
   "cell_type": "code",
   "execution_count": 5,
   "metadata": {},
   "outputs": [
    {
     "data": {
      "text/html": [
       "<div>\n",
       "<style scoped>\n",
       "    .dataframe tbody tr th:only-of-type {\n",
       "        vertical-align: middle;\n",
       "    }\n",
       "\n",
       "    .dataframe tbody tr th {\n",
       "        vertical-align: top;\n",
       "    }\n",
       "\n",
       "    .dataframe thead th {\n",
       "        text-align: right;\n",
       "    }\n",
       "</style>\n",
       "<table border=\"1\" class=\"dataframe\">\n",
       "  <thead>\n",
       "    <tr style=\"text-align: right;\">\n",
       "      <th></th>\n",
       "      <th>Unnamed: 0</th>\n",
       "      <th>track_id</th>\n",
       "      <th>artists</th>\n",
       "      <th>album_name</th>\n",
       "      <th>track_name</th>\n",
       "      <th>popularity</th>\n",
       "      <th>duration_ms</th>\n",
       "      <th>explicit</th>\n",
       "      <th>danceability</th>\n",
       "      <th>energy</th>\n",
       "      <th>...</th>\n",
       "      <th>loudness</th>\n",
       "      <th>mode</th>\n",
       "      <th>speechiness</th>\n",
       "      <th>acousticness</th>\n",
       "      <th>instrumentalness</th>\n",
       "      <th>liveness</th>\n",
       "      <th>valence</th>\n",
       "      <th>tempo</th>\n",
       "      <th>time_signature</th>\n",
       "      <th>track_genre</th>\n",
       "    </tr>\n",
       "  </thead>\n",
       "  <tbody>\n",
       "    <tr>\n",
       "      <th>35906</th>\n",
       "      <td>40668</td>\n",
       "      <td>1gPl1vIBXFwInMXHJ5Ug7Y</td>\n",
       "      <td>Oficina G3</td>\n",
       "      <td>Depois da Guerra</td>\n",
       "      <td>A Ele</td>\n",
       "      <td>40</td>\n",
       "      <td>280589</td>\n",
       "      <td>False</td>\n",
       "      <td>0.159</td>\n",
       "      <td>0.790</td>\n",
       "      <td>...</td>\n",
       "      <td>-4.829</td>\n",
       "      <td>0</td>\n",
       "      <td>0.0593</td>\n",
       "      <td>0.173000</td>\n",
       "      <td>0.000000</td>\n",
       "      <td>0.0986</td>\n",
       "      <td>0.149</td>\n",
       "      <td>173.385</td>\n",
       "      <td>3</td>\n",
       "      <td>gospel</td>\n",
       "    </tr>\n",
       "    <tr>\n",
       "      <th>37846</th>\n",
       "      <td>42748</td>\n",
       "      <td>7BE5qh8793eRFmk55hrhxk</td>\n",
       "      <td>Extreme Noise Terror</td>\n",
       "      <td>Retrobution</td>\n",
       "      <td>Subliminal</td>\n",
       "      <td>12</td>\n",
       "      <td>254600</td>\n",
       "      <td>False</td>\n",
       "      <td>0.241</td>\n",
       "      <td>0.882</td>\n",
       "      <td>...</td>\n",
       "      <td>-8.735</td>\n",
       "      <td>1</td>\n",
       "      <td>0.0792</td>\n",
       "      <td>0.000003</td>\n",
       "      <td>0.692000</td>\n",
       "      <td>0.1140</td>\n",
       "      <td>0.237</td>\n",
       "      <td>109.698</td>\n",
       "      <td>4</td>\n",
       "      <td>grindcore</td>\n",
       "    </tr>\n",
       "    <tr>\n",
       "      <th>41098</th>\n",
       "      <td>46659</td>\n",
       "      <td>43hnPF1sJYgCpo9DDZglac</td>\n",
       "      <td>Scooter;VASSY</td>\n",
       "      <td>Today</td>\n",
       "      <td>Today</td>\n",
       "      <td>19</td>\n",
       "      <td>207256</td>\n",
       "      <td>False</td>\n",
       "      <td>0.632</td>\n",
       "      <td>0.884</td>\n",
       "      <td>...</td>\n",
       "      <td>-4.545</td>\n",
       "      <td>0</td>\n",
       "      <td>0.0350</td>\n",
       "      <td>0.002250</td>\n",
       "      <td>0.003590</td>\n",
       "      <td>0.3280</td>\n",
       "      <td>0.260</td>\n",
       "      <td>131.947</td>\n",
       "      <td>4</td>\n",
       "      <td>happy</td>\n",
       "    </tr>\n",
       "    <tr>\n",
       "      <th>82873</th>\n",
       "      <td>106702</td>\n",
       "      <td>6Yks2lkGxBNs7u9qw57riG</td>\n",
       "      <td>Jebase;Xeinn</td>\n",
       "      <td>changes</td>\n",
       "      <td>changes</td>\n",
       "      <td>31</td>\n",
       "      <td>163422</td>\n",
       "      <td>True</td>\n",
       "      <td>0.704</td>\n",
       "      <td>0.536</td>\n",
       "      <td>...</td>\n",
       "      <td>-10.748</td>\n",
       "      <td>0</td>\n",
       "      <td>0.0302</td>\n",
       "      <td>0.403000</td>\n",
       "      <td>0.278000</td>\n",
       "      <td>0.3420</td>\n",
       "      <td>0.155</td>\n",
       "      <td>130.022</td>\n",
       "      <td>4</td>\n",
       "      <td>swedish</td>\n",
       "    </tr>\n",
       "    <tr>\n",
       "      <th>61291</th>\n",
       "      <td>74253</td>\n",
       "      <td>2luLDXlcVQmuQ3HARbIDgr</td>\n",
       "      <td>Ana Gabriela</td>\n",
       "      <td>Do Quarto Pro Mundo</td>\n",
       "      <td>3 Horas</td>\n",
       "      <td>44</td>\n",
       "      <td>166573</td>\n",
       "      <td>False</td>\n",
       "      <td>0.566</td>\n",
       "      <td>0.483</td>\n",
       "      <td>...</td>\n",
       "      <td>-10.660</td>\n",
       "      <td>1</td>\n",
       "      <td>0.0313</td>\n",
       "      <td>0.562000</td>\n",
       "      <td>0.000400</td>\n",
       "      <td>0.0973</td>\n",
       "      <td>0.323</td>\n",
       "      <td>142.793</td>\n",
       "      <td>4</td>\n",
       "      <td>mpb</td>\n",
       "    </tr>\n",
       "    <tr>\n",
       "      <th>63521</th>\n",
       "      <td>76780</td>\n",
       "      <td>1eqdiz5chKkoa7BWmDYPBI</td>\n",
       "      <td>André Rieu;Johann Strauss Orchestra</td>\n",
       "      <td>Viva Olympia (Live)</td>\n",
       "      <td>Amigos Para Siempre - Live</td>\n",
       "      <td>20</td>\n",
       "      <td>301333</td>\n",
       "      <td>False</td>\n",
       "      <td>0.179</td>\n",
       "      <td>0.657</td>\n",
       "      <td>...</td>\n",
       "      <td>-6.959</td>\n",
       "      <td>1</td>\n",
       "      <td>0.0692</td>\n",
       "      <td>0.887000</td>\n",
       "      <td>0.000000</td>\n",
       "      <td>0.9750</td>\n",
       "      <td>0.293</td>\n",
       "      <td>79.059</td>\n",
       "      <td>3</td>\n",
       "      <td>opera</td>\n",
       "    </tr>\n",
       "    <tr>\n",
       "      <th>39548</th>\n",
       "      <td>44971</td>\n",
       "      <td>3KcJEOyaLDLAERlOCBhmPA</td>\n",
       "      <td>Pearl Jam</td>\n",
       "      <td>Ten</td>\n",
       "      <td>Garden</td>\n",
       "      <td>55</td>\n",
       "      <td>298933</td>\n",
       "      <td>False</td>\n",
       "      <td>0.191</td>\n",
       "      <td>0.707</td>\n",
       "      <td>...</td>\n",
       "      <td>-6.846</td>\n",
       "      <td>1</td>\n",
       "      <td>0.0345</td>\n",
       "      <td>0.047800</td>\n",
       "      <td>0.000061</td>\n",
       "      <td>0.2950</td>\n",
       "      <td>0.179</td>\n",
       "      <td>82.700</td>\n",
       "      <td>4</td>\n",
       "      <td>grunge</td>\n",
       "    </tr>\n",
       "  </tbody>\n",
       "</table>\n",
       "<p>7 rows × 21 columns</p>\n",
       "</div>"
      ],
      "text/plain": [
       "       Unnamed: 0                track_id  \\\n",
       "35906       40668  1gPl1vIBXFwInMXHJ5Ug7Y   \n",
       "37846       42748  7BE5qh8793eRFmk55hrhxk   \n",
       "41098       46659  43hnPF1sJYgCpo9DDZglac   \n",
       "82873      106702  6Yks2lkGxBNs7u9qw57riG   \n",
       "61291       74253  2luLDXlcVQmuQ3HARbIDgr   \n",
       "63521       76780  1eqdiz5chKkoa7BWmDYPBI   \n",
       "39548       44971  3KcJEOyaLDLAERlOCBhmPA   \n",
       "\n",
       "                                   artists           album_name  \\\n",
       "35906                           Oficina G3     Depois da Guerra   \n",
       "37846                 Extreme Noise Terror          Retrobution   \n",
       "41098                        Scooter;VASSY                Today   \n",
       "82873                         Jebase;Xeinn              changes   \n",
       "61291                         Ana Gabriela  Do Quarto Pro Mundo   \n",
       "63521  André Rieu;Johann Strauss Orchestra  Viva Olympia (Live)   \n",
       "39548                            Pearl Jam                  Ten   \n",
       "\n",
       "                       track_name  popularity  duration_ms  explicit  \\\n",
       "35906                       A Ele          40       280589     False   \n",
       "37846                  Subliminal          12       254600     False   \n",
       "41098                       Today          19       207256     False   \n",
       "82873                     changes          31       163422      True   \n",
       "61291                     3 Horas          44       166573     False   \n",
       "63521  Amigos Para Siempre - Live          20       301333     False   \n",
       "39548                      Garden          55       298933     False   \n",
       "\n",
       "       danceability  energy  ...  loudness  mode  speechiness  acousticness  \\\n",
       "35906         0.159   0.790  ...    -4.829     0       0.0593      0.173000   \n",
       "37846         0.241   0.882  ...    -8.735     1       0.0792      0.000003   \n",
       "41098         0.632   0.884  ...    -4.545     0       0.0350      0.002250   \n",
       "82873         0.704   0.536  ...   -10.748     0       0.0302      0.403000   \n",
       "61291         0.566   0.483  ...   -10.660     1       0.0313      0.562000   \n",
       "63521         0.179   0.657  ...    -6.959     1       0.0692      0.887000   \n",
       "39548         0.191   0.707  ...    -6.846     1       0.0345      0.047800   \n",
       "\n",
       "       instrumentalness  liveness  valence    tempo  time_signature  \\\n",
       "35906          0.000000    0.0986    0.149  173.385               3   \n",
       "37846          0.692000    0.1140    0.237  109.698               4   \n",
       "41098          0.003590    0.3280    0.260  131.947               4   \n",
       "82873          0.278000    0.3420    0.155  130.022               4   \n",
       "61291          0.000400    0.0973    0.323  142.793               4   \n",
       "63521          0.000000    0.9750    0.293   79.059               3   \n",
       "39548          0.000061    0.2950    0.179   82.700               4   \n",
       "\n",
       "       track_genre  \n",
       "35906       gospel  \n",
       "37846    grindcore  \n",
       "41098        happy  \n",
       "82873      swedish  \n",
       "61291          mpb  \n",
       "63521        opera  \n",
       "39548       grunge  \n",
       "\n",
       "[7 rows x 21 columns]"
      ]
     },
     "execution_count": 5,
     "metadata": {},
     "output_type": "execute_result"
    }
   ],
   "source": [
    "logistic_data_orig.sample(7)"
   ]
  },
  {
   "cell_type": "markdown",
   "metadata": {},
   "source": [
    "\n",
    "---\n",
    "\n",
    "\n",
    "## Fitting logistic regression to the full training dataset\n",
    "\n",
    "\n",
    "Next, compute a logistic regression fit for the entire training dataset:"
   ]
  },
  {
   "cell_type": "code",
   "execution_count": 6,
   "metadata": {},
   "outputs": [
    {
     "name": "stdout",
     "output_type": "stream",
     "text": [
      "Intercept: [0.17933063]\n",
      "Coefficients: [[-0.96508481 -2.19179382 -0.10068603 -0.76492574  1.34050641 -0.04720315]]\n"
     ]
    }
   ],
   "source": [
    "from sklearn.preprocessing import LabelEncoder\n",
    "from sklearn.model_selection import train_test_split\n",
    "from sklearn.linear_model import LogisticRegression\n",
    "\n",
    "# Separate the features and target variable\n",
    "X = logistic_data_orig[[\"instrumentalness\", \"speechiness\", \"energy\", \"valence\", \"danceability\", \"acousticness\"]]\n",
    "\n",
    "y = (logistic_data_orig['popularity'] > 30).astype(int)  # Convert to binary: 1 if popularity > 33, else 0\n",
    "\n",
    "# Apply LabelEncoder to each categorical column in X\n",
    "for col in X.select_dtypes(include='object').columns:\n",
    "    le = LabelEncoder()\n",
    "    X[col] = le.fit_transform(X[col])\n",
    "\n",
    "# Split data into training, validation, and test sets\n",
    "X_train, X_val, y_train, y_val = train_test_split(X, y, test_size=0.2, random_state=42)\n",
    "\n",
    "# Fit the logistic regression model with binary target\n",
    "lr_all = LogisticRegression(solver='liblinear')\n",
    "lr_all.fit(X_train, y_train)\n",
    "\n",
    "# View intercept and coefficients\n",
    "print(\"Intercept:\", lr_all.intercept_)\n",
    "print(\"Coefficients:\", lr_all.coef_)\n",
    "\n",
    "\n"
   ]
  },
  {
   "cell_type": "code",
   "execution_count": 7,
   "metadata": {},
   "outputs": [
    {
     "name": "stdout",
     "output_type": "stream",
     "text": [
      "       Is popular  Predicted Probability  Predicted Popularity\n",
      "80215           0               0.552950                     1\n",
      "7064            0               0.556474                     1\n",
      "76303           1               0.545120                     1\n",
      "19582           0               0.613512                     1\n",
      "35943           1               0.602341                     1\n",
      "57440           1               0.577727                     1\n",
      "26424           0               0.517528                     1\n",
      "6651            0               0.233589                     0\n",
      "41881           1               0.441318                     0\n",
      "24903           0               0.313606                     0\n",
      "66248           1               0.574225                     1\n",
      "18331           1               0.641022                     1\n",
      "69032           0               0.595452                     1\n",
      "34272           0               0.484577                     0\n",
      "3288            1               0.493827                     0\n",
      "20109           0               0.528056                     1\n",
      "51659           0               0.503181                     1\n",
      "60297           1               0.559899                     1\n",
      "85942           1               0.395882                     0\n",
      "46297           0               0.615222                     1\n",
      "652             1               0.642084                     1\n",
      "10608           0               0.591591                     1\n",
      "14726           1               0.243003                     0\n",
      "69851           1               0.665279                     1\n",
      "82304           0               0.499295                     0\n",
      "37893           0               0.331621                     0\n",
      "67393           0               0.582662                     1\n",
      "46601           1               0.666565                     1\n",
      "31405           1               0.605023                     1\n",
      "65766           1               0.611157                     1\n",
      "23607           0               0.642092                     1\n",
      "45972           1               0.641388                     1\n",
      "76776           1               0.608300                     1\n",
      "35033           0               0.654011                     1\n",
      "9019            1               0.576026                     1\n",
      "28886           1               0.624835                     1\n",
      "13902           0               0.663900                     1\n",
      "46186           0               0.597452                     1\n",
      "60068           0               0.495802                     0\n",
      "26666           1               0.614366                     1\n",
      "25899           0               0.614246                     1\n",
      "36769           0               0.567165                     1\n",
      "48815           1               0.587796                     1\n",
      "84543           0               0.527753                     1\n",
      "55647           0               0.607646                     1\n",
      "54297           1               0.595761                     1\n",
      "17113           0               0.174527                     0\n",
      "78778           1               0.430608                     0\n",
      "16509           0               0.536947                     1\n",
      "2361            0               0.642018                     1\n"
     ]
    }
   ],
   "source": [
    "# Randomly select 50 sample indices from X_val\n",
    "sample_indices = np.random.choice(X_val.index, size=50, replace=False)\n",
    "\n",
    "# Select samples from X_val and y_val using the random indices\n",
    "X_val_sample = X_val.loc[sample_indices, :]\n",
    "y_val_sample = y_val.loc[sample_indices]\n",
    "\n",
    "# Predict probabilities and classes for the sample\n",
    "y_val_pred_probs = lr_all.predict_proba(X_val_sample)[:, 1]  # Probability for the positive class\n",
    "y_val_pred_classes = lr_all.predict(X_val_sample)\n",
    "\n",
    "# Create a DataFrame to display actual vs. predicted\n",
    "evaluation_df = pd.DataFrame({\n",
    "    'Is popular': y_val_sample,\n",
    "    'Predicted Probability': y_val_pred_probs,\n",
    "    'Predicted Popularity': y_val_pred_classes\n",
    "})\n",
    "\n",
    "# Display the evaluation DataFrame\n",
    "print(evaluation_df)\n"
   ]
  },
  {
   "cell_type": "code",
   "execution_count": 8,
   "metadata": {},
   "outputs": [
    {
     "data": {
      "text/plain": [
       "array([[2943, 5169],\n",
       "       [2195, 7440]], dtype=int64)"
      ]
     },
     "execution_count": 8,
     "metadata": {},
     "output_type": "execute_result"
    }
   ],
   "source": [
    "y_val_pred = lr_all.predict(X_val)\n",
    "conf_lr = metrics.confusion_matrix(y_true=y_val, y_pred=y_val_pred)\n",
    "conf_lr"
   ]
  },
  {
   "cell_type": "markdown",
   "metadata": {},
   "source": [
    "Prediction accuracy:"
   ]
  },
  {
   "cell_type": "code",
   "execution_count": 9,
   "metadata": {},
   "outputs": [
    {
     "data": {
      "text/plain": [
       "0.5850566292894573"
      ]
     },
     "execution_count": 9,
     "metadata": {},
     "output_type": "execute_result"
    }
   ],
   "source": [
    "# Logistic regression\n",
    "(conf_lr[0, 0] + conf_lr[1, 1]) / conf_lr.sum()"
   ]
  },
  {
   "cell_type": "markdown",
   "metadata": {},
   "source": [
    "***Predicted probability densities***\n"
   ]
  },
  {
   "cell_type": "code",
   "execution_count": 10,
   "metadata": {},
   "outputs": [
    {
     "data": {
      "application/vnd.plotly.v1+json": {
       "config": {
        "plotlyServerURL": "https://plot.ly"
       },
       "data": [
        {
         "alignmentgroup": "True",
         "bingroup": "x",
         "hovertemplate": "Is popular=0<br>Predicted Probability=%{x}<br>count=%{y}<extra></extra>",
         "legendgroup": "0",
         "marker": {
          "color": "#636efa",
          "opacity": 0.5,
          "pattern": {
           "shape": ""
          }
         },
         "name": "0",
         "nbinsx": 20,
         "offsetgroup": "0",
         "orientation": "v",
         "showlegend": true,
         "type": "histogram",
         "x": [
          0.5529499916568227,
          0.5564743549849578,
          0.6135116904315285,
          0.5175282006543035,
          0.2335888771027199,
          0.31360569072047995,
          0.5954520656758064,
          0.4845771743785704,
          0.5280557505030021,
          0.5031806590262204,
          0.6152217785306326,
          0.5915914656091291,
          0.4992945784578822,
          0.3316205871517053,
          0.5826617398789604,
          0.642091520343032,
          0.6540108084654225,
          0.6638999755462509,
          0.5974519789335683,
          0.49580248641711944,
          0.6142455437108921,
          0.5671652560952118,
          0.5277528676333896,
          0.607645747110176,
          0.17452674299412838,
          0.5369473076350684,
          0.6420179021358209
         ],
         "xaxis": "x",
         "yaxis": "y"
        },
        {
         "alignmentgroup": "True",
         "bingroup": "x",
         "hovertemplate": "Is popular=1<br>Predicted Probability=%{x}<br>count=%{y}<extra></extra>",
         "legendgroup": "1",
         "marker": {
          "color": "#EF553B",
          "opacity": 0.5,
          "pattern": {
           "shape": ""
          }
         },
         "name": "1",
         "nbinsx": 20,
         "offsetgroup": "1",
         "orientation": "v",
         "showlegend": true,
         "type": "histogram",
         "x": [
          0.5451203368732582,
          0.6023408395904291,
          0.5777270200708753,
          0.4413178919385837,
          0.5742252620243687,
          0.6410216234845612,
          0.49382651254342347,
          0.5598994842389886,
          0.39588224572415176,
          0.6420838848564829,
          0.2430034382172893,
          0.6652791756214627,
          0.6665645942118515,
          0.6050233970828615,
          0.611157074796649,
          0.6413881367620425,
          0.608300414228104,
          0.5760261973314899,
          0.6248350502578223,
          0.6143663658521239,
          0.5877958625329498,
          0.5957606059338223,
          0.430607823756608
         ],
         "xaxis": "x",
         "yaxis": "y"
        }
       ],
       "layout": {
        "barmode": "overlay",
        "legend": {
         "title": {
          "text": "Is popular"
         },
         "tracegroupgap": 0
        },
        "margin": {
         "t": 60
        },
        "template": {
         "data": {
          "bar": [
           {
            "error_x": {
             "color": "#2a3f5f"
            },
            "error_y": {
             "color": "#2a3f5f"
            },
            "marker": {
             "line": {
              "color": "#E5ECF6",
              "width": 0.5
             },
             "pattern": {
              "fillmode": "overlay",
              "size": 10,
              "solidity": 0.2
             }
            },
            "type": "bar"
           }
          ],
          "barpolar": [
           {
            "marker": {
             "line": {
              "color": "#E5ECF6",
              "width": 0.5
             },
             "pattern": {
              "fillmode": "overlay",
              "size": 10,
              "solidity": 0.2
             }
            },
            "type": "barpolar"
           }
          ],
          "carpet": [
           {
            "aaxis": {
             "endlinecolor": "#2a3f5f",
             "gridcolor": "white",
             "linecolor": "white",
             "minorgridcolor": "white",
             "startlinecolor": "#2a3f5f"
            },
            "baxis": {
             "endlinecolor": "#2a3f5f",
             "gridcolor": "white",
             "linecolor": "white",
             "minorgridcolor": "white",
             "startlinecolor": "#2a3f5f"
            },
            "type": "carpet"
           }
          ],
          "choropleth": [
           {
            "colorbar": {
             "outlinewidth": 0,
             "ticks": ""
            },
            "type": "choropleth"
           }
          ],
          "contour": [
           {
            "colorbar": {
             "outlinewidth": 0,
             "ticks": ""
            },
            "colorscale": [
             [
              0,
              "#0d0887"
             ],
             [
              0.1111111111111111,
              "#46039f"
             ],
             [
              0.2222222222222222,
              "#7201a8"
             ],
             [
              0.3333333333333333,
              "#9c179e"
             ],
             [
              0.4444444444444444,
              "#bd3786"
             ],
             [
              0.5555555555555556,
              "#d8576b"
             ],
             [
              0.6666666666666666,
              "#ed7953"
             ],
             [
              0.7777777777777778,
              "#fb9f3a"
             ],
             [
              0.8888888888888888,
              "#fdca26"
             ],
             [
              1,
              "#f0f921"
             ]
            ],
            "type": "contour"
           }
          ],
          "contourcarpet": [
           {
            "colorbar": {
             "outlinewidth": 0,
             "ticks": ""
            },
            "type": "contourcarpet"
           }
          ],
          "heatmap": [
           {
            "colorbar": {
             "outlinewidth": 0,
             "ticks": ""
            },
            "colorscale": [
             [
              0,
              "#0d0887"
             ],
             [
              0.1111111111111111,
              "#46039f"
             ],
             [
              0.2222222222222222,
              "#7201a8"
             ],
             [
              0.3333333333333333,
              "#9c179e"
             ],
             [
              0.4444444444444444,
              "#bd3786"
             ],
             [
              0.5555555555555556,
              "#d8576b"
             ],
             [
              0.6666666666666666,
              "#ed7953"
             ],
             [
              0.7777777777777778,
              "#fb9f3a"
             ],
             [
              0.8888888888888888,
              "#fdca26"
             ],
             [
              1,
              "#f0f921"
             ]
            ],
            "type": "heatmap"
           }
          ],
          "heatmapgl": [
           {
            "colorbar": {
             "outlinewidth": 0,
             "ticks": ""
            },
            "colorscale": [
             [
              0,
              "#0d0887"
             ],
             [
              0.1111111111111111,
              "#46039f"
             ],
             [
              0.2222222222222222,
              "#7201a8"
             ],
             [
              0.3333333333333333,
              "#9c179e"
             ],
             [
              0.4444444444444444,
              "#bd3786"
             ],
             [
              0.5555555555555556,
              "#d8576b"
             ],
             [
              0.6666666666666666,
              "#ed7953"
             ],
             [
              0.7777777777777778,
              "#fb9f3a"
             ],
             [
              0.8888888888888888,
              "#fdca26"
             ],
             [
              1,
              "#f0f921"
             ]
            ],
            "type": "heatmapgl"
           }
          ],
          "histogram": [
           {
            "marker": {
             "pattern": {
              "fillmode": "overlay",
              "size": 10,
              "solidity": 0.2
             }
            },
            "type": "histogram"
           }
          ],
          "histogram2d": [
           {
            "colorbar": {
             "outlinewidth": 0,
             "ticks": ""
            },
            "colorscale": [
             [
              0,
              "#0d0887"
             ],
             [
              0.1111111111111111,
              "#46039f"
             ],
             [
              0.2222222222222222,
              "#7201a8"
             ],
             [
              0.3333333333333333,
              "#9c179e"
             ],
             [
              0.4444444444444444,
              "#bd3786"
             ],
             [
              0.5555555555555556,
              "#d8576b"
             ],
             [
              0.6666666666666666,
              "#ed7953"
             ],
             [
              0.7777777777777778,
              "#fb9f3a"
             ],
             [
              0.8888888888888888,
              "#fdca26"
             ],
             [
              1,
              "#f0f921"
             ]
            ],
            "type": "histogram2d"
           }
          ],
          "histogram2dcontour": [
           {
            "colorbar": {
             "outlinewidth": 0,
             "ticks": ""
            },
            "colorscale": [
             [
              0,
              "#0d0887"
             ],
             [
              0.1111111111111111,
              "#46039f"
             ],
             [
              0.2222222222222222,
              "#7201a8"
             ],
             [
              0.3333333333333333,
              "#9c179e"
             ],
             [
              0.4444444444444444,
              "#bd3786"
             ],
             [
              0.5555555555555556,
              "#d8576b"
             ],
             [
              0.6666666666666666,
              "#ed7953"
             ],
             [
              0.7777777777777778,
              "#fb9f3a"
             ],
             [
              0.8888888888888888,
              "#fdca26"
             ],
             [
              1,
              "#f0f921"
             ]
            ],
            "type": "histogram2dcontour"
           }
          ],
          "mesh3d": [
           {
            "colorbar": {
             "outlinewidth": 0,
             "ticks": ""
            },
            "type": "mesh3d"
           }
          ],
          "parcoords": [
           {
            "line": {
             "colorbar": {
              "outlinewidth": 0,
              "ticks": ""
             }
            },
            "type": "parcoords"
           }
          ],
          "pie": [
           {
            "automargin": true,
            "type": "pie"
           }
          ],
          "scatter": [
           {
            "fillpattern": {
             "fillmode": "overlay",
             "size": 10,
             "solidity": 0.2
            },
            "type": "scatter"
           }
          ],
          "scatter3d": [
           {
            "line": {
             "colorbar": {
              "outlinewidth": 0,
              "ticks": ""
             }
            },
            "marker": {
             "colorbar": {
              "outlinewidth": 0,
              "ticks": ""
             }
            },
            "type": "scatter3d"
           }
          ],
          "scattercarpet": [
           {
            "marker": {
             "colorbar": {
              "outlinewidth": 0,
              "ticks": ""
             }
            },
            "type": "scattercarpet"
           }
          ],
          "scattergeo": [
           {
            "marker": {
             "colorbar": {
              "outlinewidth": 0,
              "ticks": ""
             }
            },
            "type": "scattergeo"
           }
          ],
          "scattergl": [
           {
            "marker": {
             "colorbar": {
              "outlinewidth": 0,
              "ticks": ""
             }
            },
            "type": "scattergl"
           }
          ],
          "scattermapbox": [
           {
            "marker": {
             "colorbar": {
              "outlinewidth": 0,
              "ticks": ""
             }
            },
            "type": "scattermapbox"
           }
          ],
          "scatterpolar": [
           {
            "marker": {
             "colorbar": {
              "outlinewidth": 0,
              "ticks": ""
             }
            },
            "type": "scatterpolar"
           }
          ],
          "scatterpolargl": [
           {
            "marker": {
             "colorbar": {
              "outlinewidth": 0,
              "ticks": ""
             }
            },
            "type": "scatterpolargl"
           }
          ],
          "scatterternary": [
           {
            "marker": {
             "colorbar": {
              "outlinewidth": 0,
              "ticks": ""
             }
            },
            "type": "scatterternary"
           }
          ],
          "surface": [
           {
            "colorbar": {
             "outlinewidth": 0,
             "ticks": ""
            },
            "colorscale": [
             [
              0,
              "#0d0887"
             ],
             [
              0.1111111111111111,
              "#46039f"
             ],
             [
              0.2222222222222222,
              "#7201a8"
             ],
             [
              0.3333333333333333,
              "#9c179e"
             ],
             [
              0.4444444444444444,
              "#bd3786"
             ],
             [
              0.5555555555555556,
              "#d8576b"
             ],
             [
              0.6666666666666666,
              "#ed7953"
             ],
             [
              0.7777777777777778,
              "#fb9f3a"
             ],
             [
              0.8888888888888888,
              "#fdca26"
             ],
             [
              1,
              "#f0f921"
             ]
            ],
            "type": "surface"
           }
          ],
          "table": [
           {
            "cells": {
             "fill": {
              "color": "#EBF0F8"
             },
             "line": {
              "color": "white"
             }
            },
            "header": {
             "fill": {
              "color": "#C8D4E3"
             },
             "line": {
              "color": "white"
             }
            },
            "type": "table"
           }
          ]
         },
         "layout": {
          "annotationdefaults": {
           "arrowcolor": "#2a3f5f",
           "arrowhead": 0,
           "arrowwidth": 1
          },
          "autotypenumbers": "strict",
          "coloraxis": {
           "colorbar": {
            "outlinewidth": 0,
            "ticks": ""
           }
          },
          "colorscale": {
           "diverging": [
            [
             0,
             "#8e0152"
            ],
            [
             0.1,
             "#c51b7d"
            ],
            [
             0.2,
             "#de77ae"
            ],
            [
             0.3,
             "#f1b6da"
            ],
            [
             0.4,
             "#fde0ef"
            ],
            [
             0.5,
             "#f7f7f7"
            ],
            [
             0.6,
             "#e6f5d0"
            ],
            [
             0.7,
             "#b8e186"
            ],
            [
             0.8,
             "#7fbc41"
            ],
            [
             0.9,
             "#4d9221"
            ],
            [
             1,
             "#276419"
            ]
           ],
           "sequential": [
            [
             0,
             "#0d0887"
            ],
            [
             0.1111111111111111,
             "#46039f"
            ],
            [
             0.2222222222222222,
             "#7201a8"
            ],
            [
             0.3333333333333333,
             "#9c179e"
            ],
            [
             0.4444444444444444,
             "#bd3786"
            ],
            [
             0.5555555555555556,
             "#d8576b"
            ],
            [
             0.6666666666666666,
             "#ed7953"
            ],
            [
             0.7777777777777778,
             "#fb9f3a"
            ],
            [
             0.8888888888888888,
             "#fdca26"
            ],
            [
             1,
             "#f0f921"
            ]
           ],
           "sequentialminus": [
            [
             0,
             "#0d0887"
            ],
            [
             0.1111111111111111,
             "#46039f"
            ],
            [
             0.2222222222222222,
             "#7201a8"
            ],
            [
             0.3333333333333333,
             "#9c179e"
            ],
            [
             0.4444444444444444,
             "#bd3786"
            ],
            [
             0.5555555555555556,
             "#d8576b"
            ],
            [
             0.6666666666666666,
             "#ed7953"
            ],
            [
             0.7777777777777778,
             "#fb9f3a"
            ],
            [
             0.8888888888888888,
             "#fdca26"
            ],
            [
             1,
             "#f0f921"
            ]
           ]
          },
          "colorway": [
           "#636efa",
           "#EF553B",
           "#00cc96",
           "#ab63fa",
           "#FFA15A",
           "#19d3f3",
           "#FF6692",
           "#B6E880",
           "#FF97FF",
           "#FECB52"
          ],
          "font": {
           "color": "#2a3f5f"
          },
          "geo": {
           "bgcolor": "white",
           "lakecolor": "white",
           "landcolor": "#E5ECF6",
           "showlakes": true,
           "showland": true,
           "subunitcolor": "white"
          },
          "hoverlabel": {
           "align": "left"
          },
          "hovermode": "closest",
          "mapbox": {
           "style": "light"
          },
          "paper_bgcolor": "white",
          "plot_bgcolor": "#E5ECF6",
          "polar": {
           "angularaxis": {
            "gridcolor": "white",
            "linecolor": "white",
            "ticks": ""
           },
           "bgcolor": "#E5ECF6",
           "radialaxis": {
            "gridcolor": "white",
            "linecolor": "white",
            "ticks": ""
           }
          },
          "scene": {
           "xaxis": {
            "backgroundcolor": "#E5ECF6",
            "gridcolor": "white",
            "gridwidth": 2,
            "linecolor": "white",
            "showbackground": true,
            "ticks": "",
            "zerolinecolor": "white"
           },
           "yaxis": {
            "backgroundcolor": "#E5ECF6",
            "gridcolor": "white",
            "gridwidth": 2,
            "linecolor": "white",
            "showbackground": true,
            "ticks": "",
            "zerolinecolor": "white"
           },
           "zaxis": {
            "backgroundcolor": "#E5ECF6",
            "gridcolor": "white",
            "gridwidth": 2,
            "linecolor": "white",
            "showbackground": true,
            "ticks": "",
            "zerolinecolor": "white"
           }
          },
          "shapedefaults": {
           "line": {
            "color": "#2a3f5f"
           }
          },
          "ternary": {
           "aaxis": {
            "gridcolor": "white",
            "linecolor": "white",
            "ticks": ""
           },
           "baxis": {
            "gridcolor": "white",
            "linecolor": "white",
            "ticks": ""
           },
           "bgcolor": "#E5ECF6",
           "caxis": {
            "gridcolor": "white",
            "linecolor": "white",
            "ticks": ""
           }
          },
          "title": {
           "x": 0.05
          },
          "xaxis": {
           "automargin": true,
           "gridcolor": "white",
           "linecolor": "white",
           "ticks": "",
           "title": {
            "standoff": 15
           },
           "zerolinecolor": "white",
           "zerolinewidth": 2
          },
          "yaxis": {
           "automargin": true,
           "gridcolor": "white",
           "linecolor": "white",
           "ticks": "",
           "title": {
            "standoff": 15
           },
           "zerolinecolor": "white",
           "zerolinewidth": 2
          }
         }
        },
        "xaxis": {
         "anchor": "y",
         "domain": [
          0,
          1
         ],
         "title": {
          "text": "Predicted Probability"
         }
        },
        "yaxis": {
         "anchor": "x",
         "domain": [
          0,
          1
         ],
         "title": {
          "text": "count"
         }
        }
       }
      }
     },
     "metadata": {},
     "output_type": "display_data"
    }
   ],
   "source": [
    "px.histogram(evaluation_df, x='Predicted Probability', color='Is popular',\n",
    "             nbins=20, opacity=0.5,\n",
    "             barmode='overlay')\n",
    "\n"
   ]
  },
  {
   "cell_type": "markdown",
   "metadata": {},
   "source": [
    "***ROC Curve***"
   ]
  },
  {
   "cell_type": "code",
   "execution_count": 11,
   "metadata": {},
   "outputs": [
    {
     "data": {
      "text/plain": [
       "array([       inf, 0.66656459, 0.66527918, 0.64209152, 0.64208388,\n",
       "       0.6420179 , 0.62483505, 0.61522178, 0.61436637, 0.61351169,\n",
       "       0.60830041, 0.60764575, 0.60234084, 0.59745198, 0.59576061,\n",
       "       0.59159147, 0.58779586, 0.58266174, 0.57422526, 0.56716526,\n",
       "       0.55989948, 0.55294999, 0.54512034, 0.49580249, 0.49382651,\n",
       "       0.48457717, 0.39588225, 0.31360569, 0.24300344, 0.17452674])"
      ]
     },
     "execution_count": 11,
     "metadata": {},
     "output_type": "execute_result"
    }
   ],
   "source": [
    "lr_fpr_sample, lr_tpr_sample, lr_thresholds_sample = metrics.roc_curve(evaluation_df['Is popular'], evaluation_df['Predicted Probability'])\n",
    "\n",
    "lr_thresholds_sample\n"
   ]
  },
  {
   "cell_type": "code",
   "execution_count": 12,
   "metadata": {},
   "outputs": [
    {
     "data": {
      "application/vnd.plotly.v1+json": {
       "config": {
        "plotlyServerURL": "https://plot.ly"
       },
       "data": [
        {
         "hovertemplate": "Model=Logistic Regression<br>False Positive Rate=%{x}<br>True Positive Rate=%{y}<extra></extra>",
         "legendgroup": "Logistic Regression",
         "line": {
          "color": "#636efa",
          "dash": "solid"
         },
         "marker": {
          "symbol": "circle"
         },
         "mode": "lines",
         "name": "Logistic Regression",
         "orientation": "v",
         "showlegend": true,
         "type": "scatter",
         "x": [
          0,
          0,
          0,
          0.1111111111111111,
          0.1111111111111111,
          0.14814814814814814,
          0.14814814814814814,
          0.18518518518518517,
          0.18518518518518517,
          0.25925925925925924,
          0.25925925925925924,
          0.2962962962962963,
          0.2962962962962963,
          0.3333333333333333,
          0.3333333333333333,
          0.4074074074074074,
          0.4074074074074074,
          0.4444444444444444,
          0.4444444444444444,
          0.48148148148148145,
          0.48148148148148145,
          0.5555555555555556,
          0.5555555555555556,
          0.8148148148148148,
          0.8148148148148148,
          0.8518518518518519,
          0.8518518518518519,
          0.9259259259259259,
          0.9259259259259259,
          1
         ],
         "xaxis": "x",
         "y": [
          0,
          0.043478260869565216,
          0.08695652173913043,
          0.08695652173913043,
          0.13043478260869565,
          0.13043478260869565,
          0.2608695652173913,
          0.2608695652173913,
          0.30434782608695654,
          0.30434782608695654,
          0.391304347826087,
          0.391304347826087,
          0.4782608695652174,
          0.4782608695652174,
          0.5217391304347826,
          0.5217391304347826,
          0.5652173913043478,
          0.5652173913043478,
          0.6956521739130435,
          0.6956521739130435,
          0.7391304347826086,
          0.7391304347826086,
          0.782608695652174,
          0.782608695652174,
          0.8260869565217391,
          0.8260869565217391,
          0.9565217391304348,
          0.9565217391304348,
          1,
          1
         ],
         "yaxis": "y"
        }
       ],
       "layout": {
        "height": 500,
        "legend": {
         "title": {
          "text": "Model"
         },
         "tracegroupgap": 0
        },
        "margin": {
         "t": 60
        },
        "template": {
         "data": {
          "bar": [
           {
            "error_x": {
             "color": "#2a3f5f"
            },
            "error_y": {
             "color": "#2a3f5f"
            },
            "marker": {
             "line": {
              "color": "#E5ECF6",
              "width": 0.5
             },
             "pattern": {
              "fillmode": "overlay",
              "size": 10,
              "solidity": 0.2
             }
            },
            "type": "bar"
           }
          ],
          "barpolar": [
           {
            "marker": {
             "line": {
              "color": "#E5ECF6",
              "width": 0.5
             },
             "pattern": {
              "fillmode": "overlay",
              "size": 10,
              "solidity": 0.2
             }
            },
            "type": "barpolar"
           }
          ],
          "carpet": [
           {
            "aaxis": {
             "endlinecolor": "#2a3f5f",
             "gridcolor": "white",
             "linecolor": "white",
             "minorgridcolor": "white",
             "startlinecolor": "#2a3f5f"
            },
            "baxis": {
             "endlinecolor": "#2a3f5f",
             "gridcolor": "white",
             "linecolor": "white",
             "minorgridcolor": "white",
             "startlinecolor": "#2a3f5f"
            },
            "type": "carpet"
           }
          ],
          "choropleth": [
           {
            "colorbar": {
             "outlinewidth": 0,
             "ticks": ""
            },
            "type": "choropleth"
           }
          ],
          "contour": [
           {
            "colorbar": {
             "outlinewidth": 0,
             "ticks": ""
            },
            "colorscale": [
             [
              0,
              "#0d0887"
             ],
             [
              0.1111111111111111,
              "#46039f"
             ],
             [
              0.2222222222222222,
              "#7201a8"
             ],
             [
              0.3333333333333333,
              "#9c179e"
             ],
             [
              0.4444444444444444,
              "#bd3786"
             ],
             [
              0.5555555555555556,
              "#d8576b"
             ],
             [
              0.6666666666666666,
              "#ed7953"
             ],
             [
              0.7777777777777778,
              "#fb9f3a"
             ],
             [
              0.8888888888888888,
              "#fdca26"
             ],
             [
              1,
              "#f0f921"
             ]
            ],
            "type": "contour"
           }
          ],
          "contourcarpet": [
           {
            "colorbar": {
             "outlinewidth": 0,
             "ticks": ""
            },
            "type": "contourcarpet"
           }
          ],
          "heatmap": [
           {
            "colorbar": {
             "outlinewidth": 0,
             "ticks": ""
            },
            "colorscale": [
             [
              0,
              "#0d0887"
             ],
             [
              0.1111111111111111,
              "#46039f"
             ],
             [
              0.2222222222222222,
              "#7201a8"
             ],
             [
              0.3333333333333333,
              "#9c179e"
             ],
             [
              0.4444444444444444,
              "#bd3786"
             ],
             [
              0.5555555555555556,
              "#d8576b"
             ],
             [
              0.6666666666666666,
              "#ed7953"
             ],
             [
              0.7777777777777778,
              "#fb9f3a"
             ],
             [
              0.8888888888888888,
              "#fdca26"
             ],
             [
              1,
              "#f0f921"
             ]
            ],
            "type": "heatmap"
           }
          ],
          "heatmapgl": [
           {
            "colorbar": {
             "outlinewidth": 0,
             "ticks": ""
            },
            "colorscale": [
             [
              0,
              "#0d0887"
             ],
             [
              0.1111111111111111,
              "#46039f"
             ],
             [
              0.2222222222222222,
              "#7201a8"
             ],
             [
              0.3333333333333333,
              "#9c179e"
             ],
             [
              0.4444444444444444,
              "#bd3786"
             ],
             [
              0.5555555555555556,
              "#d8576b"
             ],
             [
              0.6666666666666666,
              "#ed7953"
             ],
             [
              0.7777777777777778,
              "#fb9f3a"
             ],
             [
              0.8888888888888888,
              "#fdca26"
             ],
             [
              1,
              "#f0f921"
             ]
            ],
            "type": "heatmapgl"
           }
          ],
          "histogram": [
           {
            "marker": {
             "pattern": {
              "fillmode": "overlay",
              "size": 10,
              "solidity": 0.2
             }
            },
            "type": "histogram"
           }
          ],
          "histogram2d": [
           {
            "colorbar": {
             "outlinewidth": 0,
             "ticks": ""
            },
            "colorscale": [
             [
              0,
              "#0d0887"
             ],
             [
              0.1111111111111111,
              "#46039f"
             ],
             [
              0.2222222222222222,
              "#7201a8"
             ],
             [
              0.3333333333333333,
              "#9c179e"
             ],
             [
              0.4444444444444444,
              "#bd3786"
             ],
             [
              0.5555555555555556,
              "#d8576b"
             ],
             [
              0.6666666666666666,
              "#ed7953"
             ],
             [
              0.7777777777777778,
              "#fb9f3a"
             ],
             [
              0.8888888888888888,
              "#fdca26"
             ],
             [
              1,
              "#f0f921"
             ]
            ],
            "type": "histogram2d"
           }
          ],
          "histogram2dcontour": [
           {
            "colorbar": {
             "outlinewidth": 0,
             "ticks": ""
            },
            "colorscale": [
             [
              0,
              "#0d0887"
             ],
             [
              0.1111111111111111,
              "#46039f"
             ],
             [
              0.2222222222222222,
              "#7201a8"
             ],
             [
              0.3333333333333333,
              "#9c179e"
             ],
             [
              0.4444444444444444,
              "#bd3786"
             ],
             [
              0.5555555555555556,
              "#d8576b"
             ],
             [
              0.6666666666666666,
              "#ed7953"
             ],
             [
              0.7777777777777778,
              "#fb9f3a"
             ],
             [
              0.8888888888888888,
              "#fdca26"
             ],
             [
              1,
              "#f0f921"
             ]
            ],
            "type": "histogram2dcontour"
           }
          ],
          "mesh3d": [
           {
            "colorbar": {
             "outlinewidth": 0,
             "ticks": ""
            },
            "type": "mesh3d"
           }
          ],
          "parcoords": [
           {
            "line": {
             "colorbar": {
              "outlinewidth": 0,
              "ticks": ""
             }
            },
            "type": "parcoords"
           }
          ],
          "pie": [
           {
            "automargin": true,
            "type": "pie"
           }
          ],
          "scatter": [
           {
            "fillpattern": {
             "fillmode": "overlay",
             "size": 10,
             "solidity": 0.2
            },
            "type": "scatter"
           }
          ],
          "scatter3d": [
           {
            "line": {
             "colorbar": {
              "outlinewidth": 0,
              "ticks": ""
             }
            },
            "marker": {
             "colorbar": {
              "outlinewidth": 0,
              "ticks": ""
             }
            },
            "type": "scatter3d"
           }
          ],
          "scattercarpet": [
           {
            "marker": {
             "colorbar": {
              "outlinewidth": 0,
              "ticks": ""
             }
            },
            "type": "scattercarpet"
           }
          ],
          "scattergeo": [
           {
            "marker": {
             "colorbar": {
              "outlinewidth": 0,
              "ticks": ""
             }
            },
            "type": "scattergeo"
           }
          ],
          "scattergl": [
           {
            "marker": {
             "colorbar": {
              "outlinewidth": 0,
              "ticks": ""
             }
            },
            "type": "scattergl"
           }
          ],
          "scattermapbox": [
           {
            "marker": {
             "colorbar": {
              "outlinewidth": 0,
              "ticks": ""
             }
            },
            "type": "scattermapbox"
           }
          ],
          "scatterpolar": [
           {
            "marker": {
             "colorbar": {
              "outlinewidth": 0,
              "ticks": ""
             }
            },
            "type": "scatterpolar"
           }
          ],
          "scatterpolargl": [
           {
            "marker": {
             "colorbar": {
              "outlinewidth": 0,
              "ticks": ""
             }
            },
            "type": "scatterpolargl"
           }
          ],
          "scatterternary": [
           {
            "marker": {
             "colorbar": {
              "outlinewidth": 0,
              "ticks": ""
             }
            },
            "type": "scatterternary"
           }
          ],
          "surface": [
           {
            "colorbar": {
             "outlinewidth": 0,
             "ticks": ""
            },
            "colorscale": [
             [
              0,
              "#0d0887"
             ],
             [
              0.1111111111111111,
              "#46039f"
             ],
             [
              0.2222222222222222,
              "#7201a8"
             ],
             [
              0.3333333333333333,
              "#9c179e"
             ],
             [
              0.4444444444444444,
              "#bd3786"
             ],
             [
              0.5555555555555556,
              "#d8576b"
             ],
             [
              0.6666666666666666,
              "#ed7953"
             ],
             [
              0.7777777777777778,
              "#fb9f3a"
             ],
             [
              0.8888888888888888,
              "#fdca26"
             ],
             [
              1,
              "#f0f921"
             ]
            ],
            "type": "surface"
           }
          ],
          "table": [
           {
            "cells": {
             "fill": {
              "color": "#EBF0F8"
             },
             "line": {
              "color": "white"
             }
            },
            "header": {
             "fill": {
              "color": "#C8D4E3"
             },
             "line": {
              "color": "white"
             }
            },
            "type": "table"
           }
          ]
         },
         "layout": {
          "annotationdefaults": {
           "arrowcolor": "#2a3f5f",
           "arrowhead": 0,
           "arrowwidth": 1
          },
          "autotypenumbers": "strict",
          "coloraxis": {
           "colorbar": {
            "outlinewidth": 0,
            "ticks": ""
           }
          },
          "colorscale": {
           "diverging": [
            [
             0,
             "#8e0152"
            ],
            [
             0.1,
             "#c51b7d"
            ],
            [
             0.2,
             "#de77ae"
            ],
            [
             0.3,
             "#f1b6da"
            ],
            [
             0.4,
             "#fde0ef"
            ],
            [
             0.5,
             "#f7f7f7"
            ],
            [
             0.6,
             "#e6f5d0"
            ],
            [
             0.7,
             "#b8e186"
            ],
            [
             0.8,
             "#7fbc41"
            ],
            [
             0.9,
             "#4d9221"
            ],
            [
             1,
             "#276419"
            ]
           ],
           "sequential": [
            [
             0,
             "#0d0887"
            ],
            [
             0.1111111111111111,
             "#46039f"
            ],
            [
             0.2222222222222222,
             "#7201a8"
            ],
            [
             0.3333333333333333,
             "#9c179e"
            ],
            [
             0.4444444444444444,
             "#bd3786"
            ],
            [
             0.5555555555555556,
             "#d8576b"
            ],
            [
             0.6666666666666666,
             "#ed7953"
            ],
            [
             0.7777777777777778,
             "#fb9f3a"
            ],
            [
             0.8888888888888888,
             "#fdca26"
            ],
            [
             1,
             "#f0f921"
            ]
           ],
           "sequentialminus": [
            [
             0,
             "#0d0887"
            ],
            [
             0.1111111111111111,
             "#46039f"
            ],
            [
             0.2222222222222222,
             "#7201a8"
            ],
            [
             0.3333333333333333,
             "#9c179e"
            ],
            [
             0.4444444444444444,
             "#bd3786"
            ],
            [
             0.5555555555555556,
             "#d8576b"
            ],
            [
             0.6666666666666666,
             "#ed7953"
            ],
            [
             0.7777777777777778,
             "#fb9f3a"
            ],
            [
             0.8888888888888888,
             "#fdca26"
            ],
            [
             1,
             "#f0f921"
            ]
           ]
          },
          "colorway": [
           "#636efa",
           "#EF553B",
           "#00cc96",
           "#ab63fa",
           "#FFA15A",
           "#19d3f3",
           "#FF6692",
           "#B6E880",
           "#FF97FF",
           "#FECB52"
          ],
          "font": {
           "color": "#2a3f5f"
          },
          "geo": {
           "bgcolor": "white",
           "lakecolor": "white",
           "landcolor": "#E5ECF6",
           "showlakes": true,
           "showland": true,
           "subunitcolor": "white"
          },
          "hoverlabel": {
           "align": "left"
          },
          "hovermode": "closest",
          "mapbox": {
           "style": "light"
          },
          "paper_bgcolor": "white",
          "plot_bgcolor": "#E5ECF6",
          "polar": {
           "angularaxis": {
            "gridcolor": "white",
            "linecolor": "white",
            "ticks": ""
           },
           "bgcolor": "#E5ECF6",
           "radialaxis": {
            "gridcolor": "white",
            "linecolor": "white",
            "ticks": ""
           }
          },
          "scene": {
           "xaxis": {
            "backgroundcolor": "#E5ECF6",
            "gridcolor": "white",
            "gridwidth": 2,
            "linecolor": "white",
            "showbackground": true,
            "ticks": "",
            "zerolinecolor": "white"
           },
           "yaxis": {
            "backgroundcolor": "#E5ECF6",
            "gridcolor": "white",
            "gridwidth": 2,
            "linecolor": "white",
            "showbackground": true,
            "ticks": "",
            "zerolinecolor": "white"
           },
           "zaxis": {
            "backgroundcolor": "#E5ECF6",
            "gridcolor": "white",
            "gridwidth": 2,
            "linecolor": "white",
            "showbackground": true,
            "ticks": "",
            "zerolinecolor": "white"
           }
          },
          "shapedefaults": {
           "line": {
            "color": "#2a3f5f"
           }
          },
          "ternary": {
           "aaxis": {
            "gridcolor": "white",
            "linecolor": "white",
            "ticks": ""
           },
           "baxis": {
            "gridcolor": "white",
            "linecolor": "white",
            "ticks": ""
           },
           "bgcolor": "#E5ECF6",
           "caxis": {
            "gridcolor": "white",
            "linecolor": "white",
            "ticks": ""
           }
          },
          "title": {
           "x": 0.05
          },
          "xaxis": {
           "automargin": true,
           "gridcolor": "white",
           "linecolor": "white",
           "ticks": "",
           "title": {
            "standoff": 15
           },
           "zerolinecolor": "white",
           "zerolinewidth": 2
          },
          "yaxis": {
           "automargin": true,
           "gridcolor": "white",
           "linecolor": "white",
           "ticks": "",
           "title": {
            "standoff": 15
           },
           "zerolinecolor": "white",
           "zerolinewidth": 2
          }
         }
        },
        "width": 700,
        "xaxis": {
         "anchor": "y",
         "domain": [
          0,
          1
         ],
         "title": {
          "text": "False Positive Rate"
         }
        },
        "yaxis": {
         "anchor": "x",
         "domain": [
          0,
          1
         ],
         "title": {
          "text": "True Positive Rate"
         }
        }
       }
      }
     },
     "metadata": {},
     "output_type": "display_data"
    }
   ],
   "source": [
    "roc_lr_sample = pd.DataFrame({\n",
    "    'False Positive Rate': lr_fpr_sample,\n",
    "    'True Positive Rate': lr_tpr_sample,\n",
    "    'Model': 'Logistic Regression'\n",
    "}, index=lr_thresholds_sample)\n",
    "\n",
    "\n",
    "roc_sample_df = pd.concat([roc_lr_sample])\n",
    "\n",
    "\n",
    "px.line(roc_sample_df, y='True Positive Rate', x='False Positive Rate',\n",
    "        color='Model',\n",
    "        width=700, height=500\n",
    ")"
   ]
  },
  {
   "cell_type": "code",
   "execution_count": 14,
   "metadata": {},
   "outputs": [
    {
     "name": "stdout",
     "output_type": "stream",
     "text": [
      "Logistic regression AUC: 0.597\n"
     ]
    }
   ],
   "source": [
    "# Logistic regression\n",
    "lr_auc_sample = metrics.roc_auc_score(evaluation_df['Is popular'], evaluation_df['Predicted Probability'])\n",
    "print('Logistic regression AUC:', lr_auc_sample.round(3))"
   ]
  },
  {
   "cell_type": "markdown",
   "metadata": {},
   "source": [
    "***USING CV FOR MODEL PERFORMANCE***"
   ]
  },
  {
   "cell_type": "code",
   "execution_count": 15,
   "metadata": {},
   "outputs": [
    {
     "data": {
      "text/plain": [
       "array([0.61194458, 0.61632333, 0.62607415, 0.53816304, 0.48793798])"
      ]
     },
     "execution_count": 15,
     "metadata": {},
     "output_type": "execute_result"
    }
   ],
   "source": [
    "from sklearn.model_selection import cross_val_score\n",
    "\n",
    "\n",
    "# Separate the features and target variable\n",
    "X = logistic_data_orig[[\"instrumentalness\", \"speechiness\", \"energy\", \"valence\", \"danceability\", \"acousticness\"]]\n",
    "\n",
    "y = (logistic_data_orig['popularity'] > 30).astype(int)  # Convert to binary: 1 if popularity > 33, else 0\n",
    "\n",
    "# This does stratified Kfolds for us...\n",
    "cross_val_score(lr_all, X, y, cv=5, scoring='roc_auc')"
   ]
  },
  {
   "cell_type": "code",
   "execution_count": 16,
   "metadata": {},
   "outputs": [
    {
     "name": "stdout",
     "output_type": "stream",
     "text": [
      "[    0     1     2 ... 19686 19687 19689]\n",
      "Fold:  1\n",
      "AUC:  0.5793129726060839\n",
      "Accuracy:  0.5916492928382262\n",
      "[17120 17121 17122 ... 36795 36796 36797]\n",
      "Fold:  2\n",
      "AUC:  0.583511244232712\n",
      "Accuracy:  0.599199864765876\n",
      "[34994 34995 34996 ... 57555 57556 57557]\n",
      "Fold:  3\n",
      "AUC:  0.5884538204495349\n",
      "Accuracy:  0.6043051955370224\n",
      "[50360 50361 50362 ... 73050 73056 73057]\n",
      "Fold:  4\n",
      "AUC:  0.5262817018206203\n",
      "Accuracy:  0.543615462639468\n",
      "[67736 67737 67738 ... 88729 88730 88731]\n",
      "Fold:  5\n",
      "AUC:  0.4887287537481254\n",
      "Accuracy:  0.5067620872309253\n"
     ]
    }
   ],
   "source": [
    "from sklearn.model_selection import StratifiedKFold\n",
    "from sklearn.base import clone\n",
    "\n",
    "# Use the shuffle and random state if want data shuffled before splitting\n",
    "#skfolds = StratifiedKFold(n_splits=5, shuffle=True, random_state=42)\n",
    "skfolds = StratifiedKFold(n_splits=5)\n",
    "i = 1\n",
    "for train_index, test_index in skfolds.split(X, y):\n",
    "    clone_lr = clone(lr_all)\n",
    "    X_train_folds = X.iloc[train_index]\n",
    "    y_train_folds = y.iloc[train_index]\n",
    "    X_test_fold = X.iloc[test_index]\n",
    "    print(test_index)\n",
    "    clone_lr.fit(X_train_folds, y_train_folds)\n",
    "    y_pred = clone_lr.predict(X_test_fold)\n",
    "\n",
    "    auc_sample = metrics.roc_auc_score(y.iloc[test_index], y_pred)\n",
    "    print('Fold: ', i)\n",
    "    print('AUC: ', auc_sample)\n",
    "    print('Accuracy: ', metrics.accuracy_score(y.iloc[test_index], y_pred))\n",
    "    i += 1"
   ]
  }
 ],
 "metadata": {
  "kernelspec": {
   "display_name": "Python 3",
   "language": "python",
   "name": "python3"
  },
  "language_info": {
   "codemirror_mode": {
    "name": "ipython",
    "version": 3
   },
   "file_extension": ".py",
   "mimetype": "text/x-python",
   "name": "python",
   "nbconvert_exporter": "python",
   "pygments_lexer": "ipython3",
   "version": "3.12.7"
  }
 },
 "nbformat": 4,
 "nbformat_minor": 2
}
