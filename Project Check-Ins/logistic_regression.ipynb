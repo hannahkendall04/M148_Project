{
 "cells": [
  {
   "cell_type": "markdown",
   "metadata": {},
   "source": [
    "# Project Check-In Week 4: Logistic Regression\n",
    "\n",
    "The below code is a simple demonstration of a logistic regression on the spotify dataset. To make sure the data we are working with has the proper format, we will use the data output by the dataclean.py script we generated in an earlier week. For this check in, we will attempt to classify tracks into one of two genres (for simplicity) based on other features in the data set."
   ]
  },
  {
   "cell_type": "code",
   "execution_count": 1,
   "metadata": {},
   "outputs": [],
   "source": [
    "# Import relevant libraries\n",
    "import pandas as pd\n",
    "import numpy as np\n",
    "import plotly.express as px\n",
    "import plotly.figure_factory as ff\n",
    "import plotly.graph_objects as go\n",
    "from sklearn.linear_model import LinearRegression\n",
    "from sklearn.linear_model import LogisticRegression\n",
    "from sklearn import metrics\n",
    "import matplotlib.pyplot as plt\n",
    "from sklearn.model_selection import train_test_split\n"
   ]
  },
  {
   "cell_type": "code",
   "execution_count": 2,
   "metadata": {},
   "outputs": [],
   "source": [
    "# Load the data and check for duplicates\n",
    "logistic_data_orig = pd.read_excel('../Data/clean_data.xlsx')"
   ]
  },
  {
   "cell_type": "code",
   "execution_count": 3,
   "metadata": {},
   "outputs": [
    {
     "data": {
      "text/plain": [
       "track_genre\n",
       "chicago-house    998\n",
       "cantopop         998\n",
       "alt-rock         997\n",
       "breakbeat        996\n",
       "forro            996\n",
       "                ... \n",
       "metal            230\n",
       "punk             226\n",
       "house            210\n",
       "indie            132\n",
       "reggaeton         74\n",
       "Name: count, Length: 113, dtype: int64"
      ]
     },
     "execution_count": 3,
     "metadata": {},
     "output_type": "execute_result"
    }
   ],
   "source": [
    "assert logistic_data_orig.duplicated(\"track_id\").sum() == 0, \"There are duplicates track_ids in the data\"\n",
    "logistic_data_orig[\"track_genre\"].value_counts()"
   ]
  },
  {
   "cell_type": "markdown",
   "metadata": {},
   "source": [
    "Since we will be classifying the data into genres, it is important that each song only has one genre. The above line is used to ensure our data cleaning returned data such that each track only has one genre. The other part of the previous code block is used to see how many of each genre is in the data. This is important as the proportion of each gene will affect the accuracy of the model. If one genre is much more common than the other, the model may be biased towards that genre. For the sake of this check in, we will thus select two genres that are relatively close in number of tracks."
   ]
  },
  {
   "cell_type": "code",
   "execution_count": 5,
   "metadata": {},
   "outputs": [
    {
     "name": "stderr",
     "output_type": "stream",
     "text": [
      "C:\\Users\\hbken\\AppData\\Local\\Temp\\ipykernel_23272\\1682029758.py:19: FutureWarning: Downcasting behavior in `replace` is deprecated and will be removed in a future version. To retain the old behavior, explicitly call `result.infer_objects(copy=False)`. To opt-in to the future behavior, set `pd.set_option('future.no_silent_downcasting', True)`\n",
      "  logistic_data = logistic_data.replace({\"track_genre\": d}).select_dtypes(include=[np.number]).drop(columns=\"Unnamed: 0\")\n"
     ]
    }
   ],
   "source": [
    "# Select a subset of the data s.t. we only have 2 classes\n",
    "# We will use the 'genre' column to create the classes\n",
    "genre_1 = \"chicago-house\" # will convert to be the positive class (1)\n",
    "genre_2 = \"cantopop\" # will convert to be the negative class (0)\n",
    "\n",
    "d = {\n",
    "    genre_1: 1,\n",
    "    genre_2: 0\n",
    "}\n",
    "\n",
    "# Split data into training and validation sets (no testing set for project check in)\n",
    "# Ensure the proportion of each class is the same in the training and validation sets\n",
    "# logistic_data = logistic_data_orig[logistic_data_orig[\"track_genre\"].isin([genre_1, genre_2])]\n",
    "# logistic_data = logistic_data.replace({\"track_genre\": {genre_1: 1, genre_2: 0}}).select_dtypes(include=[np.number]).drop(columns=\"Unnamed: 0\")\n",
    "# logistic_data_train = logistic_data.sample(frac=0.8, random_state=0)\n",
    "# logistic_data_val = logistic_data.drop(logistic_data_train.index)\n",
    "\n",
    "logistic_data = logistic_data_orig[logistic_data_orig[\"track_genre\"].isin([genre_1, genre_2])]\n",
    "logistic_data = logistic_data.replace({\"track_genre\": d}).select_dtypes(include=[np.number]).drop(columns=\"Unnamed: 0\")\n",
    "\n",
    "# With selected predictor variables:\n",
    "logistic_data = logistic_data[['danceability', 'acousticness', 'instrumentalness','time_signature', 'track_genre']]\n",
    "\n",
    "# Split data into training and validation sets - stratified split to ensure same proportion of classes in both sets\n",
    "logistic_data_train, logistic_data_val = train_test_split(logistic_data, test_size=0.2, random_state=42, stratify=logistic_data[\"track_genre\"])\n",
    "\n",
    "# Check the proportion of classes in the training and validation sets\n",
    "prop_zero_train = (logistic_data_train[\"track_genre\"] == 0).sum() / len(logistic_data_train)\n",
    "prop_zero_val = (logistic_data_val[\"track_genre\"] == 0).sum() / len(logistic_data_val)\n",
    "assert np.isclose(prop_zero_train, prop_zero_val, atol=0.05), \"Proportion of classes in training and validation sets are not the same\""
   ]
  },
  {
   "cell_type": "code",
   "execution_count": 6,
   "metadata": {},
   "outputs": [
    {
     "data": {
      "text/html": [
       "<div>\n",
       "<style scoped>\n",
       "    .dataframe tbody tr th:only-of-type {\n",
       "        vertical-align: middle;\n",
       "    }\n",
       "\n",
       "    .dataframe tbody tr th {\n",
       "        vertical-align: top;\n",
       "    }\n",
       "\n",
       "    .dataframe thead th {\n",
       "        text-align: right;\n",
       "    }\n",
       "</style>\n",
       "<table border=\"1\" class=\"dataframe\">\n",
       "  <thead>\n",
       "    <tr style=\"text-align: right;\">\n",
       "      <th></th>\n",
       "      <th>danceability</th>\n",
       "      <th>acousticness</th>\n",
       "      <th>instrumentalness</th>\n",
       "      <th>time_signature</th>\n",
       "      <th>track_genre</th>\n",
       "    </tr>\n",
       "  </thead>\n",
       "  <tbody>\n",
       "    <tr>\n",
       "      <th>12835</th>\n",
       "      <td>0.698</td>\n",
       "      <td>0.156000</td>\n",
       "      <td>0.892000</td>\n",
       "      <td>4</td>\n",
       "      <td>1</td>\n",
       "    </tr>\n",
       "    <tr>\n",
       "      <th>12460</th>\n",
       "      <td>0.643</td>\n",
       "      <td>0.011500</td>\n",
       "      <td>0.000615</td>\n",
       "      <td>4</td>\n",
       "      <td>1</td>\n",
       "    </tr>\n",
       "    <tr>\n",
       "      <th>12498</th>\n",
       "      <td>0.813</td>\n",
       "      <td>0.008290</td>\n",
       "      <td>0.010100</td>\n",
       "      <td>4</td>\n",
       "      <td>1</td>\n",
       "    </tr>\n",
       "    <tr>\n",
       "      <th>11283</th>\n",
       "      <td>0.569</td>\n",
       "      <td>0.258000</td>\n",
       "      <td>0.000000</td>\n",
       "      <td>4</td>\n",
       "      <td>0</td>\n",
       "    </tr>\n",
       "    <tr>\n",
       "      <th>12248</th>\n",
       "      <td>0.783</td>\n",
       "      <td>0.000541</td>\n",
       "      <td>0.967000</td>\n",
       "      <td>4</td>\n",
       "      <td>1</td>\n",
       "    </tr>\n",
       "    <tr>\n",
       "      <th>...</th>\n",
       "      <td>...</td>\n",
       "      <td>...</td>\n",
       "      <td>...</td>\n",
       "      <td>...</td>\n",
       "      <td>...</td>\n",
       "    </tr>\n",
       "    <tr>\n",
       "      <th>11431</th>\n",
       "      <td>0.692</td>\n",
       "      <td>0.846000</td>\n",
       "      <td>0.000000</td>\n",
       "      <td>4</td>\n",
       "      <td>0</td>\n",
       "    </tr>\n",
       "    <tr>\n",
       "      <th>11857</th>\n",
       "      <td>0.600</td>\n",
       "      <td>0.086500</td>\n",
       "      <td>0.000000</td>\n",
       "      <td>4</td>\n",
       "      <td>0</td>\n",
       "    </tr>\n",
       "    <tr>\n",
       "      <th>12685</th>\n",
       "      <td>0.669</td>\n",
       "      <td>0.181000</td>\n",
       "      <td>0.120000</td>\n",
       "      <td>4</td>\n",
       "      <td>1</td>\n",
       "    </tr>\n",
       "    <tr>\n",
       "      <th>11438</th>\n",
       "      <td>0.569</td>\n",
       "      <td>0.001020</td>\n",
       "      <td>0.000029</td>\n",
       "      <td>4</td>\n",
       "      <td>0</td>\n",
       "    </tr>\n",
       "    <tr>\n",
       "      <th>11383</th>\n",
       "      <td>0.514</td>\n",
       "      <td>0.364000</td>\n",
       "      <td>0.000004</td>\n",
       "      <td>4</td>\n",
       "      <td>0</td>\n",
       "    </tr>\n",
       "  </tbody>\n",
       "</table>\n",
       "<p>400 rows × 5 columns</p>\n",
       "</div>"
      ],
      "text/plain": [
       "       danceability  acousticness  instrumentalness  time_signature  \\\n",
       "12835         0.698      0.156000          0.892000               4   \n",
       "12460         0.643      0.011500          0.000615               4   \n",
       "12498         0.813      0.008290          0.010100               4   \n",
       "11283         0.569      0.258000          0.000000               4   \n",
       "12248         0.783      0.000541          0.967000               4   \n",
       "...             ...           ...               ...             ...   \n",
       "11431         0.692      0.846000          0.000000               4   \n",
       "11857         0.600      0.086500          0.000000               4   \n",
       "12685         0.669      0.181000          0.120000               4   \n",
       "11438         0.569      0.001020          0.000029               4   \n",
       "11383         0.514      0.364000          0.000004               4   \n",
       "\n",
       "       track_genre  \n",
       "12835            1  \n",
       "12460            1  \n",
       "12498            1  \n",
       "11283            0  \n",
       "12248            1  \n",
       "...            ...  \n",
       "11431            0  \n",
       "11857            0  \n",
       "12685            1  \n",
       "11438            0  \n",
       "11383            0  \n",
       "\n",
       "[400 rows x 5 columns]"
      ]
     },
     "execution_count": 6,
     "metadata": {},
     "output_type": "execute_result"
    }
   ],
   "source": [
    "logistic_data_val"
   ]
  },
  {
   "cell_type": "code",
   "execution_count": 5,
   "metadata": {},
   "outputs": [
    {
     "data": {
      "text/plain": [
       "(array([-0.00075326]),\n",
       " array([[-1.17306856e-01,  1.30401212e-05,  1.14492578e-03,\n",
       "          1.83210242e-03,  2.81094278e-03,  1.51998666e-02,\n",
       "         -2.53195012e-03,  2.77573203e-04, -4.13183266e-03,\n",
       "          3.21564546e-03, -3.89094249e-04,  1.51888233e-03,\n",
       "         -6.54353370e-03, -2.64092033e-03]]))"
      ]
     },
     "execution_count": 5,
     "metadata": {},
     "output_type": "execute_result"
    }
   ],
   "source": [
    "# Compute logistic regression over entire training data set\n",
    "lr_all = LogisticRegression(solver='liblinear')\n",
    "lr_all.fit(X=logistic_data_train.drop(columns=\"track_genre\"), y=logistic_data_train[\"track_genre\"])\n",
    "lr_all.intercept_, lr_all.coef_"
   ]
  },
  {
   "cell_type": "code",
   "execution_count": 6,
   "metadata": {},
   "outputs": [
    {
     "data": {
      "text/html": [
       "<div>\n",
       "<style scoped>\n",
       "    .dataframe tbody tr th:only-of-type {\n",
       "        vertical-align: middle;\n",
       "    }\n",
       "\n",
       "    .dataframe tbody tr th {\n",
       "        vertical-align: top;\n",
       "    }\n",
       "\n",
       "    .dataframe thead th {\n",
       "        text-align: right;\n",
       "    }\n",
       "</style>\n",
       "<table border=\"1\" class=\"dataframe\">\n",
       "  <thead>\n",
       "    <tr style=\"text-align: right;\">\n",
       "      <th></th>\n",
       "      <th>actual</th>\n",
       "      <th>predicted</th>\n",
       "      <th>prob</th>\n",
       "    </tr>\n",
       "  </thead>\n",
       "  <tbody>\n",
       "    <tr>\n",
       "      <th>12835</th>\n",
       "      <td>1</td>\n",
       "      <td>1</td>\n",
       "      <td>0.935832</td>\n",
       "    </tr>\n",
       "    <tr>\n",
       "      <th>12460</th>\n",
       "      <td>1</td>\n",
       "      <td>1</td>\n",
       "      <td>0.544193</td>\n",
       "    </tr>\n",
       "    <tr>\n",
       "      <th>12498</th>\n",
       "      <td>1</td>\n",
       "      <td>1</td>\n",
       "      <td>0.933830</td>\n",
       "    </tr>\n",
       "    <tr>\n",
       "      <th>11283</th>\n",
       "      <td>0</td>\n",
       "      <td>0</td>\n",
       "      <td>0.051029</td>\n",
       "    </tr>\n",
       "    <tr>\n",
       "      <th>12248</th>\n",
       "      <td>1</td>\n",
       "      <td>1</td>\n",
       "      <td>0.771968</td>\n",
       "    </tr>\n",
       "    <tr>\n",
       "      <th>...</th>\n",
       "      <td>...</td>\n",
       "      <td>...</td>\n",
       "      <td>...</td>\n",
       "    </tr>\n",
       "    <tr>\n",
       "      <th>11431</th>\n",
       "      <td>0</td>\n",
       "      <td>0</td>\n",
       "      <td>0.022011</td>\n",
       "    </tr>\n",
       "    <tr>\n",
       "      <th>11857</th>\n",
       "      <td>0</td>\n",
       "      <td>0</td>\n",
       "      <td>0.021958</td>\n",
       "    </tr>\n",
       "    <tr>\n",
       "      <th>12685</th>\n",
       "      <td>1</td>\n",
       "      <td>1</td>\n",
       "      <td>0.997073</td>\n",
       "    </tr>\n",
       "    <tr>\n",
       "      <th>11438</th>\n",
       "      <td>0</td>\n",
       "      <td>1</td>\n",
       "      <td>0.607564</td>\n",
       "    </tr>\n",
       "    <tr>\n",
       "      <th>11383</th>\n",
       "      <td>0</td>\n",
       "      <td>0</td>\n",
       "      <td>0.369316</td>\n",
       "    </tr>\n",
       "  </tbody>\n",
       "</table>\n",
       "<p>400 rows × 3 columns</p>\n",
       "</div>"
      ],
      "text/plain": [
       "       actual  predicted      prob\n",
       "12835       1          1  0.935832\n",
       "12460       1          1  0.544193\n",
       "12498       1          1  0.933830\n",
       "11283       0          0  0.051029\n",
       "12248       1          1  0.771968\n",
       "...       ...        ...       ...\n",
       "11431       0          0  0.022011\n",
       "11857       0          0  0.021958\n",
       "12685       1          1  0.997073\n",
       "11438       0          1  0.607564\n",
       "11383       0          0  0.369316\n",
       "\n",
       "[400 rows x 3 columns]"
      ]
     },
     "execution_count": 6,
     "metadata": {},
     "output_type": "execute_result"
    }
   ],
   "source": [
    "# Test the model on a subset of all observations in the validation set\n",
    "X_val = logistic_data_val.drop(columns=\"track_genre\")\n",
    "y_val = logistic_data_val[\"track_genre\"]\n",
    "\n",
    "pred_val = pd.DataFrame({\"actual\": y_val, \"predicted\": lr_all.predict(X_val), \"prob\": lr_all.predict_proba(X_val)[:,1]})\n",
    "# pred_val.replace({1: genre_1, 0: genre_2}, inplace=True)\n",
    "pred_val"
   ]
  },
  {
   "cell_type": "code",
   "execution_count": 7,
   "metadata": {},
   "outputs": [
    {
     "data": {
      "text/plain": [
       "array([[170,  30],\n",
       "       [ 20, 180]])"
      ]
     },
     "execution_count": 7,
     "metadata": {},
     "output_type": "execute_result"
    }
   ],
   "source": [
    "# Confusion matrix\n",
    "conf_matrix = metrics.confusion_matrix(y_true=pred_val[\"actual\"].replace({genre_1: 1, genre_2: 0}), y_pred=pred_val[\"predicted\"].replace({genre_1: 1, genre_2: 0}))\n",
    "conf_matrix"
   ]
  },
  {
   "cell_type": "code",
   "execution_count": 8,
   "metadata": {},
   "outputs": [
    {
     "name": "stdout",
     "output_type": "stream",
     "text": [
      "Accuracy: 0.875\n",
      "Error: 0.125\n",
      "TPR: 0.9\n",
      "FPR: 0.15\n",
      "TNR: 0.85\n",
      "FNR: 0.1\n"
     ]
    }
   ],
   "source": [
    "# Metrics\n",
    "accuracy = metrics.accuracy_score(y_true=pred_val[\"actual\"], y_pred=pred_val[\"predicted\"])\n",
    "error = 1 - accuracy\n",
    "TPR = conf_matrix[1,1] / (conf_matrix[1,1] + conf_matrix[1,0])\n",
    "FPR = conf_matrix[0,1] / (conf_matrix[0,1] + conf_matrix[0,0])\n",
    "TNR = conf_matrix[0,0] / (conf_matrix[0,0] + conf_matrix[0,1])\n",
    "FNR = conf_matrix[1,0] / (conf_matrix[1,0] + conf_matrix[1,1])\n",
    "print(f\"Accuracy: {accuracy}\\nError: {error}\\nTPR: {TPR}\\nFPR: {FPR}\\nTNR: {TNR}\\nFNR: {FNR}\")"
   ]
  },
  {
   "cell_type": "code",
   "execution_count": 9,
   "metadata": {},
   "outputs": [
    {
     "data": {
      "application/vnd.plotly.v1+json": {
       "config": {
        "plotlyServerURL": "https://plot.ly"
       },
       "data": [
        {
         "alignmentgroup": "True",
         "bingroup": "x",
         "hovertemplate": "actual=1<br>prob=%{x}<br>count=%{y}<extra></extra>",
         "legendgroup": "1",
         "marker": {
          "color": "#636efa",
          "opacity": 0.5,
          "pattern": {
           "shape": ""
          }
         },
         "name": "1",
         "offsetgroup": "1",
         "orientation": "v",
         "showlegend": true,
         "type": "histogram",
         "x": [
          0.9358315897865344,
          0.5441925880762531,
          0.9338297068206636,
          0.7719675104430745,
          0.9521209727227036,
          0.9724783429733403,
          0.9772280507165729,
          0.9696854698512298,
          0.7754687884292477,
          0.904877765546474,
          0.9975879353726401,
          0.9001549845624044,
          0.1737531856375357,
          0.9390449828012952,
          0.5750225704368629,
          0.8812055892610129,
          0.4612040263198587,
          0.9769348757500932,
          0.9671257093817349,
          0.9796810676907931,
          0.03956964624297614,
          0.9892507091271029,
          0.8883581019276903,
          0.46671573476290806,
          0.9587640858315413,
          0.9785265973929952,
          0.9274158019189016,
          0.9754483797904485,
          0.9791837818163645,
          0.9738720978974507,
          0.8805136125278522,
          0.9531146348949175,
          0.9976579372863921,
          0.9998903968226581,
          0.9949528691363727,
          0.9079671216727728,
          0.2982250816938661,
          0.9914482604402491,
          0.6145180662415856,
          0.9876777461395205,
          0.9962873420190717,
          0.07460438895423771,
          0.9544975846828853,
          0.046167578150966136,
          0.6721297853604687,
          0.6465310656996767,
          0.9766708825580467,
          0.9271802009617179,
          0.7271117795971075,
          0.9940794343219479,
          0.6439484949043479,
          0.08128225776478488,
          0.9510720166301007,
          0.24151584319217168,
          0.518292575216614,
          0.8591357001847041,
          0.2531261324698358,
          0.9563170495434344,
          0.9898378123342239,
          0.8735453320688616,
          0.7498781838264084,
          0.9932603617237371,
          0.7618137404638057,
          0.9967359153446032,
          0.9711643213742045,
          0.977871747915783,
          0.9377002317630106,
          0.9716422553902752,
          0.9932703250797078,
          0.8913845253080032,
          0.9847627485356962,
          0.9288431651631806,
          0.9731393403091911,
          0.9882708350636967,
          0.9239949773661825,
          0.9890346669027648,
          0.45543618408299297,
          0.9874515409597354,
          0.9964325592241882,
          0.98347648508367,
          0.9615593494488427,
          0.9884898166991264,
          0.9360974511871741,
          0.9689851322470262,
          0.9271282804589642,
          0.99371154485272,
          0.9088875526255825,
          0.9556387170143075,
          0.9428023364870097,
          0.9909932432815921,
          0.6409340656990558,
          0.7256010325604779,
          0.9139673026349402,
          0.8383836638908615,
          0.8584305501345845,
          0.9653636718922504,
          0.9421314428686142,
          0.7442059821568577,
          0.8758044264777637,
          0.9127597580788626,
          0.8981025068709934,
          0.8441597535227326,
          0.8934517614665366,
          0.7102624686081339,
          0.9251939536325898,
          0.9937288024904568,
          0.9997199046093584,
          0.9613258233597062,
          0.8929653567833256,
          0.7679872370729136,
          0.6033719035317722,
          0.973145744370542,
          0.9707807732927278,
          0.5624483244359926,
          0.8579923045871293,
          0.7896390923129374,
          0.9608303094187158,
          0.9500911747688835,
          0.8631167183043498,
          0.9895616786824255,
          0.7570030409952513,
          0.7813646391531583,
          0.7309139953199031,
          0.8547196831870371,
          0.9124160365313941,
          0.9889573348185046,
          0.17886678125195563,
          0.20890699380199831,
          0.31155096348725125,
          0.9448548158220016,
          0.9628855799410232,
          0.8331279498163914,
          0.9535438586717703,
          0.9541230826048606,
          0.9616400537295839,
          0.9758183562859168,
          0.9147798830631876,
          0.9309085377356463,
          0.9766357443231807,
          0.5336041735295654,
          0.9480074953040769,
          0.12338993067470172,
          0.985379993855793,
          0.8588657238020083,
          0.9592652188235258,
          0.8339493115920182,
          0.6075249174154491,
          0.569863062635539,
          0.9990165159588968,
          0.9808004303444412,
          0.9719316082685326,
          0.8892065206340894,
          0.9402812754102081,
          0.7281282131817909,
          0.9858495524757513,
          0.0015137616979363985,
          0.9480031897474884,
          0.9902116731454033,
          0.8538257880545732,
          0.9854550840829358,
          0.18453649563009622,
          0.9935261779942973,
          0.9323313431239687,
          0.9552857972855223,
          0.963179925581639,
          0.5410306627260082,
          0.9798137954002056,
          0.9801837808358017,
          0.9483012450336601,
          0.7703451901308733,
          0.9646931300238208,
          0.9948658733855358,
          0.7906147210167995,
          0.7610720722213624,
          0.43885626370418596,
          0.9246292958749216,
          0.9828647671798342,
          0.914987999958696,
          0.9431558027181052,
          0.9035884646539702,
          0.9278430335849304,
          0.7976303824941167,
          0.9402211727050666,
          0.8269569547658844,
          0.7965504547600407,
          0.9608928824928309,
          0.8834981171465012,
          0.3881426644249168,
          0.76988180172117,
          0.7060054499317847,
          1,
          0.20728073847140263,
          0.9321347752823255,
          0.7787127137418164,
          0.8380057760218925,
          0.9364176306840848,
          0.9639519151977071,
          0.9607910756812139,
          0.9330290849436743,
          0.9970728540156035
         ],
         "xaxis": "x",
         "yaxis": "y"
        },
        {
         "alignmentgroup": "True",
         "bingroup": "x",
         "hovertemplate": "actual=0<br>prob=%{x}<br>count=%{y}<extra></extra>",
         "legendgroup": "0",
         "marker": {
          "color": "#EF553B",
          "opacity": 0.5,
          "pattern": {
           "shape": ""
          }
         },
         "name": "0",
         "offsetgroup": "0",
         "orientation": "v",
         "showlegend": true,
         "type": "histogram",
         "x": [
          0.051029359835725,
          0.04358223005593799,
          0.5295618583147224,
          0.10491238931652681,
          0.4737387019373971,
          0.052605124078540726,
          0.015729926742343574,
          0.036273066187245344,
          0.01235960890588121,
          0.0064713352931306265,
          0.38968921425423514,
          0.10827559615001589,
          0.8388419526180266,
          0.06351547307368316,
          0.2804690741434449,
          0.09250179065652536,
          0.4373986136343397,
          0.1803484019198492,
          0.006691042017021223,
          0.9475126751780346,
          0.36967522309058154,
          0.05979001815260264,
          0.29721845887587656,
          0.8014429875184862,
          0.10414868903184937,
          0.0803960194845589,
          0.01209983984591026,
          0.04281636112458734,
          0.47552325959078995,
          0.5967421821677572,
          0.019743779104397657,
          0.10918149503737523,
          0.15957732616364623,
          0.07318752987559868,
          0.1279441141074155,
          0.044852339509256794,
          0.020979870104680304,
          0.3190134188669258,
          0.5386345619919893,
          0.07045487847323949,
          0.6488167052139344,
          0.030281904309731374,
          0.039593622289432466,
          0.019297123025145017,
          0.3348805020592323,
          0.7121374614297934,
          0.14122613804426612,
          0.04764468225931186,
          0.43260648722407297,
          0.5945625341200206,
          0.04530954480428964,
          0.04732482673162282,
          0.006924954034569824,
          0.05528452897312124,
          0.02675898239575227,
          0.057070769575605966,
          0.042482162482425374,
          0.5035333361092654,
          0.09780017541120899,
          0.0341290972634379,
          0.015948107612260422,
          0.5309327636322502,
          0.042171118280028896,
          0.05931202062884686,
          0.08464871593061471,
          0.051856084271202176,
          0.03662568516984504,
          0.5387842688556409,
          0.8759092158335167,
          0.04002129917704045,
          0.05407513810258212,
          0.0429456971919338,
          0.029133334721917526,
          0.019299084991078568,
          0.17610007827789056,
          0.03905675107849668,
          0.026265511234861372,
          0.019591530557876196,
          0.47199200880836295,
          0.04362547343829082,
          0.07169222011378329,
          0.02750872904606007,
          0.7718297719136064,
          0.2475467752663916,
          0.27475327635343577,
          0.2576927208517809,
          0.032010868774252785,
          0.04051572208894236,
          0.039177779550014544,
          0.007532342929051627,
          0.004407114267315479,
          0.0690656208346241,
          0.41399522817581913,
          0.39485387063241817,
          0.049070996584804044,
          0.6503061181741707,
          0.34202574574010025,
          0.012712313921355987,
          0.20527259604140718,
          0.027737288401845788,
          0.6942829854191069,
          0.009928331854573291,
          0.4400358295341593,
          0.013231699523810892,
          0.3036429908566616,
          0.2594428763255704,
          0.024119167650802693,
          0.24606770082084178,
          0.05093831759391236,
          0.019812664870349026,
          0.37420142927925065,
          0.5364360579722824,
          0.09855424084815925,
          0.15876682248732032,
          0.533547322591146,
          0.9448876341962117,
          0.17236400467101864,
          0.6656666735022536,
          0.04036959153997837,
          0.0671192444884271,
          0.22992137755890887,
          0.9081235467284516,
          0.14457178684062683,
          0.6244948563786564,
          0.6466365532109541,
          0.2186675459266282,
          0.1055410679729412,
          0.15664748842775872,
          0.012940411250621857,
          0.645556106361111,
          0.18071361017736529,
          0.03446387161043537,
          0.047443931782420894,
          0.32136071350765716,
          0.32354105850926146,
          0.5882347157594727,
          0.06547406636041384,
          0.06356813080769359,
          0.10309485648423204,
          0.10852250794716922,
          0.010912394257223759,
          0.5476997618653322,
          0.0338411033687248,
          0.39364327484510536,
          0.481053321142724,
          0.017514781492884775,
          0.07291293953385374,
          0.059128187821884504,
          0.20663890416089764,
          0.2890303295810959,
          0.07119516604327415,
          0.08853107673141362,
          0.08360279597897624,
          0.13279946571073256,
          0.015322586542165612,
          0.051141067347286996,
          0.01786818740578537,
          0.03269302396471405,
          0.23389932448083214,
          0.05265194927047109,
          0.04920800703935187,
          0.14149054282584514,
          0.07555567992470728,
          0.08262588065261614,
          0.03858303820987669,
          0.48031826756138546,
          0.4417220245810834,
          0.05610464315734609,
          0.3905290503888436,
          0.018057021584283257,
          0.33969053705819463,
          0.07065618563800245,
          0.02725403279149396,
          0.011625447134703273,
          0.031135955371487733,
          0.02878774104813277,
          0.29888739308821227,
          0.7030964093192924,
          0.002940061975246319,
          0.18910491829394374,
          0.06891125767468975,
          0.4891653626835921,
          0.37746757004558373,
          0.20280338560159286,
          0.011013026462726496,
          0.016039948875215676,
          0.04577861354893886,
          0.01899057439642524,
          0.08309559830839718,
          0.5390736122539636,
          0.06408923840530731,
          0.03683211065448428,
          0.5992135247649164,
          0.33770396778602874,
          0.024204949412908426,
          0.2073898029107062,
          0.02201121434467644,
          0.021957517957645063,
          0.6075637234248172,
          0.3693155043201842
         ],
         "xaxis": "x",
         "yaxis": "y"
        }
       ],
       "layout": {
        "barmode": "overlay",
        "legend": {
         "title": {
          "text": "actual"
         },
         "tracegroupgap": 0
        },
        "template": {
         "data": {
          "bar": [
           {
            "error_x": {
             "color": "#2a3f5f"
            },
            "error_y": {
             "color": "#2a3f5f"
            },
            "marker": {
             "line": {
              "color": "#E5ECF6",
              "width": 0.5
             },
             "pattern": {
              "fillmode": "overlay",
              "size": 10,
              "solidity": 0.2
             }
            },
            "type": "bar"
           }
          ],
          "barpolar": [
           {
            "marker": {
             "line": {
              "color": "#E5ECF6",
              "width": 0.5
             },
             "pattern": {
              "fillmode": "overlay",
              "size": 10,
              "solidity": 0.2
             }
            },
            "type": "barpolar"
           }
          ],
          "carpet": [
           {
            "aaxis": {
             "endlinecolor": "#2a3f5f",
             "gridcolor": "white",
             "linecolor": "white",
             "minorgridcolor": "white",
             "startlinecolor": "#2a3f5f"
            },
            "baxis": {
             "endlinecolor": "#2a3f5f",
             "gridcolor": "white",
             "linecolor": "white",
             "minorgridcolor": "white",
             "startlinecolor": "#2a3f5f"
            },
            "type": "carpet"
           }
          ],
          "choropleth": [
           {
            "colorbar": {
             "outlinewidth": 0,
             "ticks": ""
            },
            "type": "choropleth"
           }
          ],
          "contour": [
           {
            "colorbar": {
             "outlinewidth": 0,
             "ticks": ""
            },
            "colorscale": [
             [
              0,
              "#0d0887"
             ],
             [
              0.1111111111111111,
              "#46039f"
             ],
             [
              0.2222222222222222,
              "#7201a8"
             ],
             [
              0.3333333333333333,
              "#9c179e"
             ],
             [
              0.4444444444444444,
              "#bd3786"
             ],
             [
              0.5555555555555556,
              "#d8576b"
             ],
             [
              0.6666666666666666,
              "#ed7953"
             ],
             [
              0.7777777777777778,
              "#fb9f3a"
             ],
             [
              0.8888888888888888,
              "#fdca26"
             ],
             [
              1,
              "#f0f921"
             ]
            ],
            "type": "contour"
           }
          ],
          "contourcarpet": [
           {
            "colorbar": {
             "outlinewidth": 0,
             "ticks": ""
            },
            "type": "contourcarpet"
           }
          ],
          "heatmap": [
           {
            "colorbar": {
             "outlinewidth": 0,
             "ticks": ""
            },
            "colorscale": [
             [
              0,
              "#0d0887"
             ],
             [
              0.1111111111111111,
              "#46039f"
             ],
             [
              0.2222222222222222,
              "#7201a8"
             ],
             [
              0.3333333333333333,
              "#9c179e"
             ],
             [
              0.4444444444444444,
              "#bd3786"
             ],
             [
              0.5555555555555556,
              "#d8576b"
             ],
             [
              0.6666666666666666,
              "#ed7953"
             ],
             [
              0.7777777777777778,
              "#fb9f3a"
             ],
             [
              0.8888888888888888,
              "#fdca26"
             ],
             [
              1,
              "#f0f921"
             ]
            ],
            "type": "heatmap"
           }
          ],
          "heatmapgl": [
           {
            "colorbar": {
             "outlinewidth": 0,
             "ticks": ""
            },
            "colorscale": [
             [
              0,
              "#0d0887"
             ],
             [
              0.1111111111111111,
              "#46039f"
             ],
             [
              0.2222222222222222,
              "#7201a8"
             ],
             [
              0.3333333333333333,
              "#9c179e"
             ],
             [
              0.4444444444444444,
              "#bd3786"
             ],
             [
              0.5555555555555556,
              "#d8576b"
             ],
             [
              0.6666666666666666,
              "#ed7953"
             ],
             [
              0.7777777777777778,
              "#fb9f3a"
             ],
             [
              0.8888888888888888,
              "#fdca26"
             ],
             [
              1,
              "#f0f921"
             ]
            ],
            "type": "heatmapgl"
           }
          ],
          "histogram": [
           {
            "marker": {
             "pattern": {
              "fillmode": "overlay",
              "size": 10,
              "solidity": 0.2
             }
            },
            "type": "histogram"
           }
          ],
          "histogram2d": [
           {
            "colorbar": {
             "outlinewidth": 0,
             "ticks": ""
            },
            "colorscale": [
             [
              0,
              "#0d0887"
             ],
             [
              0.1111111111111111,
              "#46039f"
             ],
             [
              0.2222222222222222,
              "#7201a8"
             ],
             [
              0.3333333333333333,
              "#9c179e"
             ],
             [
              0.4444444444444444,
              "#bd3786"
             ],
             [
              0.5555555555555556,
              "#d8576b"
             ],
             [
              0.6666666666666666,
              "#ed7953"
             ],
             [
              0.7777777777777778,
              "#fb9f3a"
             ],
             [
              0.8888888888888888,
              "#fdca26"
             ],
             [
              1,
              "#f0f921"
             ]
            ],
            "type": "histogram2d"
           }
          ],
          "histogram2dcontour": [
           {
            "colorbar": {
             "outlinewidth": 0,
             "ticks": ""
            },
            "colorscale": [
             [
              0,
              "#0d0887"
             ],
             [
              0.1111111111111111,
              "#46039f"
             ],
             [
              0.2222222222222222,
              "#7201a8"
             ],
             [
              0.3333333333333333,
              "#9c179e"
             ],
             [
              0.4444444444444444,
              "#bd3786"
             ],
             [
              0.5555555555555556,
              "#d8576b"
             ],
             [
              0.6666666666666666,
              "#ed7953"
             ],
             [
              0.7777777777777778,
              "#fb9f3a"
             ],
             [
              0.8888888888888888,
              "#fdca26"
             ],
             [
              1,
              "#f0f921"
             ]
            ],
            "type": "histogram2dcontour"
           }
          ],
          "mesh3d": [
           {
            "colorbar": {
             "outlinewidth": 0,
             "ticks": ""
            },
            "type": "mesh3d"
           }
          ],
          "parcoords": [
           {
            "line": {
             "colorbar": {
              "outlinewidth": 0,
              "ticks": ""
             }
            },
            "type": "parcoords"
           }
          ],
          "pie": [
           {
            "automargin": true,
            "type": "pie"
           }
          ],
          "scatter": [
           {
            "fillpattern": {
             "fillmode": "overlay",
             "size": 10,
             "solidity": 0.2
            },
            "type": "scatter"
           }
          ],
          "scatter3d": [
           {
            "line": {
             "colorbar": {
              "outlinewidth": 0,
              "ticks": ""
             }
            },
            "marker": {
             "colorbar": {
              "outlinewidth": 0,
              "ticks": ""
             }
            },
            "type": "scatter3d"
           }
          ],
          "scattercarpet": [
           {
            "marker": {
             "colorbar": {
              "outlinewidth": 0,
              "ticks": ""
             }
            },
            "type": "scattercarpet"
           }
          ],
          "scattergeo": [
           {
            "marker": {
             "colorbar": {
              "outlinewidth": 0,
              "ticks": ""
             }
            },
            "type": "scattergeo"
           }
          ],
          "scattergl": [
           {
            "marker": {
             "colorbar": {
              "outlinewidth": 0,
              "ticks": ""
             }
            },
            "type": "scattergl"
           }
          ],
          "scattermapbox": [
           {
            "marker": {
             "colorbar": {
              "outlinewidth": 0,
              "ticks": ""
             }
            },
            "type": "scattermapbox"
           }
          ],
          "scatterpolar": [
           {
            "marker": {
             "colorbar": {
              "outlinewidth": 0,
              "ticks": ""
             }
            },
            "type": "scatterpolar"
           }
          ],
          "scatterpolargl": [
           {
            "marker": {
             "colorbar": {
              "outlinewidth": 0,
              "ticks": ""
             }
            },
            "type": "scatterpolargl"
           }
          ],
          "scatterternary": [
           {
            "marker": {
             "colorbar": {
              "outlinewidth": 0,
              "ticks": ""
             }
            },
            "type": "scatterternary"
           }
          ],
          "surface": [
           {
            "colorbar": {
             "outlinewidth": 0,
             "ticks": ""
            },
            "colorscale": [
             [
              0,
              "#0d0887"
             ],
             [
              0.1111111111111111,
              "#46039f"
             ],
             [
              0.2222222222222222,
              "#7201a8"
             ],
             [
              0.3333333333333333,
              "#9c179e"
             ],
             [
              0.4444444444444444,
              "#bd3786"
             ],
             [
              0.5555555555555556,
              "#d8576b"
             ],
             [
              0.6666666666666666,
              "#ed7953"
             ],
             [
              0.7777777777777778,
              "#fb9f3a"
             ],
             [
              0.8888888888888888,
              "#fdca26"
             ],
             [
              1,
              "#f0f921"
             ]
            ],
            "type": "surface"
           }
          ],
          "table": [
           {
            "cells": {
             "fill": {
              "color": "#EBF0F8"
             },
             "line": {
              "color": "white"
             }
            },
            "header": {
             "fill": {
              "color": "#C8D4E3"
             },
             "line": {
              "color": "white"
             }
            },
            "type": "table"
           }
          ]
         },
         "layout": {
          "annotationdefaults": {
           "arrowcolor": "#2a3f5f",
           "arrowhead": 0,
           "arrowwidth": 1
          },
          "autotypenumbers": "strict",
          "coloraxis": {
           "colorbar": {
            "outlinewidth": 0,
            "ticks": ""
           }
          },
          "colorscale": {
           "diverging": [
            [
             0,
             "#8e0152"
            ],
            [
             0.1,
             "#c51b7d"
            ],
            [
             0.2,
             "#de77ae"
            ],
            [
             0.3,
             "#f1b6da"
            ],
            [
             0.4,
             "#fde0ef"
            ],
            [
             0.5,
             "#f7f7f7"
            ],
            [
             0.6,
             "#e6f5d0"
            ],
            [
             0.7,
             "#b8e186"
            ],
            [
             0.8,
             "#7fbc41"
            ],
            [
             0.9,
             "#4d9221"
            ],
            [
             1,
             "#276419"
            ]
           ],
           "sequential": [
            [
             0,
             "#0d0887"
            ],
            [
             0.1111111111111111,
             "#46039f"
            ],
            [
             0.2222222222222222,
             "#7201a8"
            ],
            [
             0.3333333333333333,
             "#9c179e"
            ],
            [
             0.4444444444444444,
             "#bd3786"
            ],
            [
             0.5555555555555556,
             "#d8576b"
            ],
            [
             0.6666666666666666,
             "#ed7953"
            ],
            [
             0.7777777777777778,
             "#fb9f3a"
            ],
            [
             0.8888888888888888,
             "#fdca26"
            ],
            [
             1,
             "#f0f921"
            ]
           ],
           "sequentialminus": [
            [
             0,
             "#0d0887"
            ],
            [
             0.1111111111111111,
             "#46039f"
            ],
            [
             0.2222222222222222,
             "#7201a8"
            ],
            [
             0.3333333333333333,
             "#9c179e"
            ],
            [
             0.4444444444444444,
             "#bd3786"
            ],
            [
             0.5555555555555556,
             "#d8576b"
            ],
            [
             0.6666666666666666,
             "#ed7953"
            ],
            [
             0.7777777777777778,
             "#fb9f3a"
            ],
            [
             0.8888888888888888,
             "#fdca26"
            ],
            [
             1,
             "#f0f921"
            ]
           ]
          },
          "colorway": [
           "#636efa",
           "#EF553B",
           "#00cc96",
           "#ab63fa",
           "#FFA15A",
           "#19d3f3",
           "#FF6692",
           "#B6E880",
           "#FF97FF",
           "#FECB52"
          ],
          "font": {
           "color": "#2a3f5f"
          },
          "geo": {
           "bgcolor": "white",
           "lakecolor": "white",
           "landcolor": "#E5ECF6",
           "showlakes": true,
           "showland": true,
           "subunitcolor": "white"
          },
          "hoverlabel": {
           "align": "left"
          },
          "hovermode": "closest",
          "mapbox": {
           "style": "light"
          },
          "paper_bgcolor": "white",
          "plot_bgcolor": "#E5ECF6",
          "polar": {
           "angularaxis": {
            "gridcolor": "white",
            "linecolor": "white",
            "ticks": ""
           },
           "bgcolor": "#E5ECF6",
           "radialaxis": {
            "gridcolor": "white",
            "linecolor": "white",
            "ticks": ""
           }
          },
          "scene": {
           "xaxis": {
            "backgroundcolor": "#E5ECF6",
            "gridcolor": "white",
            "gridwidth": 2,
            "linecolor": "white",
            "showbackground": true,
            "ticks": "",
            "zerolinecolor": "white"
           },
           "yaxis": {
            "backgroundcolor": "#E5ECF6",
            "gridcolor": "white",
            "gridwidth": 2,
            "linecolor": "white",
            "showbackground": true,
            "ticks": "",
            "zerolinecolor": "white"
           },
           "zaxis": {
            "backgroundcolor": "#E5ECF6",
            "gridcolor": "white",
            "gridwidth": 2,
            "linecolor": "white",
            "showbackground": true,
            "ticks": "",
            "zerolinecolor": "white"
           }
          },
          "shapedefaults": {
           "line": {
            "color": "#2a3f5f"
           }
          },
          "ternary": {
           "aaxis": {
            "gridcolor": "white",
            "linecolor": "white",
            "ticks": ""
           },
           "baxis": {
            "gridcolor": "white",
            "linecolor": "white",
            "ticks": ""
           },
           "bgcolor": "#E5ECF6",
           "caxis": {
            "gridcolor": "white",
            "linecolor": "white",
            "ticks": ""
           }
          },
          "title": {
           "x": 0.05
          },
          "xaxis": {
           "automargin": true,
           "gridcolor": "white",
           "linecolor": "white",
           "ticks": "",
           "title": {
            "standoff": 15
           },
           "zerolinecolor": "white",
           "zerolinewidth": 2
          },
          "yaxis": {
           "automargin": true,
           "gridcolor": "white",
           "linecolor": "white",
           "ticks": "",
           "title": {
            "standoff": 15
           },
           "zerolinecolor": "white",
           "zerolinewidth": 2
          }
         }
        },
        "title": {
         "text": "Predicted Probability Densities"
        },
        "xaxis": {
         "anchor": "y",
         "domain": [
          0,
          1
         ],
         "title": {
          "text": "prob"
         }
        },
        "yaxis": {
         "anchor": "x",
         "domain": [
          0,
          1
         ],
         "title": {
          "text": "count"
         }
        }
       }
      }
     },
     "metadata": {},
     "output_type": "display_data"
    }
   ],
   "source": [
    "# Predicted probability densities \n",
    "px.histogram(pred_val, x=\"prob\", color=\"actual\", opacity=0.5, barmode=\"overlay\", title=\"Predicted Probability Densities\")"
   ]
  },
  {
   "cell_type": "code",
   "execution_count": 10,
   "metadata": {},
   "outputs": [],
   "source": [
    "# ROC Curve\n",
    "\n",
    "lr_fpr, lr_tpr, lr_thresholds = metrics.roc_curve(y_true=pred_val[\"actual\"], y_score=pred_val[\"prob\"])\n"
   ]
  },
  {
   "cell_type": "code",
   "execution_count": 11,
   "metadata": {},
   "outputs": [
    {
     "data": {
      "application/vnd.plotly.v1+json": {
       "config": {
        "plotlyServerURL": "https://plot.ly"
       },
       "data": [
        {
         "hovertemplate": "Model=Logistic Regression<br>False Positive Rate=%{x}<br>True Positive Rate=%{y}<extra></extra>",
         "legendgroup": "Logistic Regression",
         "line": {
          "color": "#636efa",
          "dash": "solid"
         },
         "marker": {
          "symbol": "circle"
         },
         "mode": "lines",
         "name": "Logistic Regression",
         "orientation": "v",
         "showlegend": true,
         "type": "scatter",
         "x": [
          0,
          0,
          0,
          0.01,
          0.01,
          0.015,
          0.015,
          0.02,
          0.02,
          0.025,
          0.025,
          0.03,
          0.03,
          0.035,
          0.035,
          0.04,
          0.04,
          0.05,
          0.05,
          0.07,
          0.07,
          0.075,
          0.075,
          0.08,
          0.08,
          0.085,
          0.085,
          0.105,
          0.105,
          0.11,
          0.11,
          0.13,
          0.13,
          0.145,
          0.145,
          0.18,
          0.18,
          0.19,
          0.19,
          0.225,
          0.225,
          0.28,
          0.28,
          0.29,
          0.29,
          0.32,
          0.32,
          0.33,
          0.33,
          0.345,
          0.345,
          0.35,
          0.35,
          0.37,
          0.37,
          0.38,
          0.38,
          0.385,
          0.385,
          0.43,
          0.43,
          0.505,
          0.505,
          0.515,
          0.515,
          0.67,
          0.67,
          0.735,
          0.735,
          1,
          1
         ],
         "xaxis": "x",
         "y": [
          0,
          0.005,
          0.43,
          0.43,
          0.58,
          0.58,
          0.645,
          0.645,
          0.695,
          0.695,
          0.72,
          0.72,
          0.76,
          0.76,
          0.82,
          0.82,
          0.83,
          0.83,
          0.835,
          0.835,
          0.84,
          0.84,
          0.85,
          0.85,
          0.855,
          0.855,
          0.865,
          0.865,
          0.88,
          0.88,
          0.89,
          0.89,
          0.895,
          0.895,
          0.9,
          0.9,
          0.915,
          0.915,
          0.92,
          0.92,
          0.925,
          0.925,
          0.93,
          0.93,
          0.935,
          0.935,
          0.94,
          0.94,
          0.945,
          0.945,
          0.95,
          0.95,
          0.955,
          0.955,
          0.96,
          0.96,
          0.965,
          0.965,
          0.97,
          0.97,
          0.975,
          0.975,
          0.98,
          0.98,
          0.985,
          0.985,
          0.99,
          0.99,
          0.995,
          0.995,
          1
         ],
         "yaxis": "y"
        }
       ],
       "layout": {
        "legend": {
         "title": {
          "text": "Model"
         },
         "tracegroupgap": 0
        },
        "template": {
         "data": {
          "bar": [
           {
            "error_x": {
             "color": "#2a3f5f"
            },
            "error_y": {
             "color": "#2a3f5f"
            },
            "marker": {
             "line": {
              "color": "#E5ECF6",
              "width": 0.5
             },
             "pattern": {
              "fillmode": "overlay",
              "size": 10,
              "solidity": 0.2
             }
            },
            "type": "bar"
           }
          ],
          "barpolar": [
           {
            "marker": {
             "line": {
              "color": "#E5ECF6",
              "width": 0.5
             },
             "pattern": {
              "fillmode": "overlay",
              "size": 10,
              "solidity": 0.2
             }
            },
            "type": "barpolar"
           }
          ],
          "carpet": [
           {
            "aaxis": {
             "endlinecolor": "#2a3f5f",
             "gridcolor": "white",
             "linecolor": "white",
             "minorgridcolor": "white",
             "startlinecolor": "#2a3f5f"
            },
            "baxis": {
             "endlinecolor": "#2a3f5f",
             "gridcolor": "white",
             "linecolor": "white",
             "minorgridcolor": "white",
             "startlinecolor": "#2a3f5f"
            },
            "type": "carpet"
           }
          ],
          "choropleth": [
           {
            "colorbar": {
             "outlinewidth": 0,
             "ticks": ""
            },
            "type": "choropleth"
           }
          ],
          "contour": [
           {
            "colorbar": {
             "outlinewidth": 0,
             "ticks": ""
            },
            "colorscale": [
             [
              0,
              "#0d0887"
             ],
             [
              0.1111111111111111,
              "#46039f"
             ],
             [
              0.2222222222222222,
              "#7201a8"
             ],
             [
              0.3333333333333333,
              "#9c179e"
             ],
             [
              0.4444444444444444,
              "#bd3786"
             ],
             [
              0.5555555555555556,
              "#d8576b"
             ],
             [
              0.6666666666666666,
              "#ed7953"
             ],
             [
              0.7777777777777778,
              "#fb9f3a"
             ],
             [
              0.8888888888888888,
              "#fdca26"
             ],
             [
              1,
              "#f0f921"
             ]
            ],
            "type": "contour"
           }
          ],
          "contourcarpet": [
           {
            "colorbar": {
             "outlinewidth": 0,
             "ticks": ""
            },
            "type": "contourcarpet"
           }
          ],
          "heatmap": [
           {
            "colorbar": {
             "outlinewidth": 0,
             "ticks": ""
            },
            "colorscale": [
             [
              0,
              "#0d0887"
             ],
             [
              0.1111111111111111,
              "#46039f"
             ],
             [
              0.2222222222222222,
              "#7201a8"
             ],
             [
              0.3333333333333333,
              "#9c179e"
             ],
             [
              0.4444444444444444,
              "#bd3786"
             ],
             [
              0.5555555555555556,
              "#d8576b"
             ],
             [
              0.6666666666666666,
              "#ed7953"
             ],
             [
              0.7777777777777778,
              "#fb9f3a"
             ],
             [
              0.8888888888888888,
              "#fdca26"
             ],
             [
              1,
              "#f0f921"
             ]
            ],
            "type": "heatmap"
           }
          ],
          "heatmapgl": [
           {
            "colorbar": {
             "outlinewidth": 0,
             "ticks": ""
            },
            "colorscale": [
             [
              0,
              "#0d0887"
             ],
             [
              0.1111111111111111,
              "#46039f"
             ],
             [
              0.2222222222222222,
              "#7201a8"
             ],
             [
              0.3333333333333333,
              "#9c179e"
             ],
             [
              0.4444444444444444,
              "#bd3786"
             ],
             [
              0.5555555555555556,
              "#d8576b"
             ],
             [
              0.6666666666666666,
              "#ed7953"
             ],
             [
              0.7777777777777778,
              "#fb9f3a"
             ],
             [
              0.8888888888888888,
              "#fdca26"
             ],
             [
              1,
              "#f0f921"
             ]
            ],
            "type": "heatmapgl"
           }
          ],
          "histogram": [
           {
            "marker": {
             "pattern": {
              "fillmode": "overlay",
              "size": 10,
              "solidity": 0.2
             }
            },
            "type": "histogram"
           }
          ],
          "histogram2d": [
           {
            "colorbar": {
             "outlinewidth": 0,
             "ticks": ""
            },
            "colorscale": [
             [
              0,
              "#0d0887"
             ],
             [
              0.1111111111111111,
              "#46039f"
             ],
             [
              0.2222222222222222,
              "#7201a8"
             ],
             [
              0.3333333333333333,
              "#9c179e"
             ],
             [
              0.4444444444444444,
              "#bd3786"
             ],
             [
              0.5555555555555556,
              "#d8576b"
             ],
             [
              0.6666666666666666,
              "#ed7953"
             ],
             [
              0.7777777777777778,
              "#fb9f3a"
             ],
             [
              0.8888888888888888,
              "#fdca26"
             ],
             [
              1,
              "#f0f921"
             ]
            ],
            "type": "histogram2d"
           }
          ],
          "histogram2dcontour": [
           {
            "colorbar": {
             "outlinewidth": 0,
             "ticks": ""
            },
            "colorscale": [
             [
              0,
              "#0d0887"
             ],
             [
              0.1111111111111111,
              "#46039f"
             ],
             [
              0.2222222222222222,
              "#7201a8"
             ],
             [
              0.3333333333333333,
              "#9c179e"
             ],
             [
              0.4444444444444444,
              "#bd3786"
             ],
             [
              0.5555555555555556,
              "#d8576b"
             ],
             [
              0.6666666666666666,
              "#ed7953"
             ],
             [
              0.7777777777777778,
              "#fb9f3a"
             ],
             [
              0.8888888888888888,
              "#fdca26"
             ],
             [
              1,
              "#f0f921"
             ]
            ],
            "type": "histogram2dcontour"
           }
          ],
          "mesh3d": [
           {
            "colorbar": {
             "outlinewidth": 0,
             "ticks": ""
            },
            "type": "mesh3d"
           }
          ],
          "parcoords": [
           {
            "line": {
             "colorbar": {
              "outlinewidth": 0,
              "ticks": ""
             }
            },
            "type": "parcoords"
           }
          ],
          "pie": [
           {
            "automargin": true,
            "type": "pie"
           }
          ],
          "scatter": [
           {
            "fillpattern": {
             "fillmode": "overlay",
             "size": 10,
             "solidity": 0.2
            },
            "type": "scatter"
           }
          ],
          "scatter3d": [
           {
            "line": {
             "colorbar": {
              "outlinewidth": 0,
              "ticks": ""
             }
            },
            "marker": {
             "colorbar": {
              "outlinewidth": 0,
              "ticks": ""
             }
            },
            "type": "scatter3d"
           }
          ],
          "scattercarpet": [
           {
            "marker": {
             "colorbar": {
              "outlinewidth": 0,
              "ticks": ""
             }
            },
            "type": "scattercarpet"
           }
          ],
          "scattergeo": [
           {
            "marker": {
             "colorbar": {
              "outlinewidth": 0,
              "ticks": ""
             }
            },
            "type": "scattergeo"
           }
          ],
          "scattergl": [
           {
            "marker": {
             "colorbar": {
              "outlinewidth": 0,
              "ticks": ""
             }
            },
            "type": "scattergl"
           }
          ],
          "scattermapbox": [
           {
            "marker": {
             "colorbar": {
              "outlinewidth": 0,
              "ticks": ""
             }
            },
            "type": "scattermapbox"
           }
          ],
          "scatterpolar": [
           {
            "marker": {
             "colorbar": {
              "outlinewidth": 0,
              "ticks": ""
             }
            },
            "type": "scatterpolar"
           }
          ],
          "scatterpolargl": [
           {
            "marker": {
             "colorbar": {
              "outlinewidth": 0,
              "ticks": ""
             }
            },
            "type": "scatterpolargl"
           }
          ],
          "scatterternary": [
           {
            "marker": {
             "colorbar": {
              "outlinewidth": 0,
              "ticks": ""
             }
            },
            "type": "scatterternary"
           }
          ],
          "surface": [
           {
            "colorbar": {
             "outlinewidth": 0,
             "ticks": ""
            },
            "colorscale": [
             [
              0,
              "#0d0887"
             ],
             [
              0.1111111111111111,
              "#46039f"
             ],
             [
              0.2222222222222222,
              "#7201a8"
             ],
             [
              0.3333333333333333,
              "#9c179e"
             ],
             [
              0.4444444444444444,
              "#bd3786"
             ],
             [
              0.5555555555555556,
              "#d8576b"
             ],
             [
              0.6666666666666666,
              "#ed7953"
             ],
             [
              0.7777777777777778,
              "#fb9f3a"
             ],
             [
              0.8888888888888888,
              "#fdca26"
             ],
             [
              1,
              "#f0f921"
             ]
            ],
            "type": "surface"
           }
          ],
          "table": [
           {
            "cells": {
             "fill": {
              "color": "#EBF0F8"
             },
             "line": {
              "color": "white"
             }
            },
            "header": {
             "fill": {
              "color": "#C8D4E3"
             },
             "line": {
              "color": "white"
             }
            },
            "type": "table"
           }
          ]
         },
         "layout": {
          "annotationdefaults": {
           "arrowcolor": "#2a3f5f",
           "arrowhead": 0,
           "arrowwidth": 1
          },
          "autotypenumbers": "strict",
          "coloraxis": {
           "colorbar": {
            "outlinewidth": 0,
            "ticks": ""
           }
          },
          "colorscale": {
           "diverging": [
            [
             0,
             "#8e0152"
            ],
            [
             0.1,
             "#c51b7d"
            ],
            [
             0.2,
             "#de77ae"
            ],
            [
             0.3,
             "#f1b6da"
            ],
            [
             0.4,
             "#fde0ef"
            ],
            [
             0.5,
             "#f7f7f7"
            ],
            [
             0.6,
             "#e6f5d0"
            ],
            [
             0.7,
             "#b8e186"
            ],
            [
             0.8,
             "#7fbc41"
            ],
            [
             0.9,
             "#4d9221"
            ],
            [
             1,
             "#276419"
            ]
           ],
           "sequential": [
            [
             0,
             "#0d0887"
            ],
            [
             0.1111111111111111,
             "#46039f"
            ],
            [
             0.2222222222222222,
             "#7201a8"
            ],
            [
             0.3333333333333333,
             "#9c179e"
            ],
            [
             0.4444444444444444,
             "#bd3786"
            ],
            [
             0.5555555555555556,
             "#d8576b"
            ],
            [
             0.6666666666666666,
             "#ed7953"
            ],
            [
             0.7777777777777778,
             "#fb9f3a"
            ],
            [
             0.8888888888888888,
             "#fdca26"
            ],
            [
             1,
             "#f0f921"
            ]
           ],
           "sequentialminus": [
            [
             0,
             "#0d0887"
            ],
            [
             0.1111111111111111,
             "#46039f"
            ],
            [
             0.2222222222222222,
             "#7201a8"
            ],
            [
             0.3333333333333333,
             "#9c179e"
            ],
            [
             0.4444444444444444,
             "#bd3786"
            ],
            [
             0.5555555555555556,
             "#d8576b"
            ],
            [
             0.6666666666666666,
             "#ed7953"
            ],
            [
             0.7777777777777778,
             "#fb9f3a"
            ],
            [
             0.8888888888888888,
             "#fdca26"
            ],
            [
             1,
             "#f0f921"
            ]
           ]
          },
          "colorway": [
           "#636efa",
           "#EF553B",
           "#00cc96",
           "#ab63fa",
           "#FFA15A",
           "#19d3f3",
           "#FF6692",
           "#B6E880",
           "#FF97FF",
           "#FECB52"
          ],
          "font": {
           "color": "#2a3f5f"
          },
          "geo": {
           "bgcolor": "white",
           "lakecolor": "white",
           "landcolor": "#E5ECF6",
           "showlakes": true,
           "showland": true,
           "subunitcolor": "white"
          },
          "hoverlabel": {
           "align": "left"
          },
          "hovermode": "closest",
          "mapbox": {
           "style": "light"
          },
          "paper_bgcolor": "white",
          "plot_bgcolor": "#E5ECF6",
          "polar": {
           "angularaxis": {
            "gridcolor": "white",
            "linecolor": "white",
            "ticks": ""
           },
           "bgcolor": "#E5ECF6",
           "radialaxis": {
            "gridcolor": "white",
            "linecolor": "white",
            "ticks": ""
           }
          },
          "scene": {
           "xaxis": {
            "backgroundcolor": "#E5ECF6",
            "gridcolor": "white",
            "gridwidth": 2,
            "linecolor": "white",
            "showbackground": true,
            "ticks": "",
            "zerolinecolor": "white"
           },
           "yaxis": {
            "backgroundcolor": "#E5ECF6",
            "gridcolor": "white",
            "gridwidth": 2,
            "linecolor": "white",
            "showbackground": true,
            "ticks": "",
            "zerolinecolor": "white"
           },
           "zaxis": {
            "backgroundcolor": "#E5ECF6",
            "gridcolor": "white",
            "gridwidth": 2,
            "linecolor": "white",
            "showbackground": true,
            "ticks": "",
            "zerolinecolor": "white"
           }
          },
          "shapedefaults": {
           "line": {
            "color": "#2a3f5f"
           }
          },
          "ternary": {
           "aaxis": {
            "gridcolor": "white",
            "linecolor": "white",
            "ticks": ""
           },
           "baxis": {
            "gridcolor": "white",
            "linecolor": "white",
            "ticks": ""
           },
           "bgcolor": "#E5ECF6",
           "caxis": {
            "gridcolor": "white",
            "linecolor": "white",
            "ticks": ""
           }
          },
          "title": {
           "x": 0.05
          },
          "xaxis": {
           "automargin": true,
           "gridcolor": "white",
           "linecolor": "white",
           "ticks": "",
           "title": {
            "standoff": 15
           },
           "zerolinecolor": "white",
           "zerolinewidth": 2
          },
          "yaxis": {
           "automargin": true,
           "gridcolor": "white",
           "linecolor": "white",
           "ticks": "",
           "title": {
            "standoff": 15
           },
           "zerolinecolor": "white",
           "zerolinewidth": 2
          }
         }
        },
        "title": {
         "text": "LR ROC Curve"
        },
        "xaxis": {
         "anchor": "y",
         "domain": [
          0,
          1
         ],
         "title": {
          "text": "False Positive Rate"
         }
        },
        "yaxis": {
         "anchor": "x",
         "domain": [
          0,
          1
         ],
         "title": {
          "text": "True Positive Rate"
         }
        }
       }
      }
     },
     "metadata": {},
     "output_type": "display_data"
    }
   ],
   "source": [
    "roc_lr = pd.DataFrame({\"False Positive Rate\": lr_fpr, \"True Positive Rate\": lr_tpr, \"Model\": \"Logistic Regression\"}, index=lr_thresholds)\n",
    "roc_df = pd.concat([roc_lr]) # This concatenation is necessary for the plot to work\n",
    "px.line(roc_df, y=\"True Positive Rate\", x=\"False Positive Rate\", color=\"Model\", title=\"LR ROC Curve\")"
   ]
  },
  {
   "cell_type": "code",
   "execution_count": 12,
   "metadata": {},
   "outputs": [
    {
     "name": "stdout",
     "output_type": "stream",
     "text": [
      "Logistic Regression AUC: 0.946\n"
     ]
    }
   ],
   "source": [
    "# Compute AUC\n",
    "lr_auc = metrics.roc_auc_score(y_true=pred_val[\"actual\"].replace({genre_1: 1, genre_2: 0}), y_score=pred_val[\"prob\"])\n",
    "print(\"Logistic Regression AUC:\", lr_auc.round(3))\n",
    "\n",
    "# The AUC measures the area under the ROC curve. The closer the AUC is to 1, the better the model is at distinguishing between the two classes.\n",
    "# AUC is threshold independent - it summarizes performance over all possible classification thresholds\n",
    "# The AUC is also robust to class imbalance, as it considers the trade-off between sensitivity and specificity (this makes it a more informative metric when class distributions are skewed)\n",
    "# If a model's AUC is 0 <= X <= 1, it means that it can distinguish between positive and negative cases with a probability of X"
   ]
  },
  {
   "cell_type": "code",
   "execution_count": 13,
   "metadata": {},
   "outputs": [
    {
     "data": {
      "text/plain": [
       "array(['danceability', 'acousticness', 'instrumentalness',\n",
       "       'time_signature'], dtype=object)"
      ]
     },
     "execution_count": 13,
     "metadata": {},
     "output_type": "execute_result"
    }
   ],
   "source": [
    "# # Side note: forward selection code \n",
    "# from sklearn.feature_selection import SequentialFeatureSelector\n",
    "\n",
    "# # Only look at a subset of the data to speed up the computation\n",
    "# logistic_data_train_sub = logistic_data_train.iloc[:1000]\n",
    "\n",
    "# selector = SequentialFeatureSelector(\n",
    "#     lr_all,\n",
    "#     n_features_to_select=4,\n",
    "#     direction='forward',\n",
    "#     scoring='accuracy',\n",
    "#     cv = 5\n",
    "# )\n",
    "\n",
    "# selector.fit(X=logistic_data_train_sub.drop(columns=\"track_genre\"), y=logistic_data_train_sub[\"track_genre\"])\n",
    "# selector.get_feature_names_out()"
   ]
  },
  {
   "cell_type": "code",
   "execution_count": 14,
   "metadata": {},
   "outputs": [
    {
     "data": {
      "text/plain": [
       "array([0.99554688, 0.99697327, 0.99347484, 0.99544025, 0.99752358])"
      ]
     },
     "execution_count": 14,
     "metadata": {},
     "output_type": "execute_result"
    }
   ],
   "source": [
    "# Using CV to evaluate model performance \n",
    "from sklearn.model_selection import cross_val_score\n",
    "# predictor_variables = selector.get_feature_names_out()\n",
    "predictor_variables = ['danceability', 'acousticness', 'instrumentalness','time_signature']\n",
    "\n",
    "cross_val_score(lr_all, logistic_data_train[predictor_variables], logistic_data_train[\"track_genre\"], cv=5, scoring=\"roc_auc\")\n",
    "# Accuracy for each fold:"
   ]
  },
  {
   "cell_type": "markdown",
   "metadata": {},
   "source": [
    "We chose the threshold for positive predictions by looking at the proportion of positive class labels in the training data. During the initial set up of the model, we chose the two genres that had the same proportion in the original data. Furthermore, when splitting the data into training and validation sets we used the stratify parameter to ensure that the proportion of the two genres was the same in both the training and validation sets. Thus our threshold for positive predictions is 0.5."
   ]
  }
 ],
 "metadata": {
  "kernelspec": {
   "display_name": "base",
   "language": "python",
   "name": "python3"
  },
  "language_info": {
   "codemirror_mode": {
    "name": "ipython",
    "version": 3
   },
   "file_extension": ".py",
   "mimetype": "text/x-python",
   "name": "python",
   "nbconvert_exporter": "python",
   "pygments_lexer": "ipython3",
   "version": "3.11.7"
  }
 },
 "nbformat": 4,
 "nbformat_minor": 2
}
